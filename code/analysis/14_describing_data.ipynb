{
 "cells": [
  {
   "cell_type": "markdown",
   "metadata": {},
   "source": [
    "# 14. Describing Data"
   ]
  },
  {
   "cell_type": "markdown",
   "metadata": {},
   "source": [
    "> \"Facts are stubborn things, but statistics are pliable.” ~ Mark Twain\n",
    "\n",
    "> “Most people use statistics like a drunk man uses a lamppost; more for support than illumination” ~ Andrew Lang\n",
    "\n",
    "> “Statistics don't determine whether you find love or get married. You do!” ~ Suzette Vearnon "
   ]
  },
  {
   "cell_type": "markdown",
   "metadata": {},
   "source": [
    "![inequality](https://i1.wp.com/flowingdata.com/wp-content/uploads/2020/12/Tudor-Networks.png?resize=1536%2C1439&ssl=1)\n",
    "**Source:** [Tudor Networks by Kim Albrecht, Ruth Ahnert, and Sebastian Ahnert](http://tudornetworks.net/)\n",
    "\n",
    "**What are descriptive statistics?**\n",
    "\n",
    "Descriptive Statistics is the process of describing and presenting your data. This is usually done through tables, visualisations and written descriptions of data. For example, if you conduct a survey to find out how much people like a particular brand, you will want to report the number of people that took the survey (the count), the average, minimum, and maximum age or even the median income of every respondant. With these data alone, we could move onto to making more informed and important decisions.\n",
    "\n",
    "In the previous survey example, every survey taker would be a row, and every question in that survey would form the columns (see the table below). Income, age, and favourite brand, would all represent different arrays or vectors of information in a two-dimensional matrix or dataset.\n",
    "\n",
    "|    Name   |   Income  |  Age  | Favourite Brand |\n",
    "|-----------|-----------|-------|-----------------|\n",
    "|  Abraham  |   70,000  |   25  |   Nike          |\n",
    "|  Lisa     |  110,000  |   31  |   Apple         |\n",
    "|  Mark     |   80,000  |   24  |   Garmin        |\n",
    "|  Penelope |   55,000  |   49  |   Microsoft     |\n",
    "|  Michaela |   74,000  |   51  |   ZARA          |\n",
    "|  Nicholas |   61,000  |   36  |   Adiddas       |\n",
    "\n",
    "Every one of these arrays can represent a categrorical or quantitative variable. Since data are often messy and even unstructured, we might also find other data structures, or free text (long strings) as the elements of a table like the one above. For the most part though, we will focus on the two types of variables we will often see, quantitative and categorical variables to describe our dataset.\n",
    "\n",
    "Descriptive statistics are often shown through tables and visualisations. For example, imagine you'd like to know how the average life expectancy of people at age 60 in different countries has changed over time. That visualisation would look like the one below.\n",
    "\n",
    "![life_exp](pictures/live_exp.png)\n",
    "\n",
    "__So what should we look for when we want to describe data?__ We want to look for information that gives us facts about the data, such as the most common value of a set of characteristics, how far is a given value in a variable from the average value of that same variable (e.g. how far is the age of a teacher selected at random in all the schools in Sydney from the average age of all teachers in New South Wales). These two kinds of values, the average of a set and the variability of each value in a set, are part of what is known as measures of central tendency and measures of variability, respectively.\n",
    "\n",
    "__Measures of Central tendency__, also classified as summary statistics, are calculations that help us describe any data point in our dataset in relation to the most common values. The most common determinants of central tendency are the mean, median, and mode.\n",
    "\n",
    "__Measures of Variability__ tell us how spread-out our data is. Think about this as how much variation there is, whether up or down, in the income of your closest friends to that of the income of the average Australian. That distance from the income of your friends to the most common income (the average of all) gives us insights as to how much income variability there is in the entire population of Australia. In this instance, your friends would be consider a sample of the population. The most common measures of variability are the range, variance and standard deviation.\n",
    "\n",
    "**How do we describe categories and quantities?**\n",
    "\n",
    "Categorical variables can be shown using frequency tables and visualisations where each category of the variable is given a number representing the amount of times that category was found in the dataset. For example, a question in a survey containing answer choices ranging from Strongly Agree to Strongly Disagree will have 5 categories.\n",
    "\n",
    "Quantitative variables, on the other hand, can be summarised with averages, percentiles, scatterplots, etc., and tend to provide different perspectives and insights than qualitative variables.\n",
    "\n",
    "The most useful set of facts we will need will often come from a combination of both, qualitative and quantitative variables. Nontheless, Descriptive Statistics are not only an essential step in the data analytics cycle but are also specially useful when we have a lot of data and want to convey relevant a message with relevant information fast.\n",
    "\n",
    "Let's go over each one of the most important descriptive statistics."
   ]
  },
  {
   "cell_type": "code",
   "execution_count": 1,
   "metadata": {},
   "outputs": [],
   "source": [
    "import pandas as pd\n",
    "import numpy as np\n",
    "import matplotlib.pyplot as plt\n",
    "import seaborn as sns\n",
    "from utilities import check_or_add\n",
    "import os\n",
    "\n",
    "plt.style.use('fivethirtyeight')\n",
    "pd.set_option('display.max_columns', None)\n",
    "pd.set_option('display.max_rows', None)\n",
    "\n",
    "# Setting pandas fload option to 5 decimal places helps us get rid of scientific notation\n",
    "pd.options.display.float_format = '{:.3f}'.format\n",
    "\n",
    "%matplotlib inline\n",
    "%load_ext autoreload"
   ]
  },
  {
   "cell_type": "code",
   "execution_count": 2,
   "metadata": {},
   "outputs": [],
   "source": [
    "path = '../data'\n",
    "\n",
    "# for windows users\n",
    "# path = '..\\data'"
   ]
  },
  {
   "cell_type": "code",
   "execution_count": 3,
   "metadata": {},
   "outputs": [],
   "source": [
    "parquet_file = os.path.join(check_or_add(path, 'clean_parquet'), 'clean_airbnb.parquet')"
   ]
  },
  {
   "cell_type": "code",
   "execution_count": 4,
   "metadata": {},
   "outputs": [],
   "source": [
    "# csv_file = os.path.join(check_or_add(path, 'clean_csv'), 'clean_airbnb.csv')"
   ]
  },
  {
   "cell_type": "code",
   "execution_count": null,
   "metadata": {},
   "outputs": [],
   "source": []
  },
  {
   "cell_type": "code",
   "execution_count": 5,
   "metadata": {},
   "outputs": [],
   "source": [
    "df = pd.read_parquet(parquet_file)"
   ]
  },
  {
   "cell_type": "code",
   "execution_count": 6,
   "metadata": {
    "scrolled": true
   },
   "outputs": [
    {
     "name": "stdout",
     "output_type": "stream",
     "text": [
      "<class 'pandas.core.frame.DataFrame'>\n",
      "Int64Index: 39742 entries, 12602 to 12848\n",
      "Data columns (total 95 columns):\n",
      " #   Column                                        Non-Null Count  Dtype  \n",
      "---  ------                                        --------------  -----  \n",
      " 0   id                                            39742 non-null  object \n",
      " 1   listing_url                                   39742 non-null  object \n",
      " 2   scrape_id                                     39742 non-null  object \n",
      " 3   last_scraped                                  39742 non-null  object \n",
      " 4   name                                          39742 non-null  object \n",
      " 5   summary                                       39742 non-null  object \n",
      " 6   space                                         39742 non-null  object \n",
      " 7   description                                   39742 non-null  object \n",
      " 8   experiences_offered                           39742 non-null  object \n",
      " 9   neighborhood_overview                         39742 non-null  object \n",
      " 10  notes                                         39742 non-null  object \n",
      " 11  transit                                       39742 non-null  object \n",
      " 12  access                                        39742 non-null  object \n",
      " 13  interaction                                   39742 non-null  object \n",
      " 14  house_rules                                   39742 non-null  object \n",
      " 15  picture_url                                   39742 non-null  object \n",
      " 16  host_id                                       39742 non-null  object \n",
      " 17  host_url                                      39742 non-null  object \n",
      " 18  host_name                                     39742 non-null  object \n",
      " 19  host_since                                    39742 non-null  object \n",
      " 20  host_location                                 39742 non-null  object \n",
      " 21  host_about                                    39742 non-null  object \n",
      " 22  host_response_time                            39742 non-null  object \n",
      " 23  host_is_superhost                             39742 non-null  object \n",
      " 24  host_thumbnail_url                            39742 non-null  object \n",
      " 25  host_picture_url                              39742 non-null  object \n",
      " 26  host_verifications                            39742 non-null  object \n",
      " 27  host_has_profile_pic                          39742 non-null  object \n",
      " 28  host_identity_verified                        39742 non-null  object \n",
      " 29  street                                        39742 non-null  object \n",
      " 30  neighbourhood_cleansed                        39742 non-null  object \n",
      " 31  city                                          39742 non-null  object \n",
      " 32  state                                         39742 non-null  object \n",
      " 33  zipcode                                       39742 non-null  object \n",
      " 34  market                                        39742 non-null  object \n",
      " 35  smart_location                                39742 non-null  object \n",
      " 36  country_code                                  39742 non-null  object \n",
      " 37  country                                       39742 non-null  object \n",
      " 38  is_location_exact                             39742 non-null  object \n",
      " 39  property_type                                 39742 non-null  object \n",
      " 40  room_type                                     39742 non-null  object \n",
      " 41  bed_type                                      39742 non-null  object \n",
      " 42  amenities                                     39742 non-null  object \n",
      " 43  minimum_nights                                39742 non-null  object \n",
      " 44  maximum_nights                                39742 non-null  object \n",
      " 45  calendar_updated                              39742 non-null  object \n",
      " 46  has_availability                              39742 non-null  object \n",
      " 47  calendar_last_scraped                         39742 non-null  object \n",
      " 48  requires_license                              39742 non-null  object \n",
      " 49  instant_bookable                              39742 non-null  object \n",
      " 50  is_business_travel_ready                      39742 non-null  object \n",
      " 51  cancellation_policy                           39742 non-null  object \n",
      " 52  require_guest_profile_picture                 39742 non-null  object \n",
      " 53  require_guest_phone_verification              39742 non-null  object \n",
      " 54  first_review                                  39742 non-null  object \n",
      " 55  last_review                                   39742 non-null  object \n",
      " 56  latitude                                      39742 non-null  float32\n",
      " 57  longitude                                     39742 non-null  float32\n",
      " 58  bathrooms                                     39742 non-null  float32\n",
      " 59  price                                         39742 non-null  float32\n",
      " 60  extra_people                                  39742 non-null  float32\n",
      " 61  minimum_nights_avg_ntm                        39742 non-null  float32\n",
      " 62  maximum_nights_avg_ntm                        39742 non-null  float32\n",
      " 63  accommodates                                  39742 non-null  int32  \n",
      " 64  guests_included                               39742 non-null  int32  \n",
      " 65  minimum_minimum_nights                        39742 non-null  int32  \n",
      " 66  maximum_minimum_nights                        39742 non-null  int32  \n",
      " 67  minimum_maximum_nights                        39742 non-null  int32  \n",
      " 68  maximum_maximum_nights                        39742 non-null  int32  \n",
      " 69  availability_30                               39742 non-null  int32  \n",
      " 70  availability_60                               39742 non-null  int32  \n",
      " 71  availability_90                               39742 non-null  int32  \n",
      " 72  availability_365                              39742 non-null  int32  \n",
      " 73  number_of_reviews                             39742 non-null  int32  \n",
      " 74  number_of_reviews_ltm                         39742 non-null  int32  \n",
      " 75  calculated_host_listings_count                39742 non-null  int32  \n",
      " 76  calculated_host_listings_count_entire_homes   39742 non-null  int32  \n",
      " 77  bedrooms                                      39742 non-null  int32  \n",
      " 78  beds                                          39742 non-null  int32  \n",
      " 79  calculated_host_listings_count_private_rooms  39742 non-null  int32  \n",
      " 80  calculated_host_listings_count_shared_rooms   39742 non-null  int32  \n",
      " 81  host_listings_count                           39742 non-null  int32  \n",
      " 82  host_total_listings_count                     39742 non-null  int32  \n",
      " 83  security_deposit                              39742 non-null  float32\n",
      " 84  review_scores_checkin                         39742 non-null  float32\n",
      " 85  reviews_per_month                             39742 non-null  float32\n",
      " 86  host_response_rate                            39742 non-null  float32\n",
      " 87  host_acceptance_rate                          39742 non-null  float32\n",
      " 88  review_scores_rating                          39742 non-null  float32\n",
      " 89  review_scores_cleanliness                     39742 non-null  float32\n",
      " 90  review_scores_value                           39742 non-null  float32\n",
      " 91  review_scores_accuracy                        39742 non-null  float32\n",
      " 92  review_scores_communication                   39742 non-null  float32\n",
      " 93  review_scores_location                        39742 non-null  float32\n",
      " 94  cleaning_fee                                  39742 non-null  float32\n",
      "dtypes: float32(19), int32(20), object(56)\n",
      "memory usage: 336.5 MB\n"
     ]
    }
   ],
   "source": [
    "df.info(memory_usage='deep')"
   ]
  },
  {
   "cell_type": "code",
   "execution_count": 7,
   "metadata": {},
   "outputs": [
    {
     "data": {
      "text/html": [
       "<div>\n",
       "<style scoped>\n",
       "    .dataframe tbody tr th:only-of-type {\n",
       "        vertical-align: middle;\n",
       "    }\n",
       "\n",
       "    .dataframe tbody tr th {\n",
       "        vertical-align: top;\n",
       "    }\n",
       "\n",
       "    .dataframe thead th {\n",
       "        text-align: right;\n",
       "    }\n",
       "</style>\n",
       "<table border=\"1\" class=\"dataframe\">\n",
       "  <thead>\n",
       "    <tr style=\"text-align: right;\">\n",
       "      <th></th>\n",
       "      <th>id</th>\n",
       "      <th>listing_url</th>\n",
       "      <th>scrape_id</th>\n",
       "      <th>last_scraped</th>\n",
       "      <th>name</th>\n",
       "      <th>summary</th>\n",
       "      <th>space</th>\n",
       "      <th>description</th>\n",
       "      <th>experiences_offered</th>\n",
       "      <th>neighborhood_overview</th>\n",
       "      <th>notes</th>\n",
       "      <th>transit</th>\n",
       "      <th>access</th>\n",
       "      <th>interaction</th>\n",
       "      <th>house_rules</th>\n",
       "      <th>picture_url</th>\n",
       "      <th>host_id</th>\n",
       "      <th>host_url</th>\n",
       "      <th>host_name</th>\n",
       "      <th>host_since</th>\n",
       "      <th>host_location</th>\n",
       "      <th>host_about</th>\n",
       "      <th>host_response_time</th>\n",
       "      <th>host_is_superhost</th>\n",
       "      <th>host_thumbnail_url</th>\n",
       "      <th>host_picture_url</th>\n",
       "      <th>host_verifications</th>\n",
       "      <th>host_has_profile_pic</th>\n",
       "      <th>host_identity_verified</th>\n",
       "      <th>street</th>\n",
       "      <th>neighbourhood_cleansed</th>\n",
       "      <th>city</th>\n",
       "      <th>state</th>\n",
       "      <th>zipcode</th>\n",
       "      <th>market</th>\n",
       "      <th>smart_location</th>\n",
       "      <th>country_code</th>\n",
       "      <th>country</th>\n",
       "      <th>is_location_exact</th>\n",
       "      <th>property_type</th>\n",
       "      <th>room_type</th>\n",
       "      <th>bed_type</th>\n",
       "      <th>amenities</th>\n",
       "      <th>minimum_nights</th>\n",
       "      <th>maximum_nights</th>\n",
       "      <th>calendar_updated</th>\n",
       "      <th>has_availability</th>\n",
       "      <th>calendar_last_scraped</th>\n",
       "      <th>requires_license</th>\n",
       "      <th>instant_bookable</th>\n",
       "      <th>is_business_travel_ready</th>\n",
       "      <th>cancellation_policy</th>\n",
       "      <th>require_guest_profile_picture</th>\n",
       "      <th>require_guest_phone_verification</th>\n",
       "      <th>first_review</th>\n",
       "      <th>last_review</th>\n",
       "      <th>latitude</th>\n",
       "      <th>longitude</th>\n",
       "      <th>bathrooms</th>\n",
       "      <th>price</th>\n",
       "      <th>extra_people</th>\n",
       "      <th>minimum_nights_avg_ntm</th>\n",
       "      <th>maximum_nights_avg_ntm</th>\n",
       "      <th>accommodates</th>\n",
       "      <th>guests_included</th>\n",
       "      <th>minimum_minimum_nights</th>\n",
       "      <th>maximum_minimum_nights</th>\n",
       "      <th>minimum_maximum_nights</th>\n",
       "      <th>maximum_maximum_nights</th>\n",
       "      <th>availability_30</th>\n",
       "      <th>availability_60</th>\n",
       "      <th>availability_90</th>\n",
       "      <th>availability_365</th>\n",
       "      <th>number_of_reviews</th>\n",
       "      <th>number_of_reviews_ltm</th>\n",
       "      <th>calculated_host_listings_count</th>\n",
       "      <th>calculated_host_listings_count_entire_homes</th>\n",
       "      <th>bedrooms</th>\n",
       "      <th>beds</th>\n",
       "      <th>calculated_host_listings_count_private_rooms</th>\n",
       "      <th>calculated_host_listings_count_shared_rooms</th>\n",
       "      <th>host_listings_count</th>\n",
       "      <th>host_total_listings_count</th>\n",
       "      <th>security_deposit</th>\n",
       "      <th>review_scores_checkin</th>\n",
       "      <th>reviews_per_month</th>\n",
       "      <th>host_response_rate</th>\n",
       "      <th>host_acceptance_rate</th>\n",
       "      <th>review_scores_rating</th>\n",
       "      <th>review_scores_cleanliness</th>\n",
       "      <th>review_scores_value</th>\n",
       "      <th>review_scores_accuracy</th>\n",
       "      <th>review_scores_communication</th>\n",
       "      <th>review_scores_location</th>\n",
       "      <th>cleaning_fee</th>\n",
       "    </tr>\n",
       "  </thead>\n",
       "  <tbody>\n",
       "    <tr>\n",
       "      <th>12602</th>\n",
       "      <td>41601240</td>\n",
       "      <td>https://www.airbnb.com/rooms/41601240</td>\n",
       "      <td>20200625032351</td>\n",
       "      <td>2020-06-26</td>\n",
       "      <td>5 min Sta.!!Easy access to Ueno/Akihabara☆max6...</td>\n",
       "      <td>Located in a real residential area where the n...</td>\n",
       "      <td>Welcome to Tabata, Tokyo!  The apartment is lo...</td>\n",
       "      <td>Located in a real residential area where the n...</td>\n",
       "      <td>none</td>\n",
       "      <td>It says that many super famous Japanese author...</td>\n",
       "      <td>I'll send the guidance of the way to the apart...</td>\n",
       "      <td>★Closest stations★  ･田端駅(Tabata Sta.) - 山手線(Ya...</td>\n",
       "      <td>You have full access to the apartment.  Nothin...</td>\n",
       "      <td>I live in different apartment in TOKYO.  If yo...</td>\n",
       "      <td>Unknown</td>\n",
       "      <td>https://a0.muscache.com/im/pictures/03bcbfe3-6...</td>\n",
       "      <td>287699302</td>\n",
       "      <td>https://www.airbnb.com/users/show/287699302</td>\n",
       "      <td>Nana</td>\n",
       "      <td>2019-08-21</td>\n",
       "      <td>JP</td>\n",
       "      <td>Hey I’m Nana.\\r\\nThanks for taking the time to...</td>\n",
       "      <td>within an hour</td>\n",
       "      <td>t</td>\n",
       "      <td>https://a0.muscache.com/im/pictures/user/1de4e...</td>\n",
       "      <td>https://a0.muscache.com/im/pictures/user/1de4e...</td>\n",
       "      <td>['email', 'phone', 'offline_government_id', 's...</td>\n",
       "      <td>t</td>\n",
       "      <td>f</td>\n",
       "      <td>Kita City, Tōkyō-to, Japan</td>\n",
       "      <td>Kita Ku</td>\n",
       "      <td>Kita City</td>\n",
       "      <td>Tōkyō-to</td>\n",
       "      <td>114-0014</td>\n",
       "      <td>Tokyo</td>\n",
       "      <td>Kita City, Japan</td>\n",
       "      <td>JP</td>\n",
       "      <td>Japan</td>\n",
       "      <td>t</td>\n",
       "      <td>Apartment</td>\n",
       "      <td>Entire home/apt</td>\n",
       "      <td>Real Bed</td>\n",
       "      <td>{TV,Wifi,\"Air conditioning\",Kitchen,Washer,\"Sm...</td>\n",
       "      <td>2</td>\n",
       "      <td>1125</td>\n",
       "      <td>4 weeks ago</td>\n",
       "      <td>t</td>\n",
       "      <td>2020-06-26</td>\n",
       "      <td>t</td>\n",
       "      <td>t</td>\n",
       "      <td>f</td>\n",
       "      <td>strict_14_with_grace_period</td>\n",
       "      <td>f</td>\n",
       "      <td>f</td>\n",
       "      <td>2020-01-30</td>\n",
       "      <td>2020-03-30</td>\n",
       "      <td>35.735</td>\n",
       "      <td>139.758</td>\n",
       "      <td>1.000</td>\n",
       "      <td>479.510</td>\n",
       "      <td>0.000</td>\n",
       "      <td>7.300</td>\n",
       "      <td>1125.000</td>\n",
       "      <td>6</td>\n",
       "      <td>1</td>\n",
       "      <td>2</td>\n",
       "      <td>30</td>\n",
       "      <td>1125</td>\n",
       "      <td>1125</td>\n",
       "      <td>15</td>\n",
       "      <td>45</td>\n",
       "      <td>75</td>\n",
       "      <td>349</td>\n",
       "      <td>4</td>\n",
       "      <td>4</td>\n",
       "      <td>7</td>\n",
       "      <td>7</td>\n",
       "      <td>2</td>\n",
       "      <td>3</td>\n",
       "      <td>0</td>\n",
       "      <td>0</td>\n",
       "      <td>7</td>\n",
       "      <td>7</td>\n",
       "      <td>0.000</td>\n",
       "      <td>10.000</td>\n",
       "      <td>0.810</td>\n",
       "      <td>100.000</td>\n",
       "      <td>100.000</td>\n",
       "      <td>100.000</td>\n",
       "      <td>10.000</td>\n",
       "      <td>9.000</td>\n",
       "      <td>10.000</td>\n",
       "      <td>10.000</td>\n",
       "      <td>10.000</td>\n",
       "      <td>134.400</td>\n",
       "    </tr>\n",
       "    <tr>\n",
       "      <th>1171</th>\n",
       "      <td>16008291</td>\n",
       "      <td>https://www.airbnb.com/rooms/16008291</td>\n",
       "      <td>20200625032351</td>\n",
       "      <td>2020-06-26</td>\n",
       "      <td>4min Shinjuku st/Cozy&amp;Clean/2min walk JR Okubo...</td>\n",
       "      <td>OPENING SALE!!!  IN WINTER 2016 My apartment i...</td>\n",
       "      <td>☆This my new apartment is located amazing plac...</td>\n",
       "      <td>OPENING SALE!!!  IN WINTER 2016 My apartment i...</td>\n",
       "      <td>none</td>\n",
       "      <td>Unknown</td>\n",
       "      <td>Notice: I DON'T ACCEPT ANY BABYS. PLEASE KEEP ...</td>\n",
       "      <td>JR OKUBO station&gt;&gt;&gt;&gt;2min walk JR SHIN-OKUBO st...</td>\n",
       "      <td>Entire room.</td>\n",
       "      <td>Basically, I would like to meet you and give t...</td>\n",
       "      <td>Please relax at your home in Tokyo, but please...</td>\n",
       "      <td>https://a0.muscache.com/im/pictures/139b4b2c-c...</td>\n",
       "      <td>98770436</td>\n",
       "      <td>https://www.airbnb.com/users/show/98770436</td>\n",
       "      <td>Tom</td>\n",
       "      <td>2016-10-08</td>\n",
       "      <td>Shinjuku, Tokyo, Japan</td>\n",
       "      <td>Hi Everyone,\\r\\nThank you for visiting my list...</td>\n",
       "      <td>within an hour</td>\n",
       "      <td>t</td>\n",
       "      <td>https://a0.muscache.com/im/pictures/user/6bf41...</td>\n",
       "      <td>https://a0.muscache.com/im/pictures/user/6bf41...</td>\n",
       "      <td>['email', 'phone', 'reviews']</td>\n",
       "      <td>t</td>\n",
       "      <td>f</td>\n",
       "      <td>Shinjuku-ku, Tōkyō-to, Japan</td>\n",
       "      <td>Shinjuku Ku</td>\n",
       "      <td>Shinjuku-ku</td>\n",
       "      <td>Tōkyō-to</td>\n",
       "      <td>169-0074</td>\n",
       "      <td>Tokyo</td>\n",
       "      <td>Shinjuku-ku, Japan</td>\n",
       "      <td>JP</td>\n",
       "      <td>Japan</td>\n",
       "      <td>t</td>\n",
       "      <td>Apartment</td>\n",
       "      <td>Entire home/apt</td>\n",
       "      <td>Real Bed</td>\n",
       "      <td>{TV,Internet,Wifi,\"Air conditioning\",Kitchen,H...</td>\n",
       "      <td>1</td>\n",
       "      <td>20</td>\n",
       "      <td>4 weeks ago</td>\n",
       "      <td>t</td>\n",
       "      <td>2020-06-26</td>\n",
       "      <td>t</td>\n",
       "      <td>t</td>\n",
       "      <td>f</td>\n",
       "      <td>strict_14_with_grace_period</td>\n",
       "      <td>f</td>\n",
       "      <td>f</td>\n",
       "      <td>2016-11-21</td>\n",
       "      <td>2020-02-22</td>\n",
       "      <td>35.702</td>\n",
       "      <td>139.695</td>\n",
       "      <td>1.000</td>\n",
       "      <td>115.248</td>\n",
       "      <td>0.000</td>\n",
       "      <td>1.000</td>\n",
       "      <td>1125.000</td>\n",
       "      <td>2</td>\n",
       "      <td>2</td>\n",
       "      <td>1</td>\n",
       "      <td>1</td>\n",
       "      <td>1125</td>\n",
       "      <td>1125</td>\n",
       "      <td>11</td>\n",
       "      <td>17</td>\n",
       "      <td>17</td>\n",
       "      <td>17</td>\n",
       "      <td>148</td>\n",
       "      <td>20</td>\n",
       "      <td>11</td>\n",
       "      <td>11</td>\n",
       "      <td>0</td>\n",
       "      <td>1</td>\n",
       "      <td>0</td>\n",
       "      <td>0</td>\n",
       "      <td>11</td>\n",
       "      <td>11</td>\n",
       "      <td>144.000</td>\n",
       "      <td>10.000</td>\n",
       "      <td>3.380</td>\n",
       "      <td>100.000</td>\n",
       "      <td>99.000</td>\n",
       "      <td>98.000</td>\n",
       "      <td>10.000</td>\n",
       "      <td>9.000</td>\n",
       "      <td>10.000</td>\n",
       "      <td>10.000</td>\n",
       "      <td>10.000</td>\n",
       "      <td>52.800</td>\n",
       "    </tr>\n",
       "    <tr>\n",
       "      <th>12544</th>\n",
       "      <td>41566648</td>\n",
       "      <td>https://www.airbnb.com/rooms/41566648</td>\n",
       "      <td>20200625032351</td>\n",
       "      <td>2020-06-26</td>\n",
       "      <td>[Discount]Nippori's warm room / Worth choosing...</td>\n",
       "      <td>There are 6 different types of rooms in this h...</td>\n",
       "      <td>【space】 The house belongs to a single room. a ...</td>\n",
       "      <td>There are 6 different types of rooms in this h...</td>\n",
       "      <td>none</td>\n",
       "      <td>※ Nippori Station: 8 mins walk, fast transfer,...</td>\n",
       "      <td>Japanese people are more sensitive to sound, s...</td>\n",
       "      <td>The nearest station is Nippori Station. ATTRAC...</td>\n",
       "      <td>The facilities in the room can be used</td>\n",
       "      <td>After booking, we will prepare a detailed chec...</td>\n",
       "      <td>Unknown</td>\n",
       "      <td>https://a0.muscache.com/im/pictures/f59a347e-8...</td>\n",
       "      <td>276746465</td>\n",
       "      <td>https://www.airbnb.com/users/show/276746465</td>\n",
       "      <td>Donna</td>\n",
       "      <td>2019-07-17</td>\n",
       "      <td>HK</td>\n",
       "      <td>Unknown</td>\n",
       "      <td>within an hour</td>\n",
       "      <td>t</td>\n",
       "      <td>https://a0.muscache.com/im/pictures/user/16587...</td>\n",
       "      <td>https://a0.muscache.com/im/pictures/user/16587...</td>\n",
       "      <td>['email', 'phone', 'jumio', 'offline_governmen...</td>\n",
       "      <td>t</td>\n",
       "      <td>f</td>\n",
       "      <td>Arakawa City, Tōkyō-to, Japan</td>\n",
       "      <td>Arakawa Ku</td>\n",
       "      <td>Arakawa City</td>\n",
       "      <td>Tōkyō-to</td>\n",
       "      <td>116-0014</td>\n",
       "      <td>Tokyo</td>\n",
       "      <td>Arakawa City, Japan</td>\n",
       "      <td>JP</td>\n",
       "      <td>Japan</td>\n",
       "      <td>t</td>\n",
       "      <td>Apartment</td>\n",
       "      <td>Entire home/apt</td>\n",
       "      <td>Real Bed</td>\n",
       "      <td>{Wifi,\"Air conditioning\",Kitchen,Washer,\"Smoke...</td>\n",
       "      <td>1</td>\n",
       "      <td>1125</td>\n",
       "      <td>6 weeks ago</td>\n",
       "      <td>t</td>\n",
       "      <td>2020-06-26</td>\n",
       "      <td>t</td>\n",
       "      <td>t</td>\n",
       "      <td>f</td>\n",
       "      <td>strict_14_with_grace_period</td>\n",
       "      <td>f</td>\n",
       "      <td>f</td>\n",
       "      <td>2020-01-25</td>\n",
       "      <td>2020-01-25</td>\n",
       "      <td>35.728</td>\n",
       "      <td>139.778</td>\n",
       "      <td>1.000</td>\n",
       "      <td>57.619</td>\n",
       "      <td>9.600</td>\n",
       "      <td>1.300</td>\n",
       "      <td>1125.000</td>\n",
       "      <td>3</td>\n",
       "      <td>2</td>\n",
       "      <td>1</td>\n",
       "      <td>9</td>\n",
       "      <td>1125</td>\n",
       "      <td>1125</td>\n",
       "      <td>30</td>\n",
       "      <td>60</td>\n",
       "      <td>84</td>\n",
       "      <td>150</td>\n",
       "      <td>1</td>\n",
       "      <td>1</td>\n",
       "      <td>3</td>\n",
       "      <td>3</td>\n",
       "      <td>1</td>\n",
       "      <td>2</td>\n",
       "      <td>0</td>\n",
       "      <td>0</td>\n",
       "      <td>0</td>\n",
       "      <td>0</td>\n",
       "      <td>0.000</td>\n",
       "      <td>10.000</td>\n",
       "      <td>0.190</td>\n",
       "      <td>80.000</td>\n",
       "      <td>100.000</td>\n",
       "      <td>100.000</td>\n",
       "      <td>10.000</td>\n",
       "      <td>10.000</td>\n",
       "      <td>10.000</td>\n",
       "      <td>10.000</td>\n",
       "      <td>10.000</td>\n",
       "      <td>48.000</td>\n",
       "    </tr>\n",
       "  </tbody>\n",
       "</table>\n",
       "</div>"
      ],
      "text/plain": [
       "             id                            listing_url       scrape_id  \\\n",
       "12602  41601240  https://www.airbnb.com/rooms/41601240  20200625032351   \n",
       "1171   16008291  https://www.airbnb.com/rooms/16008291  20200625032351   \n",
       "12544  41566648  https://www.airbnb.com/rooms/41566648  20200625032351   \n",
       "\n",
       "      last_scraped                                               name  \\\n",
       "12602   2020-06-26  5 min Sta.!!Easy access to Ueno/Akihabara☆max6...   \n",
       "1171    2020-06-26  4min Shinjuku st/Cozy&Clean/2min walk JR Okubo...   \n",
       "12544   2020-06-26  [Discount]Nippori's warm room / Worth choosing...   \n",
       "\n",
       "                                                 summary  \\\n",
       "12602  Located in a real residential area where the n...   \n",
       "1171   OPENING SALE!!!  IN WINTER 2016 My apartment i...   \n",
       "12544  There are 6 different types of rooms in this h...   \n",
       "\n",
       "                                                   space  \\\n",
       "12602  Welcome to Tabata, Tokyo!  The apartment is lo...   \n",
       "1171   ☆This my new apartment is located amazing plac...   \n",
       "12544  【space】 The house belongs to a single room. a ...   \n",
       "\n",
       "                                             description experiences_offered  \\\n",
       "12602  Located in a real residential area where the n...                none   \n",
       "1171   OPENING SALE!!!  IN WINTER 2016 My apartment i...                none   \n",
       "12544  There are 6 different types of rooms in this h...                none   \n",
       "\n",
       "                                   neighborhood_overview  \\\n",
       "12602  It says that many super famous Japanese author...   \n",
       "1171                                             Unknown   \n",
       "12544  ※ Nippori Station: 8 mins walk, fast transfer,...   \n",
       "\n",
       "                                                   notes  \\\n",
       "12602  I'll send the guidance of the way to the apart...   \n",
       "1171   Notice: I DON'T ACCEPT ANY BABYS. PLEASE KEEP ...   \n",
       "12544  Japanese people are more sensitive to sound, s...   \n",
       "\n",
       "                                                 transit  \\\n",
       "12602  ★Closest stations★  ･田端駅(Tabata Sta.) - 山手線(Ya...   \n",
       "1171   JR OKUBO station>>>>2min walk JR SHIN-OKUBO st...   \n",
       "12544  The nearest station is Nippori Station. ATTRAC...   \n",
       "\n",
       "                                                  access  \\\n",
       "12602  You have full access to the apartment.  Nothin...   \n",
       "1171                                        Entire room.   \n",
       "12544             The facilities in the room can be used   \n",
       "\n",
       "                                             interaction  \\\n",
       "12602  I live in different apartment in TOKYO.  If yo...   \n",
       "1171   Basically, I would like to meet you and give t...   \n",
       "12544  After booking, we will prepare a detailed chec...   \n",
       "\n",
       "                                             house_rules  \\\n",
       "12602                                            Unknown   \n",
       "1171   Please relax at your home in Tokyo, but please...   \n",
       "12544                                            Unknown   \n",
       "\n",
       "                                             picture_url    host_id  \\\n",
       "12602  https://a0.muscache.com/im/pictures/03bcbfe3-6...  287699302   \n",
       "1171   https://a0.muscache.com/im/pictures/139b4b2c-c...   98770436   \n",
       "12544  https://a0.muscache.com/im/pictures/f59a347e-8...  276746465   \n",
       "\n",
       "                                          host_url host_name  host_since  \\\n",
       "12602  https://www.airbnb.com/users/show/287699302      Nana  2019-08-21   \n",
       "1171    https://www.airbnb.com/users/show/98770436       Tom  2016-10-08   \n",
       "12544  https://www.airbnb.com/users/show/276746465     Donna  2019-07-17   \n",
       "\n",
       "                host_location  \\\n",
       "12602                      JP   \n",
       "1171   Shinjuku, Tokyo, Japan   \n",
       "12544                      HK   \n",
       "\n",
       "                                              host_about host_response_time  \\\n",
       "12602  Hey I’m Nana.\\r\\nThanks for taking the time to...     within an hour   \n",
       "1171   Hi Everyone,\\r\\nThank you for visiting my list...     within an hour   \n",
       "12544                                            Unknown     within an hour   \n",
       "\n",
       "      host_is_superhost                                 host_thumbnail_url  \\\n",
       "12602                 t  https://a0.muscache.com/im/pictures/user/1de4e...   \n",
       "1171                  t  https://a0.muscache.com/im/pictures/user/6bf41...   \n",
       "12544                 t  https://a0.muscache.com/im/pictures/user/16587...   \n",
       "\n",
       "                                        host_picture_url  \\\n",
       "12602  https://a0.muscache.com/im/pictures/user/1de4e...   \n",
       "1171   https://a0.muscache.com/im/pictures/user/6bf41...   \n",
       "12544  https://a0.muscache.com/im/pictures/user/16587...   \n",
       "\n",
       "                                      host_verifications host_has_profile_pic  \\\n",
       "12602  ['email', 'phone', 'offline_government_id', 's...                    t   \n",
       "1171                       ['email', 'phone', 'reviews']                    t   \n",
       "12544  ['email', 'phone', 'jumio', 'offline_governmen...                    t   \n",
       "\n",
       "      host_identity_verified                         street  \\\n",
       "12602                      f     Kita City, Tōkyō-to, Japan   \n",
       "1171                       f   Shinjuku-ku, Tōkyō-to, Japan   \n",
       "12544                      f  Arakawa City, Tōkyō-to, Japan   \n",
       "\n",
       "      neighbourhood_cleansed          city     state   zipcode market  \\\n",
       "12602                Kita Ku     Kita City  Tōkyō-to  114-0014  Tokyo   \n",
       "1171             Shinjuku Ku   Shinjuku-ku  Tōkyō-to  169-0074  Tokyo   \n",
       "12544             Arakawa Ku  Arakawa City  Tōkyō-to  116-0014  Tokyo   \n",
       "\n",
       "            smart_location country_code country is_location_exact  \\\n",
       "12602     Kita City, Japan           JP   Japan                 t   \n",
       "1171    Shinjuku-ku, Japan           JP   Japan                 t   \n",
       "12544  Arakawa City, Japan           JP   Japan                 t   \n",
       "\n",
       "      property_type        room_type  bed_type  \\\n",
       "12602     Apartment  Entire home/apt  Real Bed   \n",
       "1171      Apartment  Entire home/apt  Real Bed   \n",
       "12544     Apartment  Entire home/apt  Real Bed   \n",
       "\n",
       "                                               amenities minimum_nights  \\\n",
       "12602  {TV,Wifi,\"Air conditioning\",Kitchen,Washer,\"Sm...              2   \n",
       "1171   {TV,Internet,Wifi,\"Air conditioning\",Kitchen,H...              1   \n",
       "12544  {Wifi,\"Air conditioning\",Kitchen,Washer,\"Smoke...              1   \n",
       "\n",
       "      maximum_nights calendar_updated has_availability calendar_last_scraped  \\\n",
       "12602           1125      4 weeks ago                t            2020-06-26   \n",
       "1171              20      4 weeks ago                t            2020-06-26   \n",
       "12544           1125      6 weeks ago                t            2020-06-26   \n",
       "\n",
       "      requires_license instant_bookable is_business_travel_ready  \\\n",
       "12602                t                t                        f   \n",
       "1171                 t                t                        f   \n",
       "12544                t                t                        f   \n",
       "\n",
       "               cancellation_policy require_guest_profile_picture  \\\n",
       "12602  strict_14_with_grace_period                             f   \n",
       "1171   strict_14_with_grace_period                             f   \n",
       "12544  strict_14_with_grace_period                             f   \n",
       "\n",
       "      require_guest_phone_verification first_review last_review  latitude  \\\n",
       "12602                                f   2020-01-30  2020-03-30    35.735   \n",
       "1171                                 f   2016-11-21  2020-02-22    35.702   \n",
       "12544                                f   2020-01-25  2020-01-25    35.728   \n",
       "\n",
       "       longitude  bathrooms   price  extra_people  minimum_nights_avg_ntm  \\\n",
       "12602    139.758      1.000 479.510         0.000                   7.300   \n",
       "1171     139.695      1.000 115.248         0.000                   1.000   \n",
       "12544    139.778      1.000  57.619         9.600                   1.300   \n",
       "\n",
       "       maximum_nights_avg_ntm  accommodates  guests_included  \\\n",
       "12602                1125.000             6                1   \n",
       "1171                 1125.000             2                2   \n",
       "12544                1125.000             3                2   \n",
       "\n",
       "       minimum_minimum_nights  maximum_minimum_nights  minimum_maximum_nights  \\\n",
       "12602                       2                      30                    1125   \n",
       "1171                        1                       1                    1125   \n",
       "12544                       1                       9                    1125   \n",
       "\n",
       "       maximum_maximum_nights  availability_30  availability_60  \\\n",
       "12602                    1125               15               45   \n",
       "1171                     1125               11               17   \n",
       "12544                    1125               30               60   \n",
       "\n",
       "       availability_90  availability_365  number_of_reviews  \\\n",
       "12602               75               349                  4   \n",
       "1171                17                17                148   \n",
       "12544               84               150                  1   \n",
       "\n",
       "       number_of_reviews_ltm  calculated_host_listings_count  \\\n",
       "12602                      4                               7   \n",
       "1171                      20                              11   \n",
       "12544                      1                               3   \n",
       "\n",
       "       calculated_host_listings_count_entire_homes  bedrooms  beds  \\\n",
       "12602                                            7         2     3   \n",
       "1171                                            11         0     1   \n",
       "12544                                            3         1     2   \n",
       "\n",
       "       calculated_host_listings_count_private_rooms  \\\n",
       "12602                                             0   \n",
       "1171                                              0   \n",
       "12544                                             0   \n",
       "\n",
       "       calculated_host_listings_count_shared_rooms  host_listings_count  \\\n",
       "12602                                            0                    7   \n",
       "1171                                             0                   11   \n",
       "12544                                            0                    0   \n",
       "\n",
       "       host_total_listings_count  security_deposit  review_scores_checkin  \\\n",
       "12602                          7             0.000                 10.000   \n",
       "1171                          11           144.000                 10.000   \n",
       "12544                          0             0.000                 10.000   \n",
       "\n",
       "       reviews_per_month  host_response_rate  host_acceptance_rate  \\\n",
       "12602              0.810             100.000               100.000   \n",
       "1171               3.380             100.000                99.000   \n",
       "12544              0.190              80.000               100.000   \n",
       "\n",
       "       review_scores_rating  review_scores_cleanliness  review_scores_value  \\\n",
       "12602               100.000                     10.000                9.000   \n",
       "1171                 98.000                     10.000                9.000   \n",
       "12544               100.000                     10.000               10.000   \n",
       "\n",
       "       review_scores_accuracy  review_scores_communication  \\\n",
       "12602                  10.000                       10.000   \n",
       "1171                   10.000                       10.000   \n",
       "12544                  10.000                       10.000   \n",
       "\n",
       "       review_scores_location  cleaning_fee  \n",
       "12602                  10.000       134.400  \n",
       "1171                   10.000        52.800  \n",
       "12544                  10.000        48.000  "
      ]
     },
     "execution_count": 7,
     "metadata": {},
     "output_type": "execute_result"
    }
   ],
   "source": [
    "df.head(3)"
   ]
  },
  {
   "cell_type": "markdown",
   "metadata": {},
   "source": [
    "## Count"
   ]
  },
  {
   "cell_type": "markdown",
   "metadata": {},
   "source": [
    " We will need to know how many observations (also known as the n count) are in our dataset and that is exactly what `len()` gives us. We pass an array of values through the function and it returns the number of all values in that array. `len()` also takes in strings and gives us back the total number of elements inside a string. Please note, counting and adding several numbers is not the same. To put this into perspective, think about what the average represents, the nominator is a sum of all the elements in an array while the denominator is the amount of elements in such array."
   ]
  },
  {
   "cell_type": "code",
   "execution_count": 8,
   "metadata": {},
   "outputs": [
    {
     "data": {
      "text/plain": [
       "39742"
      ]
     },
     "execution_count": 8,
     "metadata": {},
     "output_type": "execute_result"
    }
   ],
   "source": [
    "len(df)"
   ]
  },
  {
   "cell_type": "code",
   "execution_count": 9,
   "metadata": {},
   "outputs": [
    {
     "data": {
      "text/plain": [
       "95"
      ]
     },
     "execution_count": 9,
     "metadata": {},
     "output_type": "execute_result"
    }
   ],
   "source": [
    "df.shape[1]"
   ]
  },
  {
   "cell_type": "markdown",
   "metadata": {},
   "source": [
    "We can also count specific categories visually with seaborn."
   ]
  },
  {
   "cell_type": "code",
   "execution_count": 10,
   "metadata": {},
   "outputs": [
    {
     "data": {
      "image/png": "[encoded data removed]",
      "text/plain": [
       "<Figure size 360x360 with 1 Axes>"
      ]
     },
     "metadata": {
      "needs_background": "light"
     },
     "output_type": "display_data"
    }
   ],
   "source": [
    "sns.catplot(x='room_type', data=df, kind='count')\n",
    "plt.xlabel(\"Room Type\")\n",
    "plt.title(\"Count per room type offered in Melbourne\")\n",
    "plt.show()"
   ]
  },
  {
   "cell_type": "markdown",
   "metadata": {},
   "source": [
    "## Mean"
   ]
  },
  {
   "cell_type": "markdown",
   "metadata": {},
   "source": [
    "What we call the mean is actually the arithmetic mean. This is the sum of all the values in a set or array, divided by the amount of numbers in such array. While zeros are always counted in the arithmetic mean, in Python, empty values or `NaN`s are never counted towards that or any other operation.\n",
    "\n",
    "$\\overline{X}=\\dfrac{1}{n}\\sum x_{i}$\n",
    "\n",
    "In the folmula above, \n",
    "- $\\overline{X}$ stands for the mean of array X\n",
    "- **$n$** is the lenght of the array, vector, set, or list\n",
    "- $\\dfrac{1}{n}$ means we will divide everything by the lenght\n",
    "- The greek letter $\\sum$ denotes the sumation of all proceding values\n",
    "- $x_{i}$ means every value in the array starting from **$i$**, and **$i$** in this instance can be any number\n",
    "\n",
    "We can observe the mean of some of the quantitative variables in our dataframe with the method `.mean()`."
   ]
  },
  {
   "cell_type": "code",
   "execution_count": 11,
   "metadata": {},
   "outputs": [],
   "source": [
    "some_numerical_vars = ['bathrooms', 'price', 'extra_people', 'minimum_nights_avg_ntm', 'maximum_nights_avg_ntm']"
   ]
  },
  {
   "cell_type": "code",
   "execution_count": 12,
   "metadata": {},
   "outputs": [
    {
     "data": {
      "text/plain": [
       "bathrooms                   1.552\n",
       "price                     188.614\n",
       "extra_people                8.924\n",
       "minimum_nights_avg_ntm      4.328\n",
       "maximum_nights_avg_ntm   1069.295\n",
       "dtype: float32"
      ]
     },
     "execution_count": 12,
     "metadata": {},
     "output_type": "execute_result"
    }
   ],
   "source": [
    "df[some_numerical_vars].mean()"
   ]
  },
  {
   "cell_type": "code",
   "execution_count": 13,
   "metadata": {},
   "outputs": [
    {
     "data": {
      "text/plain": [
       "bathrooms                   1.552\n",
       "price                     188.614\n",
       "extra_people                8.924\n",
       "minimum_nights_avg_ntm      4.328\n",
       "maximum_nights_avg_ntm   1069.295\n",
       "dtype: float32"
      ]
     },
     "execution_count": 13,
     "metadata": {},
     "output_type": "execute_result"
    }
   ],
   "source": [
    "# the same works with np methods\n",
    "np.mean(df[some_numerical_vars])"
   ]
  },
  {
   "cell_type": "markdown",
   "metadata": {},
   "source": [
    "We can also calculate the mean ourselves with plain Python code."
   ]
  },
  {
   "cell_type": "code",
   "execution_count": 14,
   "metadata": {},
   "outputs": [
    {
     "data": {
      "text/plain": [
       "188.61534042750984"
      ]
     },
     "execution_count": 14,
     "metadata": {},
     "output_type": "execute_result"
    }
   ],
   "source": [
    "sum(df['price']) / len(df)"
   ]
  },
  {
   "cell_type": "markdown",
   "metadata": {},
   "source": [
    "## Median"
   ]
  },
  {
   "cell_type": "markdown",
   "metadata": {},
   "source": [
    "The median will order an array of numbers from lowest to highest and select the number in the middle. This means that the median is effectively the 50th percentile of any array. If the array has an even amount of numbers, it will return the average of the middle two numbers. If the arrays has an odd amount of numbers, it will return the one in the middle.\n",
    "\n",
    "Just like with the `.mean()` method, we can use the `.median()` method on the quantitative variables of our dataframe and pandas will return the median for all variables. We could also use the `.median()` method and it will return the a median value for all numerical variables in our dataset. This is not recommended if your dataset is too large and has a lot of variables."
   ]
  },
  {
   "cell_type": "code",
   "execution_count": 15,
   "metadata": {},
   "outputs": [],
   "source": [
    "more_numerical_vars = ['accommodates', 'guests_included', 'minimum_minimum_nights', 'maximum_minimum_nights', 'minimum_maximum_nights', \n",
    "                      'maximum_maximum_nights', 'availability_30', 'availability_60', 'availability_90']"
   ]
  },
  {
   "cell_type": "code",
   "execution_count": 16,
   "metadata": {},
   "outputs": [
    {
     "data": {
      "text/plain": [
       "accommodates                4.000\n",
       "guests_included             1.000\n",
       "minimum_minimum_nights      2.000\n",
       "maximum_minimum_nights      2.000\n",
       "minimum_maximum_nights   1125.000\n",
       "maximum_maximum_nights   1125.000\n",
       "availability_30            24.000\n",
       "availability_60            52.000\n",
       "availability_90            80.000\n",
       "dtype: float64"
      ]
     },
     "execution_count": 16,
     "metadata": {},
     "output_type": "execute_result"
    }
   ],
   "source": [
    "df[more_numerical_vars].median()"
   ]
  },
  {
   "cell_type": "markdown",
   "metadata": {},
   "source": [
    "Say we know that our `price` array has an odd number of elements and we want to get the value at the 50th percentile of our variable. We could, for instance, pass in a slice that selects that same middle numberof the array by computing floor division on the lenght of the array. The reason we would use a floor division is because all divisions in Python return a float and we can't pass floats to a slice. We could, in turn, wrap `int()` around our division, or the function `round()` instead to achieve the same result. Let's have a look."
   ]
  },
  {
   "cell_type": "code",
   "execution_count": 17,
   "metadata": {},
   "outputs": [
    {
     "data": {
      "text/plain": [
       "39742"
      ]
     },
     "execution_count": 17,
     "metadata": {},
     "output_type": "execute_result"
    }
   ],
   "source": [
    "len(df)"
   ]
  },
  {
   "cell_type": "code",
   "execution_count": 18,
   "metadata": {},
   "outputs": [
    {
     "data": {
      "text/plain": [
       "19871.0"
      ]
     },
     "execution_count": 18,
     "metadata": {},
     "output_type": "execute_result"
    }
   ],
   "source": [
    "39742 / 2"
   ]
  },
  {
   "cell_type": "code",
   "execution_count": 19,
   "metadata": {},
   "outputs": [
    {
     "data": {
      "text/plain": [
       "19870"
      ]
     },
     "execution_count": 19,
     "metadata": {},
     "output_type": "execute_result"
    }
   ],
   "source": [
    "# if your number is even, get the lower bound\n",
    "lower_bound = (len(df) // 2) - 1\n",
    "lower_bound"
   ]
  },
  {
   "cell_type": "code",
   "execution_count": 20,
   "metadata": {},
   "outputs": [
    {
     "data": {
      "text/plain": [
       "19871"
      ]
     },
     "execution_count": 20,
     "metadata": {},
     "output_type": "execute_result"
    }
   ],
   "source": [
    "# if your number is even, also get the upper bound\n",
    "upper_bound = (len(df) // 2)\n",
    "upper_bound"
   ]
  },
  {
   "cell_type": "code",
   "execution_count": 21,
   "metadata": {},
   "outputs": [
    {
     "data": {
      "text/plain": [
       "84.01920318603516"
      ]
     },
     "execution_count": 21,
     "metadata": {},
     "output_type": "execute_result"
    }
   ],
   "source": [
    "# check out the value at x bound\n",
    "sorted(df['price'])[lower_bound]"
   ]
  },
  {
   "cell_type": "code",
   "execution_count": 22,
   "metadata": {},
   "outputs": [
    {
     "data": {
      "text/plain": [
       "84.01920318603516"
      ]
     },
     "execution_count": 22,
     "metadata": {},
     "output_type": "execute_result"
    }
   ],
   "source": [
    "# check out the value at x bound\n",
    "sorted(df['price'])[upper_bound]"
   ]
  },
  {
   "cell_type": "code",
   "execution_count": 23,
   "metadata": {},
   "outputs": [
    {
     "data": {
      "text/plain": [
       "84.01920318603516"
      ]
     },
     "execution_count": 23,
     "metadata": {},
     "output_type": "execute_result"
    }
   ],
   "source": [
    "# confirm the true median\n",
    "true_median = (sorted(df['price'])[lower_bound] + sorted(df['price'])[upper_bound]) / 2\n",
    "true_median"
   ]
  },
  {
   "cell_type": "code",
   "execution_count": 24,
   "metadata": {},
   "outputs": [
    {
     "data": {
      "text/plain": [
       "84.0192"
      ]
     },
     "execution_count": 24,
     "metadata": {},
     "output_type": "execute_result"
    }
   ],
   "source": [
    "np.median(df['price'])"
   ]
  },
  {
   "cell_type": "markdown",
   "metadata": {},
   "source": [
    "We can also divide normally and surround the operation with `int()` to make sure we get an integer for our slice."
   ]
  },
  {
   "cell_type": "code",
   "execution_count": 25,
   "metadata": {},
   "outputs": [
    {
     "data": {
      "text/plain": [
       "4"
      ]
     },
     "execution_count": 25,
     "metadata": {},
     "output_type": "execute_result"
    }
   ],
   "source": [
    "odd_array = np.arange(9)\n",
    "# odd array again\n",
    "sorted(odd_array)[int(len(odd_array) / 2)]"
   ]
  },
  {
   "cell_type": "code",
   "execution_count": 26,
   "metadata": {},
   "outputs": [
    {
     "data": {
      "text/plain": [
       "4.0"
      ]
     },
     "execution_count": 26,
     "metadata": {},
     "output_type": "execute_result"
    }
   ],
   "source": [
    "np.median(odd_array)"
   ]
  },
  {
   "cell_type": "markdown",
   "metadata": {},
   "source": [
    "To manually get the median of an even array, we need to do a bit more work. We need to\n",
    "\n",
    "- sort the array\n",
    "- create a slice for the middle number and subtract one\n",
    "- add the value on the previous step to another slice without subtracting 1\n",
    "- divide the result by 2"
   ]
  },
  {
   "cell_type": "code",
   "execution_count": 27,
   "metadata": {},
   "outputs": [
    {
     "data": {
      "text/plain": [
       "91.5"
      ]
     },
     "execution_count": 27,
     "metadata": {},
     "output_type": "execute_result"
    }
   ],
   "source": [
    "# even array\n",
    "arr = np.random.randint(0, 200, 14)\n",
    "\n",
    "# sum the lower and higher slicers surrounding the median and divide by 2\n",
    "(sorted(arr)[len(arr) // 2 - 1] + sorted(arr)[len(arr) // 2]) / 2"
   ]
  },
  {
   "cell_type": "code",
   "execution_count": 28,
   "metadata": {},
   "outputs": [
    {
     "data": {
      "text/plain": [
       "array([175, 143, 115,  92,  78, 184,   1,  10,  14, 143,  91,  47,  95,\n",
       "        21])"
      ]
     },
     "execution_count": 28,
     "metadata": {},
     "output_type": "execute_result"
    }
   ],
   "source": [
    "arr"
   ]
  },
  {
   "cell_type": "code",
   "execution_count": 29,
   "metadata": {},
   "outputs": [
    {
     "data": {
      "text/plain": [
       "91.5"
      ]
     },
     "execution_count": 29,
     "metadata": {},
     "output_type": "execute_result"
    }
   ],
   "source": [
    "np.median(arr)"
   ]
  },
  {
   "cell_type": "markdown",
   "metadata": {},
   "source": [
    "Now, the above cell is illegible and does not help much. Let's decompose it step by step."
   ]
  },
  {
   "cell_type": "code",
   "execution_count": 30,
   "metadata": {},
   "outputs": [
    {
     "data": {
      "text/plain": [
       "[1, 10, 14, 21, 47, 78, 91, 92, 95, 115, 143, 143, 175, 184]"
      ]
     },
     "execution_count": 30,
     "metadata": {},
     "output_type": "execute_result"
    }
   ],
   "source": [
    "# first step\n",
    "sorted_array = sorted(arr)\n",
    "sorted_array"
   ]
  },
  {
   "cell_type": "code",
   "execution_count": 31,
   "metadata": {},
   "outputs": [
    {
     "data": {
      "text/plain": [
       "14"
      ]
     },
     "execution_count": 31,
     "metadata": {},
     "output_type": "execute_result"
    }
   ],
   "source": [
    "# second step\n",
    "array_count = len(arr)\n",
    "array_count"
   ]
  },
  {
   "cell_type": "code",
   "execution_count": 32,
   "metadata": {},
   "outputs": [
    {
     "data": {
      "text/plain": [
       "7"
      ]
     },
     "execution_count": 32,
     "metadata": {},
     "output_type": "execute_result"
    }
   ],
   "source": [
    "# third step\n",
    "middle_of_array = (array_count // 2)\n",
    "middle_of_array"
   ]
  },
  {
   "cell_type": "code",
   "execution_count": 33,
   "metadata": {},
   "outputs": [
    {
     "data": {
      "text/plain": [
       "91"
      ]
     },
     "execution_count": 33,
     "metadata": {},
     "output_type": "execute_result"
    }
   ],
   "source": [
    "# fourth step\n",
    "low_bound = sorted_array[middle_of_array - 1]\n",
    "low_bound"
   ]
  },
  {
   "cell_type": "code",
   "execution_count": 34,
   "metadata": {},
   "outputs": [
    {
     "data": {
      "text/plain": [
       "92"
      ]
     },
     "execution_count": 34,
     "metadata": {},
     "output_type": "execute_result"
    }
   ],
   "source": [
    "# fifth step\n",
    "upper_bound = sorted_array[middle_of_array]\n",
    "upper_bound"
   ]
  },
  {
   "cell_type": "code",
   "execution_count": 35,
   "metadata": {},
   "outputs": [
    {
     "data": {
      "text/plain": [
       "91.5"
      ]
     },
     "execution_count": 35,
     "metadata": {},
     "output_type": "execute_result"
    }
   ],
   "source": [
    "# final step\n",
    "answer = (low_bound + upper_bound) / 2\n",
    "answer"
   ]
  },
  {
   "cell_type": "code",
   "execution_count": 36,
   "metadata": {},
   "outputs": [
    {
     "data": {
      "text/plain": [
       "91.5"
      ]
     },
     "execution_count": 36,
     "metadata": {},
     "output_type": "execute_result"
    }
   ],
   "source": [
    "# confirm results\n",
    "np.median(arr)"
   ]
  },
  {
   "cell_type": "markdown",
   "metadata": {},
   "source": [
    "## Mode"
   ]
  },
  {
   "cell_type": "markdown",
   "metadata": {},
   "source": [
    "Mode is the most frequent number in an array of numbers. To get the mode we can pass the `.mode()` method to a series or we take advantage of on of the many methods in the library SciPy. (SciPy stands for scientific computing.) This library is a cousing of NumPy, or maybe a children, and it comes with many similar functionalities as the ones you would find in NumPy."
   ]
  },
  {
   "cell_type": "code",
   "execution_count": 37,
   "metadata": {},
   "outputs": [
    {
     "data": {
      "text/plain": [
       "0    Cape Town\n",
       "dtype: object"
      ]
     },
     "execution_count": 37,
     "metadata": {},
     "output_type": "execute_result"
    }
   ],
   "source": [
    "df['city'].mode()"
   ]
  },
  {
   "cell_type": "code",
   "execution_count": 38,
   "metadata": {},
   "outputs": [],
   "source": [
    "# we import the mode function from scipy\n",
    "from scipy.stats import mode"
   ]
  },
  {
   "cell_type": "markdown",
   "metadata": {},
   "source": [
    "When we import the `mode` function we can pass it to our dataframe and it will return a scipy object with two arrays, one for the values that appear the most, and another for the times it appears the most."
   ]
  },
  {
   "cell_type": "code",
   "execution_count": 39,
   "metadata": {},
   "outputs": [
    {
     "data": {
      "text/plain": [
       "array([[  668,  5002, 24671, 28789]])"
      ]
     },
     "execution_count": 39,
     "metadata": {},
     "output_type": "execute_result"
    }
   ],
   "source": [
    "more_cols = ['price', 'cleaning_fee', 'security_deposit', 'host_is_superhost']\n",
    "mode(df[more_cols])[1]"
   ]
  },
  {
   "cell_type": "markdown",
   "metadata": {},
   "source": [
    "We can pass in this structure to an `np.array()`, transpose it, and get an array of tuples with each element and its respective value next to each other."
   ]
  },
  {
   "cell_type": "code",
   "execution_count": 40,
   "metadata": {},
   "outputs": [
    {
     "data": {
      "text/plain": [
       "array([[[96.31680297851562, 668]],\n",
       "\n",
       "       [[0.0, 5002]],\n",
       "\n",
       "       [[0.0, 24671]],\n",
       "\n",
       "       [['f', 28789]]], dtype=object)"
      ]
     },
     "execution_count": 40,
     "metadata": {},
     "output_type": "execute_result"
    }
   ],
   "source": [
    "np.array(mode(df[more_cols])).T"
   ]
  },
  {
   "cell_type": "markdown",
   "metadata": {},
   "source": [
    "We can confirm the median of any variable using the `.value_counts()` method."
   ]
  },
  {
   "cell_type": "code",
   "execution_count": 41,
   "metadata": {},
   "outputs": [
    {
     "data": {
      "text/plain": [
       "f   0.724\n",
       "t   0.276\n",
       "Name: host_is_superhost, dtype: float64"
      ]
     },
     "execution_count": 41,
     "metadata": {},
     "output_type": "execute_result"
    }
   ],
   "source": [
    "df['host_is_superhost'].value_counts(normalize=True)"
   ]
  },
  {
   "cell_type": "markdown",
   "metadata": {},
   "source": [
    "## Percentiles"
   ]
  },
  {
   "cell_type": "markdown",
   "metadata": {},
   "source": [
    "Percentiles give us the value at a given location of the array. For example, `np.percentile(array, 25)` will return the number where 75% of the data is above of, and 25% of the data is below of. In contrast, `np.percentile(array, 50)` would return the median the median of the array."
   ]
  },
  {
   "cell_type": "code",
   "execution_count": 42,
   "metadata": {},
   "outputs": [
    {
     "data": {
      "text/plain": [
       "48.15359878540039"
      ]
     },
     "execution_count": 42,
     "metadata": {},
     "output_type": "execute_result"
    }
   ],
   "source": [
    "# This answers the question, what prices am I looking within the lower quarter of the array?\n",
    "np.percentile(df['price'], 25)"
   ]
  },
  {
   "cell_type": "code",
   "execution_count": 43,
   "metadata": {},
   "outputs": [
    {
     "data": {
      "text/plain": [
       "555.1765747070312"
      ]
     },
     "execution_count": 43,
     "metadata": {},
     "output_type": "execute_result"
    }
   ],
   "source": [
    "np.percentile(df['price'], 95)"
   ]
  },
  {
   "cell_type": "code",
   "execution_count": 44,
   "metadata": {},
   "outputs": [
    {
     "data": {
      "text/plain": [
       "84.0192"
      ]
     },
     "execution_count": 44,
     "metadata": {},
     "output_type": "execute_result"
    }
   ],
   "source": [
    "np.median(df['price'])"
   ]
  },
  {
   "cell_type": "markdown",
   "metadata": {},
   "source": [
    "We can also get a particular percentile manually by multiplying percentages by the length of the array inside a slice of a sorted array. Think of this as masking."
   ]
  },
  {
   "cell_type": "code",
   "execution_count": 45,
   "metadata": {},
   "outputs": [
    {
     "name": "stdout",
     "output_type": "stream",
     "text": [
      "Our fancy percentage finding scheme --> 15.425000190734863\n",
      "NumPy's version --> 15.425000\n"
     ]
    }
   ],
   "source": [
    "print(f\"Our fancy percentage finding scheme --> {sorted(df['cleaning_fee'])[int(0.30 * len(df))]}\")\n",
    "print(\"NumPy's version --> %f\" % np.percentile(df['cleaning_fee'], 30))"
   ]
  },
  {
   "cell_type": "markdown",
   "metadata": {},
   "source": [
    "## Range"
   ]
  },
  {
   "cell_type": "markdown",
   "metadata": {},
   "source": [
    "The Range of a set is the difference between the maximum and minimum numbers of an array. Going back to our income example, if the highest-paid person in Australia made 2,000,000/year and the lowest-paid person made 500/year, then the range of that set would be the difference between the two, or 1,999,500. This is regardless of the lenght of the array as the range focuses on content not quantity of values.\n",
    "\n",
    "We can use `np.ptp()` to get the range of a numerical array or we can compute the range ourselves in several different ways with regular Python."
   ]
  },
  {
   "cell_type": "code",
   "execution_count": 46,
   "metadata": {},
   "outputs": [
    {
     "data": {
      "text/plain": [
       "3146.04"
      ]
     },
     "execution_count": 46,
     "metadata": {},
     "output_type": "execute_result"
    }
   ],
   "source": [
    "# numpy's way\n",
    "np.ptp(df['cleaning_fee'])"
   ]
  },
  {
   "cell_type": "code",
   "execution_count": 47,
   "metadata": {},
   "outputs": [
    {
     "data": {
      "text/plain": [
       "3146.0400390625"
      ]
     },
     "execution_count": 47,
     "metadata": {},
     "output_type": "execute_result"
    }
   ],
   "source": [
    "# python's way\n",
    "max(df['cleaning_fee']) - min(df['cleaning_fee'])"
   ]
  },
  {
   "cell_type": "code",
   "execution_count": 48,
   "metadata": {},
   "outputs": [
    {
     "data": {
      "text/plain": [
       "3146.0400390625"
      ]
     },
     "execution_count": 48,
     "metadata": {},
     "output_type": "execute_result"
    }
   ],
   "source": [
    "# no helper functions\n",
    "sorted(df['cleaning_fee'])[-1] - sorted(df['cleaning_fee'])[0]"
   ]
  },
  {
   "cell_type": "code",
   "execution_count": 49,
   "metadata": {},
   "outputs": [
    {
     "data": {
      "text/plain": [
       "0.0"
      ]
     },
     "execution_count": 49,
     "metadata": {},
     "output_type": "execute_result"
    }
   ],
   "source": [
    "sorted(df['cleaning_fee'])[0]"
   ]
  },
  {
   "cell_type": "code",
   "execution_count": 50,
   "metadata": {},
   "outputs": [
    {
     "data": {
      "text/plain": [
       "3146.0400390625"
      ]
     },
     "execution_count": 50,
     "metadata": {},
     "output_type": "execute_result"
    }
   ],
   "source": [
    "sorted(df['cleaning_fee'])[-1]"
   ]
  },
  {
   "cell_type": "markdown",
   "metadata": {},
   "source": [
    "## Variance"
   ]
  },
  {
   "cell_type": "markdown",
   "metadata": {},
   "source": [
    "Variance tells us how much variation to expect in an array of data ($x$) with at least 2 numbers. For example, say we have two groups with 5 professional athletes in each. One group has soccer players and the other has tennis players. Now imagine we first ask each group how much do they spend eating out each week, and then we calculate the average of those amounts. Once we do this, we are surprised to find out that both groups of athletes spend the same on average eating out, about 570/week. Here is the data.\n",
    "\n",
    "| Athlete | Group | Money Spent/Week |\n",
    "|:-------:|:----------------:|:----------------:|\n",
    "| Serena Williams | Tennis | \\$570 |\n",
    "| Roger Federer | Tennis | \\$570 |\n",
    "| Venus Williams | Tennis | \\$570 |\n",
    "| Rafael Nadal | Tennis | \\$570 |\n",
    "| Maria Sharapova | Tennis | \\$570 |\n",
    "| Cristiano Ronaldo | Soccer | \\$700 |\n",
    "| Hope Solo | Soccer | \\$380 |\n",
    "| Loenel Messi | Soccer | \\$200 |\n",
    "| Mia Hamm | Soccer | \\$650 |\n",
    "| Diego Maradona | Soccer | \\$920 |\n",
    "\n",
    "\n",
    "Although the average is the same for both groups, the variation per group and player (as seen above) is extremely large. The tennis group's variation is equal to `0` while the variation of the soccer group is much greater than that.\n",
    "\n",
    "Here is the mathematical formula for the variance before we see it in code. To calculate it, we sum the squared difference of each data point of an array from the mean of that same array. We then divide the sum by the lenght of the array.\n",
    "\n",
    "$\\sigma^{2}=\\dfrac {1}{n-1}\\sum _{i}\\left( x_{i}-\\overline {x}\\right) ^{2}$\n",
    "\n",
    "In the folmula above, \n",
    "- $\\overline{X}$ stands for the mean\n",
    "- $n$ is the lenght of the array, vector, set, or list\n",
    "- $\\dfrac{1}{n-1}$ means we will divide everything by the lenght\n",
    "- The greek letter $\\sum$ denotes sumation\n",
    "- $x_{i}$ means every `x` value starting from `i`. In other words, every element of the array\n",
    "- $\\sigma^{2}$ --> squared standard deviation, aka result\n",
    "- $\\left( x_{i}-\\overline {x}\\right) ^{2}$ means the square difference\n",
    "\n",
    "Let's calculate the variance using different methods in Python."
   ]
  },
  {
   "cell_type": "code",
   "execution_count": 51,
   "metadata": {},
   "outputs": [
    {
     "data": {
      "text/plain": [
       "['bathrooms',\n",
       " 'price',\n",
       " 'extra_people',\n",
       " 'minimum_nights_avg_ntm',\n",
       " 'maximum_nights_avg_ntm']"
      ]
     },
     "execution_count": 51,
     "metadata": {},
     "output_type": "execute_result"
    }
   ],
   "source": [
    "# remember this variable\n",
    "some_numerical_vars"
   ]
  },
  {
   "cell_type": "code",
   "execution_count": 52,
   "metadata": {},
   "outputs": [
    {
     "data": {
      "text/plain": [
       "bathrooms                         1.345\n",
       "price                        304382.781\n",
       "extra_people                    225.221\n",
       "minimum_nights_avg_ntm          254.247\n",
       "maximum_nights_avg_ntm   2516169216.000\n",
       "dtype: float32"
      ]
     },
     "execution_count": 52,
     "metadata": {},
     "output_type": "execute_result"
    }
   ],
   "source": [
    "# we can use a method on the entire array\n",
    "df[some_numerical_vars].var()"
   ]
  },
  {
   "cell_type": "markdown",
   "metadata": {},
   "source": [
    "We can also use the numpy method on a one dimensional array."
   ]
  },
  {
   "cell_type": "code",
   "execution_count": 53,
   "metadata": {},
   "outputs": [
    {
     "data": {
      "text/plain": [
       "254.24072265625"
      ]
     },
     "execution_count": 53,
     "metadata": {},
     "output_type": "execute_result"
    }
   ],
   "source": [
    "np.var(df['minimum_nights_avg_ntm'])"
   ]
  },
  {
   "cell_type": "markdown",
   "metadata": {},
   "source": [
    "The last option is to do it ourselved with by coding every step of the formula."
   ]
  },
  {
   "cell_type": "code",
   "execution_count": 54,
   "metadata": {},
   "outputs": [
    {
     "data": {
      "text/plain": [
       "188.6138153076172"
      ]
     },
     "execution_count": 54,
     "metadata": {},
     "output_type": "execute_result"
    }
   ],
   "source": [
    "df['price'].mean()"
   ]
  },
  {
   "cell_type": "code",
   "execution_count": 55,
   "metadata": {},
   "outputs": [
    {
     "data": {
      "text/plain": [
       "12602    290.897\n",
       "1171     -73.366\n",
       "12544   -130.995\n",
       "12541    771.434\n",
       "12539    771.434\n",
       "Name: price, dtype: float64"
      ]
     },
     "execution_count": 55,
     "metadata": {},
     "output_type": "execute_result"
    }
   ],
   "source": [
    "# first take the difference between each data point and the mean of the array\n",
    "diff_var = (df['price'] - df['price'].mean())\n",
    "diff_var.head()"
   ]
  },
  {
   "cell_type": "code",
   "execution_count": 56,
   "metadata": {},
   "outputs": [
    {
     "data": {
      "text/plain": [
       "12602    84620.827\n",
       "1171      5382.543\n",
       "12544    17159.589\n",
       "12541   595110.661\n",
       "12539   595110.661\n",
       "Name: price, dtype: float64"
      ]
     },
     "execution_count": 56,
     "metadata": {},
     "output_type": "execute_result"
    }
   ],
   "source": [
    "# then squared the difference\n",
    "power_two = diff_var ** 2\n",
    "power_two.head()"
   ]
  },
  {
   "cell_type": "code",
   "execution_count": 57,
   "metadata": {},
   "outputs": [
    {
     "data": {
      "text/plain": [
       "12096759607.486156"
      ]
     },
     "execution_count": 57,
     "metadata": {},
     "output_type": "execute_result"
    }
   ],
   "source": [
    "# sum the array of differences\n",
    "sum_price_diff = power_two.sum()\n",
    "sum_price_diff"
   ]
  },
  {
   "cell_type": "code",
   "execution_count": 58,
   "metadata": {},
   "outputs": [
    {
     "data": {
      "text/plain": [
       "304389.914886041"
      ]
     },
     "execution_count": 58,
     "metadata": {},
     "output_type": "execute_result"
    }
   ],
   "source": [
    "# then divide the sum of differences by the lenght of the array minus 1\n",
    "variance = sum_price_diff / (len(df) - 1)\n",
    "variance"
   ]
  },
  {
   "cell_type": "code",
   "execution_count": 59,
   "metadata": {},
   "outputs": [
    {
     "data": {
      "text/plain": [
       "304389.9148860502"
      ]
     },
     "execution_count": 59,
     "metadata": {},
     "output_type": "execute_result"
    }
   ],
   "source": [
    "# imagine if we were to do that whole process in one line of code\n",
    "sum([(x - df['price'].mean()) ** 2 for x in df['price']]) / (len(df['price']) - 1)"
   ]
  },
  {
   "cell_type": "markdown",
   "metadata": {},
   "source": [
    "Let's unpack what just happened in the cell above.\n",
    "\n",
    "- We initialised a list comprehension\n",
    "- then subtracted the mean of the price column from every one its prices\n",
    "- we then squared the result\n",
    "- summed everything up\n",
    "- and finished by dividing the final product by the n count of the price variable minus 1\n",
    "\n",
    "In statistics, the variance and the standard deviation of a **sample** al always divided by `n - 1`. This is to signify the understatement of the true parameter $\\overline {X}$ which we don't know."
   ]
  },
  {
   "cell_type": "markdown",
   "metadata": {},
   "source": [
    "## Standard Deviation"
   ]
  },
  {
   "cell_type": "markdown",
   "metadata": {},
   "source": [
    "The **Standard Deviation** measures the dispersion of some data from its mean. Think of the dispertion of (normally distributed) data as percentage blocks surrounding the average, mean and median values (see the picture below).\n",
    "\n",
    "![std](https://sway.office.com/s/EfPj5fmDwSziDupy/images/iJQFxVhHL6o7Sq?quality=860&allowAnimation=false)  \n",
    "**Source:** https://sixsigmadsi.com/standard-deviation-measure-of-dispersion/\n",
    "\n",
    "Every data point in these blocks is said to be 1, 2, or 3 standard deviations away from the mean. Additionally, these blocks provide us with an expectation for future values in percentage terms. Meaning, if we were to ask how many of the data points in our set are 1 standard deviation below the mean, we would mention that X% of our data points would land on that block. A more succint example would be, if crazy rainy days in Australia happened with a frequency of 1 standard deviation below or above the mean, and the weather temperatures were normally distributed, we could say that we would expect crazy rainy weather about 34% (up or down) of the time in a year. Of course, we could be even more specific about this, but the important distinction to keep in mind here is that sequential regions within a distribution can only be found in this form when the distribution of the data is normal.\n",
    "\n",
    "$\\sigma = \\sqrt{\\dfrac {1}{n-1}\\sum _{i=1}\\left( x_{i}-\\overline {x}\\right) ^{2}}$\n",
    "\n",
    "In the folmula above, \n",
    "- $\\overline{x}$ stands for the sample mean\n",
    "- $n$ is the lenght of the array, vector, set, or list\n",
    "- $\\dfrac{1}{n-1}$ means we will divide everything by the lenght minus 1\n",
    "- The greek letter $\\sum$ denotes sumation\n",
    "- $x_{i}$ means every `x` value in our array starting from `i`\n",
    "- $\\sigma$ --> sigma == Result\n",
    "- $\\left( x_{i}-\\overline {x}\\right) ^{2}$ means the square difference\n",
    "\n",
    "`np.std()` and `df[quant_vars_list].std()` will return the standard deviation of an array or matrix."
   ]
  },
  {
   "cell_type": "code",
   "execution_count": 60,
   "metadata": {},
   "outputs": [
    {
     "data": {
      "text/plain": [
       "551.708984375"
      ]
     },
     "execution_count": 60,
     "metadata": {},
     "output_type": "execute_result"
    }
   ],
   "source": [
    "# givent the average and the standard deviation of prices, what's the highest value we expect to see 34%\n",
    "# of the time above the mean? Should this be a normally distributed array of course.\n",
    "df['price'].std()"
   ]
  },
  {
   "cell_type": "code",
   "execution_count": 61,
   "metadata": {},
   "outputs": [
    {
     "data": {
      "text/plain": [
       "551.7020263671875"
      ]
     },
     "execution_count": 61,
     "metadata": {},
     "output_type": "execute_result"
    }
   ],
   "source": [
    "np.std(df['price'])"
   ]
  },
  {
   "cell_type": "markdown",
   "metadata": {},
   "source": [
    "We can also calculate the standard deviation by taking the square root of the variance."
   ]
  },
  {
   "cell_type": "code",
   "execution_count": 62,
   "metadata": {},
   "outputs": [
    {
     "data": {
      "text/plain": [
       "551.7020255536497"
      ]
     },
     "execution_count": 62,
     "metadata": {},
     "output_type": "execute_result"
    }
   ],
   "source": [
    "np.sqrt(np.var(df['price']))"
   ]
  },
  {
   "cell_type": "markdown",
   "metadata": {},
   "source": [
    "## Minimum & Maximum"
   ]
  },
  {
   "cell_type": "markdown",
   "metadata": {},
   "source": [
    "The Minimum & Maximum are the lowest and highest values in an array, respectively. These are useful when we have quantitative variables such as income, or house prices, but not when we have categorical variables such as gender or weekdays. For example, imagine having a variable called food temperature that is classified as hot, warm, or cold (with numerical equivalents of 1, 2, 3). Our functions MIN and MAX will not be very useful for this categorical variable since the distance of such categories would not carry much meaning. In contrast, the difference between an income of `$97,000` and an income of `$45,000` would be `$52,000`, and that is also the range between the two.\n",
    "\n",
    "We can pass in min and max as methods to a dataframe or as numpy functions to arrays."
   ]
  },
  {
   "cell_type": "code",
   "execution_count": 63,
   "metadata": {
    "scrolled": true
   },
   "outputs": [
    {
     "data": {
      "text/plain": [
       "id                                                                                       10001803\n",
       "listing_url                                                 https://www.airbnb.com/rooms/10001803\n",
       "scrape_id                                                                          20200426042542\n",
       "last_scraped                                                                           2020-04-26\n",
       "name                                                                                          3⁂ \n",
       "summary                                                   Twin bedroom with extra bed for anot...\n",
       "space                                                                                            \n",
       "description                                               Twin bedroom with extra bed for anot...\n",
       "experiences_offered                                                                          none\n",
       "neighborhood_overview                           \\tSupermarket 1.\\tAEON 2.\\tN Mart \\tConvenienc...\n",
       "notes                                           \\tFree Fibre wi-fi \\tWe prefer you smoke outsi...\n",
       "transit                                                                                          \n",
       "access                                                                                           \n",
       "interaction                                                                                      \n",
       "house_rules                                     !! Guest with visible tattoos, please refrain ...\n",
       "picture_url                                     https://a0.muscache.com/4ea/air/v2//pictures/0...\n",
       "host_id                                                                                 100002397\n",
       "host_url                                              https://www.airbnb.com/users/show/100002397\n",
       "host_name                                                             & AND HOSTEL-ASAKUSA North-\n",
       "host_since                                                                             2008-08-11\n",
       "host_location                                                                        South Africa\n",
       "host_about                                                                                     \\n\n",
       "host_response_time                                                                        Unknown\n",
       "host_is_superhost                                                                               f\n",
       "host_thumbnail_url                              https://a0.muscache.com/defaults/user_pic-50x5...\n",
       "host_picture_url                                https://a0.muscache.com/defaults/user_pic-225x...\n",
       "host_verifications                              ['email', 'facebook', 'jumio', 'offline_govern...\n",
       "host_has_profile_pic                                                                            f\n",
       "host_identity_verified                                                                          f\n",
       "street                                                    \\nCape Town, Western Cape, South Africa\n",
       "neighbourhood_cleansed                                                                  Adachi Ku\n",
       "city                                                                                  \\nCape Town\n",
       "state                                                                                          13\n",
       "zipcode                                                                                      0001\n",
       "market                                                                                    Antwerp\n",
       "smart_location                                                          \\nCape Town, South Africa\n",
       "country_code                                                                                   BE\n",
       "country                                                                                   Belgium\n",
       "is_location_exact                                                                               f\n",
       "property_type                                                                          Aparthotel\n",
       "room_type                                                                         Entire home/apt\n",
       "bed_type                                                                                   Airbed\n",
       "amenities                                       {\"Air conditioning\",\"Free parking on premises\"...\n",
       "minimum_nights                                                                                  1\n",
       "maximum_nights                                                                                  1\n",
       "calendar_updated                                                                       1 week ago\n",
       "has_availability                                                                                t\n",
       "calendar_last_scraped                                                                  2020-04-26\n",
       "requires_license                                                                                f\n",
       "instant_bookable                                                                                f\n",
       "is_business_travel_ready                                                                        f\n",
       "cancellation_policy                                                                      flexible\n",
       "require_guest_profile_picture                                                                   f\n",
       "require_guest_phone_verification                                                                f\n",
       "first_review                                                                           2009-07-11\n",
       "last_review                                                                            2009-07-11\n",
       "latitude                                                                                   27.072\n",
       "longitude                                                                                   4.342\n",
       "bathrooms                                                                                   0.000\n",
       "price                                                                                       0.000\n",
       "extra_people                                                                                0.000\n",
       "minimum_nights_avg_ntm                                                                      1.000\n",
       "maximum_nights_avg_ntm                                                                      1.000\n",
       "accommodates                                                                                    1\n",
       "guests_included                                                                                 1\n",
       "minimum_minimum_nights                                                                          1\n",
       "maximum_minimum_nights                                                                          1\n",
       "minimum_maximum_nights                                                                          1\n",
       "maximum_maximum_nights                                                                          1\n",
       "availability_30                                                                                 0\n",
       "availability_60                                                                                 0\n",
       "availability_90                                                                                 0\n",
       "availability_365                                                                                0\n",
       "number_of_reviews                                                                               0\n",
       "number_of_reviews_ltm                                                                           0\n",
       "calculated_host_listings_count                                                                  1\n",
       "calculated_host_listings_count_entire_homes                                                     0\n",
       "bedrooms                                                                                        0\n",
       "beds                                                                                            0\n",
       "calculated_host_listings_count_private_rooms                                                    0\n",
       "calculated_host_listings_count_shared_rooms                                                     0\n",
       "host_listings_count                                                                             0\n",
       "host_total_listings_count                                                                       0\n",
       "security_deposit                                                                            0.000\n",
       "review_scores_checkin                                                                       0.000\n",
       "reviews_per_month                                                                           0.000\n",
       "host_response_rate                                                                          0.000\n",
       "host_acceptance_rate                                                                        0.000\n",
       "review_scores_rating                                                                        0.000\n",
       "review_scores_cleanliness                                                                   0.000\n",
       "review_scores_value                                                                         0.000\n",
       "review_scores_accuracy                                                                      0.000\n",
       "review_scores_communication                                                                 0.000\n",
       "review_scores_location                                                                      0.000\n",
       "cleaning_fee                                                                                0.000\n",
       "dtype: object"
      ]
     },
     "execution_count": 63,
     "metadata": {},
     "output_type": "execute_result"
    }
   ],
   "source": [
    "np.min(df)"
   ]
  },
  {
   "cell_type": "code",
   "execution_count": 64,
   "metadata": {
    "scrolled": true
   },
   "outputs": [
    {
     "data": {
      "text/plain": [
       "id                                                                                        9997148\n",
       "listing_url                                                  https://www.airbnb.com/rooms/9997148\n",
       "scrape_id                                                                          20200625032351\n",
       "last_scraped                                                                           2020-06-26\n",
       "name                                            ￮New apartment OPEN!Ikebukuro!WiFi free!2rd fl...\n",
       "summary                                         ￮お部屋のﾚｲｱｳﾄ ･15畳の広々としたﾘﾋﾞﾝｸﾞにｷｯﾁﾝ､ﾊﾞｽﾙｰﾑ､洗濯機､ﾄｲ...\n",
       "space                                           ￮Room￮ The room has a key, so your privacy is ...\n",
       "description                                     ￮お部屋のﾚｲｱｳﾄ ･15畳の広々としたﾘﾋﾞﾝｸﾞにｷｯﾁﾝ､ﾊﾞｽﾙｰﾑ､洗濯機､ﾄｲ...\n",
       "experiences_offered                                                                          none\n",
       "neighborhood_overview                           ￮ About 1.5 hours by train from Narita Airport...\n",
       "notes                                           ￮Your rooms is on the 2nd floor ￮Toilet is sha...\n",
       "transit                                         ￮Shinjuku It takes 2mins by train from Hatsuda...\n",
       "access                                          ￭办理入住手续､退房 登记入住:15:00 退房:11:00 补办入住手续也很灵活｡另外,在...\n",
       "interaction                                     ￭ Prompt Reply - Get back to you immediately. ...\n",
       "house_rules                                     ￭｢下駄箱｣Shoe cupboard ｢部屋に入る前､に靴を脱いでｽﾘｯﾊﾟを履いてくださ...\n",
       "picture_url                                     https://z0.muscache.cn/im/pictures/cfdad6db-94...\n",
       "host_id                                                                                  99992436\n",
       "host_url                                               https://www.airbnb.com/users/show/99992436\n",
       "host_name                                                                                 ﾜﾝﾓｱｽﾃｲ\n",
       "host_since                                                                             2020-06-21\n",
       "host_location                                                        鎌倉市材木座3丁目17-36aquaBrise鎌倉201\n",
       "host_about                                      ﾜｲﾝと温泉､旅行､猫が大好きです｡\\r\\nｹﾞｽﾄの皆さんに､東京のﾘｱﾙ生活を体験してい...\n",
       "host_response_time                                                                 within an hour\n",
       "host_is_superhost                                                                               t\n",
       "host_thumbnail_url                              https://z0.muscache.cn/im/pictures/user/b6cc2b...\n",
       "host_picture_url                                https://z0.muscache.cn/im/pictures/user/b6cc2b...\n",
       "host_verifications                                                                             []\n",
       "host_has_profile_pic                                                                            t\n",
       "host_identity_verified                                                                          t\n",
       "street                                                                            足立区, 東京都, Japan\n",
       "neighbourhood_cleansed                                                                  Zurenborg\n",
       "city                                                                                          足立区\n",
       "state                                                                                          鷺宮\n",
       "zipcode                                                                                  １４２－００６４\n",
       "market                                                                                      Tokyo\n",
       "smart_location                                                                         足立区, Japan\n",
       "country_code                                                                                   ZA\n",
       "country                                                                              South Africa\n",
       "is_location_exact                                                                               t\n",
       "property_type                                                                                Yurt\n",
       "room_type                                                                             Shared room\n",
       "bed_type                                                                                 Real Bed\n",
       "amenities                                                                                      {}\n",
       "minimum_nights                                                                                 99\n",
       "maximum_nights                                                                               9999\n",
       "calendar_updated                                                                        yesterday\n",
       "has_availability                                                                                t\n",
       "calendar_last_scraped                                                                  2020-06-26\n",
       "requires_license                                                                                t\n",
       "instant_bookable                                                                                t\n",
       "is_business_travel_ready                                                                        f\n",
       "cancellation_policy                                                               super_strict_60\n",
       "require_guest_profile_picture                                                                   t\n",
       "require_guest_phone_verification                                                                t\n",
       "first_review                                                                           2020-06-23\n",
       "last_review                                                                            2020-06-25\n",
       "latitude                                                                                   51.349\n",
       "longitude                                                                                 142.203\n",
       "bathrooms                                                                                  50.000\n",
       "price                                                                                   18510.555\n",
       "extra_people                                                                              352.801\n",
       "minimum_nights_avg_ntm                                                                   1125.000\n",
       "maximum_nights_avg_ntm                                                               10000000.000\n",
       "accommodates                                                                                   20\n",
       "guests_included                                                                                27\n",
       "minimum_minimum_nights                                                                       1125\n",
       "maximum_minimum_nights                                                                       1125\n",
       "minimum_maximum_nights                                                                   10000000\n",
       "maximum_maximum_nights                                                                   10000000\n",
       "availability_30                                                                                30\n",
       "availability_60                                                                                60\n",
       "availability_90                                                                                90\n",
       "availability_365                                                                              365\n",
       "number_of_reviews                                                                             567\n",
       "number_of_reviews_ltm                                                                         268\n",
       "calculated_host_listings_count                                                                395\n",
       "calculated_host_listings_count_entire_homes                                                   383\n",
       "bedrooms                                                                                       50\n",
       "beds                                                                                           56\n",
       "calculated_host_listings_count_private_rooms                                                   95\n",
       "calculated_host_listings_count_shared_rooms                                                    35\n",
       "host_listings_count                                                                          3331\n",
       "host_total_listings_count                                                                    3331\n",
       "security_deposit                                                                         9255.000\n",
       "review_scores_checkin                                                                      10.000\n",
       "reviews_per_month                                                                          16.660\n",
       "host_response_rate                                                                        100.000\n",
       "host_acceptance_rate                                                                      100.000\n",
       "review_scores_rating                                                                      100.000\n",
       "review_scores_cleanliness                                                                  10.000\n",
       "review_scores_value                                                                        10.000\n",
       "review_scores_accuracy                                                                     10.000\n",
       "review_scores_communication                                                                10.000\n",
       "review_scores_location                                                                     10.000\n",
       "cleaning_fee                                                                             3146.040\n",
       "dtype: object"
      ]
     },
     "execution_count": 64,
     "metadata": {},
     "output_type": "execute_result"
    }
   ],
   "source": [
    "np.max(df)"
   ]
  },
  {
   "cell_type": "markdown",
   "metadata": {},
   "source": [
    "We can also sort the array and select the first and last elements for the min and the max."
   ]
  },
  {
   "cell_type": "code",
   "execution_count": 65,
   "metadata": {},
   "outputs": [
    {
     "data": {
      "text/plain": [
       "'1'"
      ]
     },
     "execution_count": 65,
     "metadata": {},
     "output_type": "execute_result"
    }
   ],
   "source": [
    "# manual min\n",
    "sorted(df['minimum_nights'])[0]"
   ]
  },
  {
   "cell_type": "code",
   "execution_count": 66,
   "metadata": {},
   "outputs": [
    {
     "data": {
      "text/plain": [
       "'99'"
      ]
     },
     "execution_count": 66,
     "metadata": {},
     "output_type": "execute_result"
    }
   ],
   "source": [
    "# manual max\n",
    "sorted(df['minimum_nights'])[-1]"
   ]
  },
  {
   "cell_type": "markdown",
   "metadata": {},
   "source": [
    "## Skewness"
   ]
  },
  {
   "cell_type": "markdown",
   "metadata": {},
   "source": [
    "The Skewness of an array tells us how distorted the distribution of such array is from the most common value or the peak of the curve. A rightly-skewed distribution is said to be positively skewed, and the opposite means that there will be a mountain going on the opposite direction (see below).\n",
    "\n",
    "![skewness](https://4.bp.blogspot.com/-e-CL8iluz2o/Vt3Ntg_38kI/AAAAAAAAIJo/zGJMyNaMbFY/s1600/skewed.jpg)  \n",
    "**Source:** https://www.resourceaholic.com/p/resource-library-statistics-level.html\n",
    "\n",
    "$Skewness = \\frac{\\sum_{i=1}^{N} (X_{i} - \\overline{X})^{3}}{(N - 1)\\sigma^3}$\n",
    "\n",
    "In the folmula above, \n",
    "- $\\overline{X}$ stands for the mean\n",
    "- $N$ is the lenght of the array, vector, set, or list\n",
    "- The greek letter $\\sum$ denotes sumation\n",
    "- $X_{i}$ means every `x` value in our array starting from `i=1`\n",
    "- $\\sigma^3$ --> standard deviation to the cube\n",
    "\n",
    "Another important point to remember is that the mean of a positively-skewed distribution will be larger than the median, and the opposite is true for a negatively-skewed distribution. When skeweness is zero, there's no distortion in the distribution."
   ]
  },
  {
   "cell_type": "code",
   "execution_count": 69,
   "metadata": {},
   "outputs": [
    {
     "data": {
      "image/png": "[encoded data removed]",
      "text/plain": [
       "<Figure size 432x288 with 1 Axes>"
      ]
     },
     "metadata": {
      "needs_background": "light"
     },
     "output_type": "display_data"
    }
   ],
   "source": [
    "# let's see if the cleaning fees in our dataset present a distorted distribution\n",
    "sns.kdeplot(df['cleaning_fee'].sample(500))\n",
    "plt.title(\"Density distribution for Price per stay\")\n",
    "plt.show()"
   ]
  },
  {
   "cell_type": "markdown",
   "metadata": {},
   "source": [
    "We can also pass the `.skew()` method to our dataframe and get a sense of how distorted our variables might be."
   ]
  },
  {
   "cell_type": "code",
   "execution_count": 71,
   "metadata": {},
   "outputs": [
    {
     "data": {
      "text/plain": [
       "cleaning_fee       5.870\n",
       "security_deposit   7.565\n",
       "dtype: float32"
      ]
     },
     "execution_count": 71,
     "metadata": {},
     "output_type": "execute_result"
    }
   ],
   "source": [
    "df[['cleaning_fee', 'security_deposit']].sample(500).skew()"
   ]
  },
  {
   "cell_type": "markdown",
   "metadata": {},
   "source": [
    "SciPy has convenient skew formula in the stats library as well."
   ]
  },
  {
   "cell_type": "code",
   "execution_count": 72,
   "metadata": {},
   "outputs": [],
   "source": [
    "from scipy.stats import skew"
   ]
  },
  {
   "cell_type": "code",
   "execution_count": 74,
   "metadata": {},
   "outputs": [
    {
     "data": {
      "text/plain": [
       "5.1376295"
      ]
     },
     "execution_count": 74,
     "metadata": {},
     "output_type": "execute_result"
    }
   ],
   "source": [
    "df['extra_people'].skew()"
   ]
  },
  {
   "cell_type": "code",
   "execution_count": 73,
   "metadata": {},
   "outputs": [
    {
     "name": "stdout",
     "output_type": "stream",
     "text": [
      "Extra People Skewness is 5.14\n"
     ]
    }
   ],
   "source": [
    "print(\"Extra People Skewness is %.2f\" % skew(df['extra_people']))"
   ]
  },
  {
   "cell_type": "code",
   "execution_count": 76,
   "metadata": {},
   "outputs": [
    {
     "data": {
      "image/png": "[encoded data removed]",
      "text/plain": [
       "<Figure size 432x288 with 1 Axes>"
      ]
     },
     "metadata": {
      "needs_background": "light"
     },
     "output_type": "display_data"
    }
   ],
   "source": [
    "sns.kdeplot(df['extra_people'])\n",
    "plt.title(\"Density distribution for the price for extra people\")\n",
    "plt.show()"
   ]
  },
  {
   "cell_type": "markdown",
   "metadata": {},
   "source": [
    "## Kurtosis"
   ]
  },
  {
   "cell_type": "markdown",
   "metadata": {},
   "source": [
    "Kurtosis is a very useful statistic that tells us how much do the tails of the distribution of a random variable differ from those of a normal distribution (e.g. a true bell-shaped curve). It tells us if we have extreme values or not in our variable.\n",
    "\n",
    "The kurtosis of a normal distribution is usually at a value of 3. A much higher kurtosis than this means that we are dealing with outliers. On the other hand, a lower kurtosis means that the distribution we are dealing with has less extreme values than those seen in a normaly distributed array of data.\n",
    "\n",
    "![example_kurt](https://anuradhasaha.weebly.com/uploads/5/4/4/1/54419337/kurtosis2.jpg)  \n",
    "**Source:** image author, [Anuradha Saha](https://anuradhasaha.weebly.com/)\n",
    "\n",
    "Formula:\n",
    "\n",
    "$Kurtosis = \\frac{1}{n} \\sum_{i=1}^{n} (\\frac{x_{i} - \\overline{x}}{n - 1})\\sigma^4$\n",
    "\n",
    "In the folmula above, \n",
    "- $\\overline{x}$ stands for the mean\n",
    "- $n$ is the lenght of the array, vector, set, or list\n",
    "- The greek letter $\\sum$ denotes sumation\n",
    "- $x_{i}$ means every `x` value in our array starting from `i=1`\n",
    "- $\\sigma^3$ --> standard deviation to the cube\n",
    "\n",
    "Our pandas dataframe has two methods to calculate the Kurtosis. `.kurt()` and `.kurtosis()`. They both return the same output.\n",
    "\n",
    "**NB.** There is a great medium article on skewness and kurtosis that you can find [here](https://towardsdatascience.com/skewness-kurtosis-simplified-1338e094fc85)."
   ]
  },
  {
   "cell_type": "code",
   "execution_count": 77,
   "metadata": {},
   "outputs": [
    {
     "data": {
      "text/plain": [
       "['bathrooms',\n",
       " 'price',\n",
       " 'extra_people',\n",
       " 'minimum_nights_avg_ntm',\n",
       " 'maximum_nights_avg_ntm']"
      ]
     },
     "execution_count": 77,
     "metadata": {},
     "output_type": "execute_result"
    }
   ],
   "source": [
    "some_numerical_vars"
   ]
  },
  {
   "cell_type": "code",
   "execution_count": 78,
   "metadata": {},
   "outputs": [
    {
     "data": {
      "text/plain": [
       "bathrooms                  249.995\n",
       "price                      233.683\n",
       "extra_people                64.371\n",
       "minimum_nights_avg_ntm    2066.698\n",
       "maximum_nights_avg_ntm   39727.145\n",
       "dtype: float32"
      ]
     },
     "execution_count": 78,
     "metadata": {},
     "output_type": "execute_result"
    }
   ],
   "source": [
    "df[some_numerical_vars].kurt()"
   ]
  },
  {
   "cell_type": "code",
   "execution_count": 79,
   "metadata": {},
   "outputs": [
    {
     "data": {
      "text/plain": [
       "bathrooms                 True\n",
       "price                     True\n",
       "extra_people              True\n",
       "minimum_nights_avg_ntm    True\n",
       "maximum_nights_avg_ntm    True\n",
       "dtype: bool"
      ]
     },
     "execution_count": 79,
     "metadata": {},
     "output_type": "execute_result"
    }
   ],
   "source": [
    "df[some_numerical_vars].kurtosis() == df[some_numerical_vars].kurt()"
   ]
  },
  {
   "cell_type": "code",
   "execution_count": 80,
   "metadata": {},
   "outputs": [],
   "source": [
    "from scipy.stats import kurtosis"
   ]
  },
  {
   "cell_type": "code",
   "execution_count": 81,
   "metadata": {},
   "outputs": [
    {
     "name": "stdout",
     "output_type": "stream",
     "text": [
      "Cleaning fee Kurtosis 781.77\n"
     ]
    }
   ],
   "source": [
    "print(\"Cleaning fee Kurtosis %.2f\" % kurtosis(df['cleaning_fee']))"
   ]
  },
  {
   "cell_type": "markdown",
   "metadata": {},
   "source": [
    "# Relationships"
   ]
  },
  {
   "cell_type": "markdown",
   "metadata": {},
   "source": [
    "As data analysts we want to be able to determine how does one variable changes or moves in relation to another. We can do this visually using quantitative variables and scatter plots or with some handy mathematical functions that we can either create ourselves, or use from libraries like NumPy and SciPy. Let's begin by talking about correlation.\n",
    "\n",
    "**Correlation** is a measure of how strongly related two variables are with one another. It gives us a way of quantifying the similarity, disimilarity, or lack-therof between variables. The value of the correlation between two variables goes from -1 to 1, where 1 means positively correlated, -1 means negatively correlated, and 0 means no correlation whatsoever. This value is derived by calculating the **Pearson Correlation Coefficient**, among other measures.\n",
    "\n",
    "![corr](https://www.investopedia.com/thmb/PXAx5y_OS5z7n-Rn9m--QOC29rw=/1500x1000/filters:no_upscale():max_bytes(150000):strip_icc()/TC_3126228-how-to-calculate-the-correlation-coefficient-5aabeb313de423003610ee40.png)  \n",
    "**Source:** [Investopedia](https://www.investopedia.com/ask/answers/032515/what-does-it-mean-if-correlation-coefficient-positive-negative-or-zero.asp)\n",
    "\n",
    "The correlation between two or more variables can be best observed through visualisations such as scatter plots and they can also be directly computed by hand or by using different functions in Python. The mathematical formula is:\n",
    "\n",
    "$r_{xy}=\\dfrac {\\sum \\left( x_{i}-\\overline {x}\\right) \\left( y_{i}-\\overline {y}\\right) }{\\sqrt {\\sum \\left( x_{i}-\\overline {x}\\right) ^{2}\\sum \\left( y_{i}-\\overline {y}\\right) ^{2}}}$\n",
    "\n",
    "\n",
    "Where\n",
    "\n",
    "- $r_{xy}$ is the relationship between the variables X and Y\n",
    "- $x_{i}$ is every element in array X\n",
    "- $y_{i}$ is every element in array Y\n",
    "- $\\overline {x}$ is the mean of array X\n",
    "- $\\overline {y}$ is the mean of array Y\n",
    "\n",
    "For the correlation, we are dividing the covariance between the product of the standard deviations of each array. More on covariance below."
   ]
  },
  {
   "cell_type": "code",
   "execution_count": 82,
   "metadata": {},
   "outputs": [
    {
     "data": {
      "text/plain": [
       "(188.6138153076172, 37.70492935180664)"
      ]
     },
     "execution_count": 82,
     "metadata": {},
     "output_type": "execute_result"
    }
   ],
   "source": [
    "# let's create some columns for our prices\n",
    "prices = df['price']\n",
    "clean_fee = df['cleaning_fee']\n",
    "\n",
    "mean_price = prices.mean()\n",
    "mean_clean = clean_fee.mean()\n",
    "mean_price, mean_clean"
   ]
  },
  {
   "cell_type": "code",
   "execution_count": 83,
   "metadata": {},
   "outputs": [
    {
     "data": {
      "text/plain": [
       "172615589.80086443"
      ]
     },
     "execution_count": 83,
     "metadata": {},
     "output_type": "execute_result"
    }
   ],
   "source": [
    "# let's sum up the product of the differences between the elements in each array and their mean\n",
    "arrays_diff_sum = sum((prices - mean_price) * (clean_fee - mean_clean))\n",
    "arrays_diff_sum"
   ]
  },
  {
   "cell_type": "code",
   "execution_count": 84,
   "metadata": {},
   "outputs": [
    {
     "data": {
      "text/plain": [
       "994642407.5383716"
      ]
     },
     "execution_count": 84,
     "metadata": {},
     "output_type": "execute_result"
    }
   ],
   "source": [
    "# let's now compute the square root of the sum of the squared difference between each of the \n",
    "# elements in an array and its mean\n",
    "diff_sqrt = np.sqrt(sum((prices - mean_price)**2) * sum((clean_fee - mean_clean)**2))\n",
    "diff_sqrt"
   ]
  },
  {
   "cell_type": "code",
   "execution_count": 85,
   "metadata": {},
   "outputs": [
    {
     "name": "stdout",
     "output_type": "stream",
     "text": [
      "The correlation between regular prices per stay and the cleaning fees is: 0.174\n"
     ]
    }
   ],
   "source": [
    "r_xy = arrays_diff_sum / diff_sqrt\n",
    "print(\"The correlation between regular prices per stay and the cleaning fees is: %.3f\" % r_xy)"
   ]
  },
  {
   "cell_type": "code",
   "execution_count": 86,
   "metadata": {},
   "outputs": [
    {
     "name": "stdout",
     "output_type": "stream",
     "text": [
      "Correlation between prices per stay and the cleaning fees is: 0.174\n"
     ]
    }
   ],
   "source": [
    "# you can conveniently call the pandas method .corr with two Series as well and achieve the same result\n",
    "print(\"Correlation between prices per stay and the cleaning fees is: %.3f\" % prices.corr(clean_fee))"
   ]
  },
  {
   "cell_type": "markdown",
   "metadata": {},
   "source": [
    "The `pearsonr()` function from scipy stats will also give you the pearson correlation plus the p-value of the arrays. The P-value is the probability that you would have found the current result in another similar sample if the correlation was in fact zero. Think about this as the least likely chance to see another value like the one we got."
   ]
  },
  {
   "cell_type": "code",
   "execution_count": 87,
   "metadata": {},
   "outputs": [],
   "source": [
    "from scipy.stats import pearsonr"
   ]
  },
  {
   "cell_type": "code",
   "execution_count": 88,
   "metadata": {},
   "outputs": [
    {
     "data": {
      "text/plain": [
       "0.17354537522447597"
      ]
     },
     "execution_count": 88,
     "metadata": {},
     "output_type": "execute_result"
    }
   ],
   "source": [
    "pearsonr(prices, clean_fee)[0]"
   ]
  },
  {
   "cell_type": "code",
   "execution_count": null,
   "metadata": {},
   "outputs": [],
   "source": [
    "df.head()"
   ]
  },
  {
   "cell_type": "code",
   "execution_count": 89,
   "metadata": {},
   "outputs": [
    {
     "data": {
      "image/png": "[encoded data removed]",
      "text/plain": [
       "<Figure size 576x576 with 3 Axes>"
      ]
     },
     "metadata": {
      "needs_background": "light"
     },
     "output_type": "display_data"
    }
   ],
   "source": [
    "sample_data = df.sample(500)\n",
    "\n",
    "g = sns.JointGrid(x='cleaning_fee', y='number_of_reviews', data=sample_data, space=0, ratio=17, height=8)\n",
    "\n",
    "g.plot_joint(sns.scatterplot, size=sample_data[\"price\"], sizes=(30, 120),\n",
    "             color=\"#B48EAD\", alpha=.8, legend=False)\n",
    "\n",
    "g.plot_marginals(sns.rugplot, height=1, color=\"#A3BE8C\", alpha=.6);\n",
    "\n",
    "g.set_axis_labels(xlabel='Cleaning Fee', ylabel='# of Reviews');"
   ]
  },
  {
   "cell_type": "markdown",
   "metadata": {},
   "source": [
    "**Covariance:** this statistic tells us how two variables vary together. That is, how does the variation of one variable relates to the variation of another.\n",
    "\n",
    "We can calculate the covariance of two arrays X and Y by first computing the distance between the mean and each of the values within the arrays. `dx` below represents the distance of each value `x` from its mean. The same is true for the `dy`.\n",
    "\n",
    "$dx = x_{i} - \\overline {x}$  \n",
    "$dy = y_{i} - \\overline {y}$\n",
    "\n",
    "\n",
    "Lastly, we multiply each distance from both arrays, add the resulting values, and then divide by the lenght of one of the arrays (which have to be both of the same length).\n",
    "\n",
    "$cov\\left( X,Y\\right) =\\dfrac {1}{n}\\sum dx_{i}dy_{i}$\n",
    "\n",
    "If both arrays variate in the same direction, the result will be positive. If their variations are completely unrelated, we are likely to get a 0. If both arrays variate negatively, the result will be negative. This is also visible when the a corresponding value in each array is below or above the mean. In this instance, the latter would be positive and former negative.\n",
    "\n",
    "Both numbers tend to scale with each other. A large positive covariance means that if x is large then y is large as well, and when x is small then y is small as well. If the covariance between arrays is 0, there is no relationship whatsoever between them."
   ]
  },
  {
   "cell_type": "code",
   "execution_count": 90,
   "metadata": {},
   "outputs": [
    {
     "data": {
      "text/plain": [
       "(39742,)"
      ]
     },
     "execution_count": 90,
     "metadata": {},
     "output_type": "execute_result"
    }
   ],
   "source": [
    "prices.shape"
   ]
  },
  {
   "cell_type": "code",
   "execution_count": 91,
   "metadata": {},
   "outputs": [
    {
     "data": {
      "text/plain": [
       "True"
      ]
     },
     "execution_count": 91,
     "metadata": {},
     "output_type": "execute_result"
    }
   ],
   "source": [
    "# let's make sure both have the same lenght\n",
    "prices.shape[0] == clean_fee.shape[0]"
   ]
  },
  {
   "cell_type": "code",
   "execution_count": 92,
   "metadata": {},
   "outputs": [
    {
     "data": {
      "text/plain": [
       "4343.404705371255"
      ]
     },
     "execution_count": 92,
     "metadata": {},
     "output_type": "execute_result"
    }
   ],
   "source": [
    "# np.dot takes the products of two elements and sums them up\n",
    "np.dot((prices - prices.mean()), (clean_fee - clean_fee.mean())) / len(prices)"
   ]
  },
  {
   "cell_type": "code",
   "execution_count": 93,
   "metadata": {},
   "outputs": [
    {
     "data": {
      "text/plain": [
       "4343.404705371256"
      ]
     },
     "execution_count": 93,
     "metadata": {},
     "output_type": "execute_result"
    }
   ],
   "source": [
    "sum((prices - prices.mean()) * (clean_fee - clean_fee.mean())) / len(prices)"
   ]
  },
  {
   "cell_type": "markdown",
   "metadata": {},
   "source": [
    "Notice that Pearson Correlation only measures whether there is a linear relationship between the variables in question. This mean, that the relationship could be other than linear, hence, no relationship in the Pearson's test doesn't mean that there is no relationship at all.\n",
    "\n",
    "One of the flaws of pearson correlation is that it does not deal well with outliers. There are other methods available for determining non-linear relationships that do deal with outliers, but we won't cover those here. These are the Spearman Rank Correlation test and the Kendall Correlation test."
   ]
  },
  {
   "cell_type": "markdown",
   "metadata": {},
   "source": [
    "# Cross-tabulating and Visualising Data"
   ]
  },
  {
   "cell_type": "markdown",
   "metadata": {},
   "source": [
    "Another way to use descriptive statistics to gain deeper insights from a particular dataset is by cross-tabulating its variables. This technique allows us to aggregate and observe data based on distinct variables sitting on top of one another (columns) or standing next to each other (rows).\n",
    "\n",
    "You have already seen a bit of cross-tabulation in previous lessons and provably while using a spreadsheet software, but let's dig a bit deeper into how to use these tools."
   ]
  },
  {
   "cell_type": "code",
   "execution_count": 94,
   "metadata": {},
   "outputs": [
    {
     "data": {
      "text/html": [
       "<div>\n",
       "<style scoped>\n",
       "    .dataframe tbody tr th:only-of-type {\n",
       "        vertical-align: middle;\n",
       "    }\n",
       "\n",
       "    .dataframe tbody tr th {\n",
       "        vertical-align: top;\n",
       "    }\n",
       "\n",
       "    .dataframe thead th {\n",
       "        text-align: right;\n",
       "    }\n",
       "</style>\n",
       "<table border=\"1\" class=\"dataframe\">\n",
       "  <thead>\n",
       "    <tr style=\"text-align: right;\">\n",
       "      <th></th>\n",
       "      <th>id</th>\n",
       "      <th>listing_url</th>\n",
       "      <th>scrape_id</th>\n",
       "      <th>last_scraped</th>\n",
       "      <th>name</th>\n",
       "      <th>summary</th>\n",
       "      <th>space</th>\n",
       "      <th>description</th>\n",
       "      <th>experiences_offered</th>\n",
       "      <th>neighborhood_overview</th>\n",
       "      <th>notes</th>\n",
       "      <th>transit</th>\n",
       "      <th>access</th>\n",
       "      <th>interaction</th>\n",
       "      <th>house_rules</th>\n",
       "      <th>picture_url</th>\n",
       "      <th>host_id</th>\n",
       "      <th>host_url</th>\n",
       "      <th>host_name</th>\n",
       "      <th>host_since</th>\n",
       "      <th>host_location</th>\n",
       "      <th>host_about</th>\n",
       "      <th>host_response_time</th>\n",
       "      <th>host_is_superhost</th>\n",
       "      <th>host_thumbnail_url</th>\n",
       "      <th>host_picture_url</th>\n",
       "      <th>host_verifications</th>\n",
       "      <th>host_has_profile_pic</th>\n",
       "      <th>host_identity_verified</th>\n",
       "      <th>street</th>\n",
       "      <th>neighbourhood_cleansed</th>\n",
       "      <th>city</th>\n",
       "      <th>state</th>\n",
       "      <th>zipcode</th>\n",
       "      <th>market</th>\n",
       "      <th>smart_location</th>\n",
       "      <th>country_code</th>\n",
       "      <th>country</th>\n",
       "      <th>is_location_exact</th>\n",
       "      <th>property_type</th>\n",
       "      <th>room_type</th>\n",
       "      <th>bed_type</th>\n",
       "      <th>amenities</th>\n",
       "      <th>minimum_nights</th>\n",
       "      <th>maximum_nights</th>\n",
       "      <th>calendar_updated</th>\n",
       "      <th>has_availability</th>\n",
       "      <th>calendar_last_scraped</th>\n",
       "      <th>requires_license</th>\n",
       "      <th>instant_bookable</th>\n",
       "      <th>is_business_travel_ready</th>\n",
       "      <th>cancellation_policy</th>\n",
       "      <th>require_guest_profile_picture</th>\n",
       "      <th>require_guest_phone_verification</th>\n",
       "      <th>first_review</th>\n",
       "      <th>last_review</th>\n",
       "      <th>latitude</th>\n",
       "      <th>longitude</th>\n",
       "      <th>bathrooms</th>\n",
       "      <th>price</th>\n",
       "      <th>extra_people</th>\n",
       "      <th>minimum_nights_avg_ntm</th>\n",
       "      <th>maximum_nights_avg_ntm</th>\n",
       "      <th>accommodates</th>\n",
       "      <th>guests_included</th>\n",
       "      <th>minimum_minimum_nights</th>\n",
       "      <th>maximum_minimum_nights</th>\n",
       "      <th>minimum_maximum_nights</th>\n",
       "      <th>maximum_maximum_nights</th>\n",
       "      <th>availability_30</th>\n",
       "      <th>availability_60</th>\n",
       "      <th>availability_90</th>\n",
       "      <th>availability_365</th>\n",
       "      <th>number_of_reviews</th>\n",
       "      <th>number_of_reviews_ltm</th>\n",
       "      <th>calculated_host_listings_count</th>\n",
       "      <th>calculated_host_listings_count_entire_homes</th>\n",
       "      <th>bedrooms</th>\n",
       "      <th>beds</th>\n",
       "      <th>calculated_host_listings_count_private_rooms</th>\n",
       "      <th>calculated_host_listings_count_shared_rooms</th>\n",
       "      <th>host_listings_count</th>\n",
       "      <th>host_total_listings_count</th>\n",
       "      <th>security_deposit</th>\n",
       "      <th>review_scores_checkin</th>\n",
       "      <th>reviews_per_month</th>\n",
       "      <th>host_response_rate</th>\n",
       "      <th>host_acceptance_rate</th>\n",
       "      <th>review_scores_rating</th>\n",
       "      <th>review_scores_cleanliness</th>\n",
       "      <th>review_scores_value</th>\n",
       "      <th>review_scores_accuracy</th>\n",
       "      <th>review_scores_communication</th>\n",
       "      <th>review_scores_location</th>\n",
       "      <th>cleaning_fee</th>\n",
       "    </tr>\n",
       "  </thead>\n",
       "  <tbody>\n",
       "    <tr>\n",
       "      <th>12602</th>\n",
       "      <td>41601240</td>\n",
       "      <td>https://www.airbnb.com/rooms/41601240</td>\n",
       "      <td>20200625032351</td>\n",
       "      <td>2020-06-26</td>\n",
       "      <td>5 min Sta.!!Easy access to Ueno/Akihabara☆max6...</td>\n",
       "      <td>Located in a real residential area where the n...</td>\n",
       "      <td>Welcome to Tabata, Tokyo!  The apartment is lo...</td>\n",
       "      <td>Located in a real residential area where the n...</td>\n",
       "      <td>none</td>\n",
       "      <td>It says that many super famous Japanese author...</td>\n",
       "      <td>I'll send the guidance of the way to the apart...</td>\n",
       "      <td>★Closest stations★  ･田端駅(Tabata Sta.) - 山手線(Ya...</td>\n",
       "      <td>You have full access to the apartment.  Nothin...</td>\n",
       "      <td>I live in different apartment in TOKYO.  If yo...</td>\n",
       "      <td>Unknown</td>\n",
       "      <td>https://a0.muscache.com/im/pictures/03bcbfe3-6...</td>\n",
       "      <td>287699302</td>\n",
       "      <td>https://www.airbnb.com/users/show/287699302</td>\n",
       "      <td>Nana</td>\n",
       "      <td>2019-08-21</td>\n",
       "      <td>JP</td>\n",
       "      <td>Hey I’m Nana.\\r\\nThanks for taking the time to...</td>\n",
       "      <td>within an hour</td>\n",
       "      <td>t</td>\n",
       "      <td>https://a0.muscache.com/im/pictures/user/1de4e...</td>\n",
       "      <td>https://a0.muscache.com/im/pictures/user/1de4e...</td>\n",
       "      <td>['email', 'phone', 'offline_government_id', 's...</td>\n",
       "      <td>t</td>\n",
       "      <td>f</td>\n",
       "      <td>Kita City, Tōkyō-to, Japan</td>\n",
       "      <td>Kita Ku</td>\n",
       "      <td>Kita City</td>\n",
       "      <td>Tōkyō-to</td>\n",
       "      <td>114-0014</td>\n",
       "      <td>Tokyo</td>\n",
       "      <td>Kita City, Japan</td>\n",
       "      <td>JP</td>\n",
       "      <td>Japan</td>\n",
       "      <td>t</td>\n",
       "      <td>Apartment</td>\n",
       "      <td>Entire home/apt</td>\n",
       "      <td>Real Bed</td>\n",
       "      <td>{TV,Wifi,\"Air conditioning\",Kitchen,Washer,\"Sm...</td>\n",
       "      <td>2</td>\n",
       "      <td>1125</td>\n",
       "      <td>4 weeks ago</td>\n",
       "      <td>t</td>\n",
       "      <td>2020-06-26</td>\n",
       "      <td>t</td>\n",
       "      <td>t</td>\n",
       "      <td>f</td>\n",
       "      <td>strict_14_with_grace_period</td>\n",
       "      <td>f</td>\n",
       "      <td>f</td>\n",
       "      <td>2020-01-30</td>\n",
       "      <td>2020-03-30</td>\n",
       "      <td>35.735</td>\n",
       "      <td>139.758</td>\n",
       "      <td>1.000</td>\n",
       "      <td>479.510</td>\n",
       "      <td>0.000</td>\n",
       "      <td>7.300</td>\n",
       "      <td>1125.000</td>\n",
       "      <td>6</td>\n",
       "      <td>1</td>\n",
       "      <td>2</td>\n",
       "      <td>30</td>\n",
       "      <td>1125</td>\n",
       "      <td>1125</td>\n",
       "      <td>15</td>\n",
       "      <td>45</td>\n",
       "      <td>75</td>\n",
       "      <td>349</td>\n",
       "      <td>4</td>\n",
       "      <td>4</td>\n",
       "      <td>7</td>\n",
       "      <td>7</td>\n",
       "      <td>2</td>\n",
       "      <td>3</td>\n",
       "      <td>0</td>\n",
       "      <td>0</td>\n",
       "      <td>7</td>\n",
       "      <td>7</td>\n",
       "      <td>0.000</td>\n",
       "      <td>10.000</td>\n",
       "      <td>0.810</td>\n",
       "      <td>100.000</td>\n",
       "      <td>100.000</td>\n",
       "      <td>100.000</td>\n",
       "      <td>10.000</td>\n",
       "      <td>9.000</td>\n",
       "      <td>10.000</td>\n",
       "      <td>10.000</td>\n",
       "      <td>10.000</td>\n",
       "      <td>134.400</td>\n",
       "    </tr>\n",
       "    <tr>\n",
       "      <th>1171</th>\n",
       "      <td>16008291</td>\n",
       "      <td>https://www.airbnb.com/rooms/16008291</td>\n",
       "      <td>20200625032351</td>\n",
       "      <td>2020-06-26</td>\n",
       "      <td>4min Shinjuku st/Cozy&amp;Clean/2min walk JR Okubo...</td>\n",
       "      <td>OPENING SALE!!!  IN WINTER 2016 My apartment i...</td>\n",
       "      <td>☆This my new apartment is located amazing plac...</td>\n",
       "      <td>OPENING SALE!!!  IN WINTER 2016 My apartment i...</td>\n",
       "      <td>none</td>\n",
       "      <td>Unknown</td>\n",
       "      <td>Notice: I DON'T ACCEPT ANY BABYS. PLEASE KEEP ...</td>\n",
       "      <td>JR OKUBO station&gt;&gt;&gt;&gt;2min walk JR SHIN-OKUBO st...</td>\n",
       "      <td>Entire room.</td>\n",
       "      <td>Basically, I would like to meet you and give t...</td>\n",
       "      <td>Please relax at your home in Tokyo, but please...</td>\n",
       "      <td>https://a0.muscache.com/im/pictures/139b4b2c-c...</td>\n",
       "      <td>98770436</td>\n",
       "      <td>https://www.airbnb.com/users/show/98770436</td>\n",
       "      <td>Tom</td>\n",
       "      <td>2016-10-08</td>\n",
       "      <td>Shinjuku, Tokyo, Japan</td>\n",
       "      <td>Hi Everyone,\\r\\nThank you for visiting my list...</td>\n",
       "      <td>within an hour</td>\n",
       "      <td>t</td>\n",
       "      <td>https://a0.muscache.com/im/pictures/user/6bf41...</td>\n",
       "      <td>https://a0.muscache.com/im/pictures/user/6bf41...</td>\n",
       "      <td>['email', 'phone', 'reviews']</td>\n",
       "      <td>t</td>\n",
       "      <td>f</td>\n",
       "      <td>Shinjuku-ku, Tōkyō-to, Japan</td>\n",
       "      <td>Shinjuku Ku</td>\n",
       "      <td>Shinjuku-ku</td>\n",
       "      <td>Tōkyō-to</td>\n",
       "      <td>169-0074</td>\n",
       "      <td>Tokyo</td>\n",
       "      <td>Shinjuku-ku, Japan</td>\n",
       "      <td>JP</td>\n",
       "      <td>Japan</td>\n",
       "      <td>t</td>\n",
       "      <td>Apartment</td>\n",
       "      <td>Entire home/apt</td>\n",
       "      <td>Real Bed</td>\n",
       "      <td>{TV,Internet,Wifi,\"Air conditioning\",Kitchen,H...</td>\n",
       "      <td>1</td>\n",
       "      <td>20</td>\n",
       "      <td>4 weeks ago</td>\n",
       "      <td>t</td>\n",
       "      <td>2020-06-26</td>\n",
       "      <td>t</td>\n",
       "      <td>t</td>\n",
       "      <td>f</td>\n",
       "      <td>strict_14_with_grace_period</td>\n",
       "      <td>f</td>\n",
       "      <td>f</td>\n",
       "      <td>2016-11-21</td>\n",
       "      <td>2020-02-22</td>\n",
       "      <td>35.702</td>\n",
       "      <td>139.695</td>\n",
       "      <td>1.000</td>\n",
       "      <td>115.248</td>\n",
       "      <td>0.000</td>\n",
       "      <td>1.000</td>\n",
       "      <td>1125.000</td>\n",
       "      <td>2</td>\n",
       "      <td>2</td>\n",
       "      <td>1</td>\n",
       "      <td>1</td>\n",
       "      <td>1125</td>\n",
       "      <td>1125</td>\n",
       "      <td>11</td>\n",
       "      <td>17</td>\n",
       "      <td>17</td>\n",
       "      <td>17</td>\n",
       "      <td>148</td>\n",
       "      <td>20</td>\n",
       "      <td>11</td>\n",
       "      <td>11</td>\n",
       "      <td>0</td>\n",
       "      <td>1</td>\n",
       "      <td>0</td>\n",
       "      <td>0</td>\n",
       "      <td>11</td>\n",
       "      <td>11</td>\n",
       "      <td>144.000</td>\n",
       "      <td>10.000</td>\n",
       "      <td>3.380</td>\n",
       "      <td>100.000</td>\n",
       "      <td>99.000</td>\n",
       "      <td>98.000</td>\n",
       "      <td>10.000</td>\n",
       "      <td>9.000</td>\n",
       "      <td>10.000</td>\n",
       "      <td>10.000</td>\n",
       "      <td>10.000</td>\n",
       "      <td>52.800</td>\n",
       "    </tr>\n",
       "    <tr>\n",
       "      <th>12544</th>\n",
       "      <td>41566648</td>\n",
       "      <td>https://www.airbnb.com/rooms/41566648</td>\n",
       "      <td>20200625032351</td>\n",
       "      <td>2020-06-26</td>\n",
       "      <td>[Discount]Nippori's warm room / Worth choosing...</td>\n",
       "      <td>There are 6 different types of rooms in this h...</td>\n",
       "      <td>【space】 The house belongs to a single room. a ...</td>\n",
       "      <td>There are 6 different types of rooms in this h...</td>\n",
       "      <td>none</td>\n",
       "      <td>※ Nippori Station: 8 mins walk, fast transfer,...</td>\n",
       "      <td>Japanese people are more sensitive to sound, s...</td>\n",
       "      <td>The nearest station is Nippori Station. ATTRAC...</td>\n",
       "      <td>The facilities in the room can be used</td>\n",
       "      <td>After booking, we will prepare a detailed chec...</td>\n",
       "      <td>Unknown</td>\n",
       "      <td>https://a0.muscache.com/im/pictures/f59a347e-8...</td>\n",
       "      <td>276746465</td>\n",
       "      <td>https://www.airbnb.com/users/show/276746465</td>\n",
       "      <td>Donna</td>\n",
       "      <td>2019-07-17</td>\n",
       "      <td>HK</td>\n",
       "      <td>Unknown</td>\n",
       "      <td>within an hour</td>\n",
       "      <td>t</td>\n",
       "      <td>https://a0.muscache.com/im/pictures/user/16587...</td>\n",
       "      <td>https://a0.muscache.com/im/pictures/user/16587...</td>\n",
       "      <td>['email', 'phone', 'jumio', 'offline_governmen...</td>\n",
       "      <td>t</td>\n",
       "      <td>f</td>\n",
       "      <td>Arakawa City, Tōkyō-to, Japan</td>\n",
       "      <td>Arakawa Ku</td>\n",
       "      <td>Arakawa City</td>\n",
       "      <td>Tōkyō-to</td>\n",
       "      <td>116-0014</td>\n",
       "      <td>Tokyo</td>\n",
       "      <td>Arakawa City, Japan</td>\n",
       "      <td>JP</td>\n",
       "      <td>Japan</td>\n",
       "      <td>t</td>\n",
       "      <td>Apartment</td>\n",
       "      <td>Entire home/apt</td>\n",
       "      <td>Real Bed</td>\n",
       "      <td>{Wifi,\"Air conditioning\",Kitchen,Washer,\"Smoke...</td>\n",
       "      <td>1</td>\n",
       "      <td>1125</td>\n",
       "      <td>6 weeks ago</td>\n",
       "      <td>t</td>\n",
       "      <td>2020-06-26</td>\n",
       "      <td>t</td>\n",
       "      <td>t</td>\n",
       "      <td>f</td>\n",
       "      <td>strict_14_with_grace_period</td>\n",
       "      <td>f</td>\n",
       "      <td>f</td>\n",
       "      <td>2020-01-25</td>\n",
       "      <td>2020-01-25</td>\n",
       "      <td>35.728</td>\n",
       "      <td>139.778</td>\n",
       "      <td>1.000</td>\n",
       "      <td>57.619</td>\n",
       "      <td>9.600</td>\n",
       "      <td>1.300</td>\n",
       "      <td>1125.000</td>\n",
       "      <td>3</td>\n",
       "      <td>2</td>\n",
       "      <td>1</td>\n",
       "      <td>9</td>\n",
       "      <td>1125</td>\n",
       "      <td>1125</td>\n",
       "      <td>30</td>\n",
       "      <td>60</td>\n",
       "      <td>84</td>\n",
       "      <td>150</td>\n",
       "      <td>1</td>\n",
       "      <td>1</td>\n",
       "      <td>3</td>\n",
       "      <td>3</td>\n",
       "      <td>1</td>\n",
       "      <td>2</td>\n",
       "      <td>0</td>\n",
       "      <td>0</td>\n",
       "      <td>0</td>\n",
       "      <td>0</td>\n",
       "      <td>0.000</td>\n",
       "      <td>10.000</td>\n",
       "      <td>0.190</td>\n",
       "      <td>80.000</td>\n",
       "      <td>100.000</td>\n",
       "      <td>100.000</td>\n",
       "      <td>10.000</td>\n",
       "      <td>10.000</td>\n",
       "      <td>10.000</td>\n",
       "      <td>10.000</td>\n",
       "      <td>10.000</td>\n",
       "      <td>48.000</td>\n",
       "    </tr>\n",
       "  </tbody>\n",
       "</table>\n",
       "</div>"
      ],
      "text/plain": [
       "             id                            listing_url       scrape_id  \\\n",
       "12602  41601240  https://www.airbnb.com/rooms/41601240  20200625032351   \n",
       "1171   16008291  https://www.airbnb.com/rooms/16008291  20200625032351   \n",
       "12544  41566648  https://www.airbnb.com/rooms/41566648  20200625032351   \n",
       "\n",
       "      last_scraped                                               name  \\\n",
       "12602   2020-06-26  5 min Sta.!!Easy access to Ueno/Akihabara☆max6...   \n",
       "1171    2020-06-26  4min Shinjuku st/Cozy&Clean/2min walk JR Okubo...   \n",
       "12544   2020-06-26  [Discount]Nippori's warm room / Worth choosing...   \n",
       "\n",
       "                                                 summary  \\\n",
       "12602  Located in a real residential area where the n...   \n",
       "1171   OPENING SALE!!!  IN WINTER 2016 My apartment i...   \n",
       "12544  There are 6 different types of rooms in this h...   \n",
       "\n",
       "                                                   space  \\\n",
       "12602  Welcome to Tabata, Tokyo!  The apartment is lo...   \n",
       "1171   ☆This my new apartment is located amazing plac...   \n",
       "12544  【space】 The house belongs to a single room. a ...   \n",
       "\n",
       "                                             description experiences_offered  \\\n",
       "12602  Located in a real residential area where the n...                none   \n",
       "1171   OPENING SALE!!!  IN WINTER 2016 My apartment i...                none   \n",
       "12544  There are 6 different types of rooms in this h...                none   \n",
       "\n",
       "                                   neighborhood_overview  \\\n",
       "12602  It says that many super famous Japanese author...   \n",
       "1171                                             Unknown   \n",
       "12544  ※ Nippori Station: 8 mins walk, fast transfer,...   \n",
       "\n",
       "                                                   notes  \\\n",
       "12602  I'll send the guidance of the way to the apart...   \n",
       "1171   Notice: I DON'T ACCEPT ANY BABYS. PLEASE KEEP ...   \n",
       "12544  Japanese people are more sensitive to sound, s...   \n",
       "\n",
       "                                                 transit  \\\n",
       "12602  ★Closest stations★  ･田端駅(Tabata Sta.) - 山手線(Ya...   \n",
       "1171   JR OKUBO station>>>>2min walk JR SHIN-OKUBO st...   \n",
       "12544  The nearest station is Nippori Station. ATTRAC...   \n",
       "\n",
       "                                                  access  \\\n",
       "12602  You have full access to the apartment.  Nothin...   \n",
       "1171                                        Entire room.   \n",
       "12544             The facilities in the room can be used   \n",
       "\n",
       "                                             interaction  \\\n",
       "12602  I live in different apartment in TOKYO.  If yo...   \n",
       "1171   Basically, I would like to meet you and give t...   \n",
       "12544  After booking, we will prepare a detailed chec...   \n",
       "\n",
       "                                             house_rules  \\\n",
       "12602                                            Unknown   \n",
       "1171   Please relax at your home in Tokyo, but please...   \n",
       "12544                                            Unknown   \n",
       "\n",
       "                                             picture_url    host_id  \\\n",
       "12602  https://a0.muscache.com/im/pictures/03bcbfe3-6...  287699302   \n",
       "1171   https://a0.muscache.com/im/pictures/139b4b2c-c...   98770436   \n",
       "12544  https://a0.muscache.com/im/pictures/f59a347e-8...  276746465   \n",
       "\n",
       "                                          host_url host_name  host_since  \\\n",
       "12602  https://www.airbnb.com/users/show/287699302      Nana  2019-08-21   \n",
       "1171    https://www.airbnb.com/users/show/98770436       Tom  2016-10-08   \n",
       "12544  https://www.airbnb.com/users/show/276746465     Donna  2019-07-17   \n",
       "\n",
       "                host_location  \\\n",
       "12602                      JP   \n",
       "1171   Shinjuku, Tokyo, Japan   \n",
       "12544                      HK   \n",
       "\n",
       "                                              host_about host_response_time  \\\n",
       "12602  Hey I’m Nana.\\r\\nThanks for taking the time to...     within an hour   \n",
       "1171   Hi Everyone,\\r\\nThank you for visiting my list...     within an hour   \n",
       "12544                                            Unknown     within an hour   \n",
       "\n",
       "      host_is_superhost                                 host_thumbnail_url  \\\n",
       "12602                 t  https://a0.muscache.com/im/pictures/user/1de4e...   \n",
       "1171                  t  https://a0.muscache.com/im/pictures/user/6bf41...   \n",
       "12544                 t  https://a0.muscache.com/im/pictures/user/16587...   \n",
       "\n",
       "                                        host_picture_url  \\\n",
       "12602  https://a0.muscache.com/im/pictures/user/1de4e...   \n",
       "1171   https://a0.muscache.com/im/pictures/user/6bf41...   \n",
       "12544  https://a0.muscache.com/im/pictures/user/16587...   \n",
       "\n",
       "                                      host_verifications host_has_profile_pic  \\\n",
       "12602  ['email', 'phone', 'offline_government_id', 's...                    t   \n",
       "1171                       ['email', 'phone', 'reviews']                    t   \n",
       "12544  ['email', 'phone', 'jumio', 'offline_governmen...                    t   \n",
       "\n",
       "      host_identity_verified                         street  \\\n",
       "12602                      f     Kita City, Tōkyō-to, Japan   \n",
       "1171                       f   Shinjuku-ku, Tōkyō-to, Japan   \n",
       "12544                      f  Arakawa City, Tōkyō-to, Japan   \n",
       "\n",
       "      neighbourhood_cleansed          city     state   zipcode market  \\\n",
       "12602                Kita Ku     Kita City  Tōkyō-to  114-0014  Tokyo   \n",
       "1171             Shinjuku Ku   Shinjuku-ku  Tōkyō-to  169-0074  Tokyo   \n",
       "12544             Arakawa Ku  Arakawa City  Tōkyō-to  116-0014  Tokyo   \n",
       "\n",
       "            smart_location country_code country is_location_exact  \\\n",
       "12602     Kita City, Japan           JP   Japan                 t   \n",
       "1171    Shinjuku-ku, Japan           JP   Japan                 t   \n",
       "12544  Arakawa City, Japan           JP   Japan                 t   \n",
       "\n",
       "      property_type        room_type  bed_type  \\\n",
       "12602     Apartment  Entire home/apt  Real Bed   \n",
       "1171      Apartment  Entire home/apt  Real Bed   \n",
       "12544     Apartment  Entire home/apt  Real Bed   \n",
       "\n",
       "                                               amenities minimum_nights  \\\n",
       "12602  {TV,Wifi,\"Air conditioning\",Kitchen,Washer,\"Sm...              2   \n",
       "1171   {TV,Internet,Wifi,\"Air conditioning\",Kitchen,H...              1   \n",
       "12544  {Wifi,\"Air conditioning\",Kitchen,Washer,\"Smoke...              1   \n",
       "\n",
       "      maximum_nights calendar_updated has_availability calendar_last_scraped  \\\n",
       "12602           1125      4 weeks ago                t            2020-06-26   \n",
       "1171              20      4 weeks ago                t            2020-06-26   \n",
       "12544           1125      6 weeks ago                t            2020-06-26   \n",
       "\n",
       "      requires_license instant_bookable is_business_travel_ready  \\\n",
       "12602                t                t                        f   \n",
       "1171                 t                t                        f   \n",
       "12544                t                t                        f   \n",
       "\n",
       "               cancellation_policy require_guest_profile_picture  \\\n",
       "12602  strict_14_with_grace_period                             f   \n",
       "1171   strict_14_with_grace_period                             f   \n",
       "12544  strict_14_with_grace_period                             f   \n",
       "\n",
       "      require_guest_phone_verification first_review last_review  latitude  \\\n",
       "12602                                f   2020-01-30  2020-03-30    35.735   \n",
       "1171                                 f   2016-11-21  2020-02-22    35.702   \n",
       "12544                                f   2020-01-25  2020-01-25    35.728   \n",
       "\n",
       "       longitude  bathrooms   price  extra_people  minimum_nights_avg_ntm  \\\n",
       "12602    139.758      1.000 479.510         0.000                   7.300   \n",
       "1171     139.695      1.000 115.248         0.000                   1.000   \n",
       "12544    139.778      1.000  57.619         9.600                   1.300   \n",
       "\n",
       "       maximum_nights_avg_ntm  accommodates  guests_included  \\\n",
       "12602                1125.000             6                1   \n",
       "1171                 1125.000             2                2   \n",
       "12544                1125.000             3                2   \n",
       "\n",
       "       minimum_minimum_nights  maximum_minimum_nights  minimum_maximum_nights  \\\n",
       "12602                       2                      30                    1125   \n",
       "1171                        1                       1                    1125   \n",
       "12544                       1                       9                    1125   \n",
       "\n",
       "       maximum_maximum_nights  availability_30  availability_60  \\\n",
       "12602                    1125               15               45   \n",
       "1171                     1125               11               17   \n",
       "12544                    1125               30               60   \n",
       "\n",
       "       availability_90  availability_365  number_of_reviews  \\\n",
       "12602               75               349                  4   \n",
       "1171                17                17                148   \n",
       "12544               84               150                  1   \n",
       "\n",
       "       number_of_reviews_ltm  calculated_host_listings_count  \\\n",
       "12602                      4                               7   \n",
       "1171                      20                              11   \n",
       "12544                      1                               3   \n",
       "\n",
       "       calculated_host_listings_count_entire_homes  bedrooms  beds  \\\n",
       "12602                                            7         2     3   \n",
       "1171                                            11         0     1   \n",
       "12544                                            3         1     2   \n",
       "\n",
       "       calculated_host_listings_count_private_rooms  \\\n",
       "12602                                             0   \n",
       "1171                                              0   \n",
       "12544                                             0   \n",
       "\n",
       "       calculated_host_listings_count_shared_rooms  host_listings_count  \\\n",
       "12602                                            0                    7   \n",
       "1171                                             0                   11   \n",
       "12544                                            0                    0   \n",
       "\n",
       "       host_total_listings_count  security_deposit  review_scores_checkin  \\\n",
       "12602                          7             0.000                 10.000   \n",
       "1171                          11           144.000                 10.000   \n",
       "12544                          0             0.000                 10.000   \n",
       "\n",
       "       reviews_per_month  host_response_rate  host_acceptance_rate  \\\n",
       "12602              0.810             100.000               100.000   \n",
       "1171               3.380             100.000                99.000   \n",
       "12544              0.190              80.000               100.000   \n",
       "\n",
       "       review_scores_rating  review_scores_cleanliness  review_scores_value  \\\n",
       "12602               100.000                     10.000                9.000   \n",
       "1171                 98.000                     10.000                9.000   \n",
       "12544               100.000                     10.000               10.000   \n",
       "\n",
       "       review_scores_accuracy  review_scores_communication  \\\n",
       "12602                  10.000                       10.000   \n",
       "1171                   10.000                       10.000   \n",
       "12544                  10.000                       10.000   \n",
       "\n",
       "       review_scores_location  cleaning_fee  \n",
       "12602                  10.000       134.400  \n",
       "1171                   10.000        52.800  \n",
       "12544                  10.000        48.000  "
      ]
     },
     "execution_count": 94,
     "metadata": {},
     "output_type": "execute_result"
    }
   ],
   "source": [
    "df.head(3)"
   ]
  },
  {
   "cell_type": "code",
   "execution_count": 95,
   "metadata": {},
   "outputs": [
    {
     "data": {
      "text/plain": [
       "(39742, 95)"
      ]
     },
     "execution_count": 95,
     "metadata": {},
     "output_type": "execute_result"
    }
   ],
   "source": [
    "df.shape"
   ]
  },
  {
   "cell_type": "markdown",
   "metadata": {},
   "source": [
    "## Pivot Tables\n",
    "\n",
    "Let's look at the comparison between prices charged by super hosts and prices charged by non superhosts per different countries. We will do so by using a pivot table for our aggregation method. The most important arguments of a `pivot_table` are\n",
    "- `values` --> what we want to aggregate (single column or list of columns). Usually a quantitative variable\n",
    "- `index` --> what we want to represent in the rows (single column or list of columns). Usually a categorical variable or a date one\n",
    "- `columns` --> what we want to represent in our columns (single column or list of columns). Usually a categorical variable\n",
    "- `aggfunc` --> the aggregation method we want to use (single method or list of methods)"
   ]
  },
  {
   "cell_type": "code",
   "execution_count": 96,
   "metadata": {},
   "outputs": [
    {
     "data": {
      "text/html": [
       "<div>\n",
       "<style scoped>\n",
       "    .dataframe tbody tr th:only-of-type {\n",
       "        vertical-align: middle;\n",
       "    }\n",
       "\n",
       "    .dataframe tbody tr th {\n",
       "        vertical-align: top;\n",
       "    }\n",
       "\n",
       "    .dataframe thead th {\n",
       "        text-align: right;\n",
       "    }\n",
       "</style>\n",
       "<table border=\"1\" class=\"dataframe\">\n",
       "  <thead>\n",
       "    <tr style=\"text-align: right;\">\n",
       "      <th>host_is_superhost</th>\n",
       "      <th>f</th>\n",
       "      <th>t</th>\n",
       "    </tr>\n",
       "    <tr>\n",
       "      <th>country</th>\n",
       "      <th></th>\n",
       "      <th></th>\n",
       "    </tr>\n",
       "  </thead>\n",
       "  <tbody>\n",
       "    <tr>\n",
       "      <th>Belgium</th>\n",
       "      <td>169.333</td>\n",
       "      <td>99.479</td>\n",
       "    </tr>\n",
       "    <tr>\n",
       "      <th>Japan</th>\n",
       "      <td>291.762</td>\n",
       "      <td>218.578</td>\n",
       "    </tr>\n",
       "    <tr>\n",
       "      <th>South Africa</th>\n",
       "      <td>145.409</td>\n",
       "      <td>131.301</td>\n",
       "    </tr>\n",
       "  </tbody>\n",
       "</table>\n",
       "</div>"
      ],
      "text/plain": [
       "host_is_superhost       f       t\n",
       "country                          \n",
       "Belgium           169.333  99.479\n",
       "Japan             291.762 218.578\n",
       "South Africa      145.409 131.301"
      ]
     },
     "execution_count": 96,
     "metadata": {},
     "output_type": "execute_result"
    }
   ],
   "source": [
    "super_country_hosts = df.pivot_table(\n",
    "        values='price',\n",
    "        index='country',\n",
    "        columns='host_is_superhost',\n",
    "        aggfunc='mean'\n",
    ")\n",
    "\n",
    "super_country_hosts"
   ]
  },
  {
   "cell_type": "code",
   "execution_count": 99,
   "metadata": {},
   "outputs": [
    {
     "data": {
      "text/plain": [
       "country\n",
       "Belgium         99.479\n",
       "Japan          218.578\n",
       "South Africa   131.301\n",
       "Name: t, dtype: float32"
      ]
     },
     "execution_count": 99,
     "metadata": {},
     "output_type": "execute_result"
    }
   ],
   "source": [
    "super_country_hosts['t']"
   ]
  },
  {
   "cell_type": "markdown",
   "metadata": {},
   "source": [
    "Because the output of a `pivot_table` is essentially a reduced dataframe, we can use the plot method from pandas to visualise our results."
   ]
  },
  {
   "cell_type": "code",
   "execution_count": 100,
   "metadata": {},
   "outputs": [
    {
     "data": {
      "image/png": "[encoded data removed]",
      "text/plain": [
       "<Figure size 432x288 with 1 Axes>"
      ]
     },
     "metadata": {
      "needs_background": "light"
     },
     "output_type": "display_data"
    }
   ],
   "source": [
    "super_country_hosts.plot(kind='bar', title='Average Price Charged by Super and Regular Hosts', rot=45, color=['#434C5E', '#88C0D0'])\n",
    "plt.legend(['False', 'True'])\n",
    "plt.show()"
   ]
  },
  {
   "cell_type": "code",
   "execution_count": 101,
   "metadata": {},
   "outputs": [
    {
     "data": {
      "text/plain": [
       "Index(['id', 'listing_url', 'scrape_id', 'last_scraped', 'name', 'summary',\n",
       "       'space', 'description', 'experiences_offered', 'neighborhood_overview',\n",
       "       'notes', 'transit', 'access', 'interaction', 'house_rules',\n",
       "       'picture_url', 'host_id', 'host_url', 'host_name', 'host_since',\n",
       "       'host_location', 'host_about', 'host_response_time',\n",
       "       'host_is_superhost', 'host_thumbnail_url', 'host_picture_url',\n",
       "       'host_verifications', 'host_has_profile_pic', 'host_identity_verified',\n",
       "       'street', 'neighbourhood_cleansed', 'city', 'state', 'zipcode',\n",
       "       'market', 'smart_location', 'country_code', 'country',\n",
       "       'is_location_exact', 'property_type', 'room_type', 'bed_type',\n",
       "       'amenities', 'minimum_nights', 'maximum_nights', 'calendar_updated',\n",
       "       'has_availability', 'calendar_last_scraped', 'requires_license',\n",
       "       'instant_bookable', 'is_business_travel_ready', 'cancellation_policy',\n",
       "       'require_guest_profile_picture', 'require_guest_phone_verification',\n",
       "       'first_review', 'last_review', 'latitude', 'longitude', 'bathrooms',\n",
       "       'price', 'extra_people', 'minimum_nights_avg_ntm',\n",
       "       'maximum_nights_avg_ntm', 'accommodates', 'guests_included',\n",
       "       'minimum_minimum_nights', 'maximum_minimum_nights',\n",
       "       'minimum_maximum_nights', 'maximum_maximum_nights', 'availability_30',\n",
       "       'availability_60', 'availability_90', 'availability_365',\n",
       "       'number_of_reviews', 'number_of_reviews_ltm',\n",
       "       'calculated_host_listings_count',\n",
       "       'calculated_host_listings_count_entire_homes', 'bedrooms', 'beds',\n",
       "       'calculated_host_listings_count_private_rooms',\n",
       "       'calculated_host_listings_count_shared_rooms', 'host_listings_count',\n",
       "       'host_total_listings_count', 'security_deposit',\n",
       "       'review_scores_checkin', 'reviews_per_month', 'host_response_rate',\n",
       "       'host_acceptance_rate', 'review_scores_rating',\n",
       "       'review_scores_cleanliness', 'review_scores_value',\n",
       "       'review_scores_accuracy', 'review_scores_communication',\n",
       "       'review_scores_location', 'cleaning_fee'],\n",
       "      dtype='object')"
      ]
     },
     "execution_count": 101,
     "metadata": {},
     "output_type": "execute_result"
    }
   ],
   "source": [
    "df.columns"
   ]
  },
  {
   "cell_type": "code",
   "execution_count": 102,
   "metadata": {},
   "outputs": [
    {
     "data": {
      "text/html": [
       "<div>\n",
       "<style scoped>\n",
       "    .dataframe tbody tr th:only-of-type {\n",
       "        vertical-align: middle;\n",
       "    }\n",
       "\n",
       "    .dataframe tbody tr th {\n",
       "        vertical-align: top;\n",
       "    }\n",
       "\n",
       "    .dataframe thead tr th {\n",
       "        text-align: left;\n",
       "    }\n",
       "\n",
       "    .dataframe thead tr:last-of-type th {\n",
       "        text-align: right;\n",
       "    }\n",
       "</style>\n",
       "<table border=\"1\" class=\"dataframe\">\n",
       "  <thead>\n",
       "    <tr>\n",
       "      <th></th>\n",
       "      <th colspan=\"2\" halign=\"left\">mean</th>\n",
       "      <th colspan=\"2\" halign=\"left\">count</th>\n",
       "      <th colspan=\"2\" halign=\"left\">median</th>\n",
       "    </tr>\n",
       "    <tr>\n",
       "      <th>host_is_superhost</th>\n",
       "      <th>f</th>\n",
       "      <th>t</th>\n",
       "      <th>f</th>\n",
       "      <th>t</th>\n",
       "      <th>f</th>\n",
       "      <th>t</th>\n",
       "    </tr>\n",
       "    <tr>\n",
       "      <th>room_type</th>\n",
       "      <th></th>\n",
       "      <th></th>\n",
       "      <th></th>\n",
       "      <th></th>\n",
       "      <th></th>\n",
       "      <th></th>\n",
       "    </tr>\n",
       "  </thead>\n",
       "  <tbody>\n",
       "    <tr>\n",
       "      <th>Entire home/apt</th>\n",
       "      <td>230.057</td>\n",
       "      <td>182.776</td>\n",
       "      <td>21495</td>\n",
       "      <td>8898</td>\n",
       "      <td>96.317</td>\n",
       "      <td>98.411</td>\n",
       "    </tr>\n",
       "    <tr>\n",
       "      <th>Hotel room</th>\n",
       "      <td>174.524</td>\n",
       "      <td>401.853</td>\n",
       "      <td>813</td>\n",
       "      <td>238</td>\n",
       "      <td>92.735</td>\n",
       "      <td>95.832</td>\n",
       "    </tr>\n",
       "    <tr>\n",
       "      <th>Private room</th>\n",
       "      <td>89.552</td>\n",
       "      <td>69.585</td>\n",
       "      <td>6036</td>\n",
       "      <td>1673</td>\n",
       "      <td>43.234</td>\n",
       "      <td>43.037</td>\n",
       "    </tr>\n",
       "    <tr>\n",
       "      <th>Shared room</th>\n",
       "      <td>45.695</td>\n",
       "      <td>67.595</td>\n",
       "      <td>445</td>\n",
       "      <td>144</td>\n",
       "      <td>28.694</td>\n",
       "      <td>28.694</td>\n",
       "    </tr>\n",
       "  </tbody>\n",
       "</table>\n",
       "</div>"
      ],
      "text/plain": [
       "                     mean          count       median       \n",
       "host_is_superhost       f       t      f     t      f      t\n",
       "room_type                                                   \n",
       "Entire home/apt   230.057 182.776  21495  8898 96.317 98.411\n",
       "Hotel room        174.524 401.853    813   238 92.735 95.832\n",
       "Private room       89.552  69.585   6036  1673 43.234 43.037\n",
       "Shared room        45.695  67.595    445   144 28.694 28.694"
      ]
     },
     "execution_count": 102,
     "metadata": {},
     "output_type": "execute_result"
    }
   ],
   "source": [
    "super_hosts = df.pivot_table(\n",
    "        values='price',\n",
    "        index='room_type',\n",
    "        columns='host_is_superhost',\n",
    "        aggfunc=['mean', 'count', 'median']\n",
    ")\n",
    "\n",
    "super_hosts"
   ]
  },
  {
   "cell_type": "code",
   "execution_count": 107,
   "metadata": {},
   "outputs": [
    {
     "data": {
      "text/plain": [
       "room_type\n",
       "Entire home/apt   182.776\n",
       "Hotel room        401.853\n",
       "Private room       69.585\n",
       "Shared room        67.595\n",
       "Name: t, dtype: float32"
      ]
     },
     "execution_count": 107,
     "metadata": {},
     "output_type": "execute_result"
    }
   ],
   "source": [
    "super_hosts.loc[:, 'mean'].loc[:, 't']"
   ]
  },
  {
   "cell_type": "markdown",
   "metadata": {},
   "source": [
    "Upon first inspection it seems as if the most "
   ]
  },
  {
   "cell_type": "code",
   "execution_count": 108,
   "metadata": {},
   "outputs": [
    {
     "data": {
      "text/html": [
       "<div>\n",
       "<style scoped>\n",
       "    .dataframe tbody tr th:only-of-type {\n",
       "        vertical-align: middle;\n",
       "    }\n",
       "\n",
       "    .dataframe tbody tr th {\n",
       "        vertical-align: top;\n",
       "    }\n",
       "\n",
       "    .dataframe thead th {\n",
       "        text-align: right;\n",
       "    }\n",
       "</style>\n",
       "<table border=\"1\" class=\"dataframe\">\n",
       "  <thead>\n",
       "    <tr style=\"text-align: right;\">\n",
       "      <th>host_is_superhost</th>\n",
       "      <th>f</th>\n",
       "      <th>t</th>\n",
       "    </tr>\n",
       "    <tr>\n",
       "      <th>property_type</th>\n",
       "      <th></th>\n",
       "      <th></th>\n",
       "    </tr>\n",
       "  </thead>\n",
       "  <tbody>\n",
       "    <tr>\n",
       "      <th>Aparthotel</th>\n",
       "      <td>128.078</td>\n",
       "      <td>144.470</td>\n",
       "    </tr>\n",
       "    <tr>\n",
       "      <th>Apartment</th>\n",
       "      <td>80.210</td>\n",
       "      <td>92.982</td>\n",
       "    </tr>\n",
       "    <tr>\n",
       "      <th>Barn</th>\n",
       "      <td>23.304</td>\n",
       "      <td>221.256</td>\n",
       "    </tr>\n",
       "    <tr>\n",
       "      <th>Bed and breakfast</th>\n",
       "      <td>61.823</td>\n",
       "      <td>58.522</td>\n",
       "    </tr>\n",
       "    <tr>\n",
       "      <th>Boat</th>\n",
       "      <td>247.109</td>\n",
       "      <td>nan</td>\n",
       "    </tr>\n",
       "    <tr>\n",
       "      <th>Boutique hotel</th>\n",
       "      <td>105.427</td>\n",
       "      <td>154.219</td>\n",
       "    </tr>\n",
       "    <tr>\n",
       "      <th>Bungalow</th>\n",
       "      <td>73.485</td>\n",
       "      <td>67.376</td>\n",
       "    </tr>\n",
       "    <tr>\n",
       "      <th>Bus</th>\n",
       "      <td>23.508</td>\n",
       "      <td>nan</td>\n",
       "    </tr>\n",
       "    <tr>\n",
       "      <th>Cabin</th>\n",
       "      <td>41.709</td>\n",
       "      <td>56.949</td>\n",
       "    </tr>\n",
       "    <tr>\n",
       "      <th>Camper/RV</th>\n",
       "      <td>78.667</td>\n",
       "      <td>32.928</td>\n",
       "    </tr>\n",
       "    <tr>\n",
       "      <th>Casa particular (Cuba)</th>\n",
       "      <td>37.390</td>\n",
       "      <td>nan</td>\n",
       "    </tr>\n",
       "    <tr>\n",
       "      <th>Castle</th>\n",
       "      <td>50.104</td>\n",
       "      <td>230.496</td>\n",
       "    </tr>\n",
       "    <tr>\n",
       "      <th>Cave</th>\n",
       "      <td>18.201</td>\n",
       "      <td>nan</td>\n",
       "    </tr>\n",
       "    <tr>\n",
       "      <th>Chalet</th>\n",
       "      <td>58.862</td>\n",
       "      <td>92.365</td>\n",
       "    </tr>\n",
       "    <tr>\n",
       "      <th>Condominium</th>\n",
       "      <td>76.848</td>\n",
       "      <td>91.584</td>\n",
       "    </tr>\n",
       "    <tr>\n",
       "      <th>Cottage</th>\n",
       "      <td>62.070</td>\n",
       "      <td>57.751</td>\n",
       "    </tr>\n",
       "    <tr>\n",
       "      <th>Dome house</th>\n",
       "      <td>71.387</td>\n",
       "      <td>40.982</td>\n",
       "    </tr>\n",
       "    <tr>\n",
       "      <th>Dorm</th>\n",
       "      <td>31.035</td>\n",
       "      <td>nan</td>\n",
       "    </tr>\n",
       "    <tr>\n",
       "      <th>Earth house</th>\n",
       "      <td>31.035</td>\n",
       "      <td>nan</td>\n",
       "    </tr>\n",
       "    <tr>\n",
       "      <th>Farm stay</th>\n",
       "      <td>47.077</td>\n",
       "      <td>27.827</td>\n",
       "    </tr>\n",
       "    <tr>\n",
       "      <th>Guest suite</th>\n",
       "      <td>42.018</td>\n",
       "      <td>37.452</td>\n",
       "    </tr>\n",
       "    <tr>\n",
       "      <th>Guesthouse</th>\n",
       "      <td>58.862</td>\n",
       "      <td>46.028</td>\n",
       "    </tr>\n",
       "    <tr>\n",
       "      <th>Heritage hotel (India)</th>\n",
       "      <td>173.315</td>\n",
       "      <td>nan</td>\n",
       "    </tr>\n",
       "    <tr>\n",
       "      <th>Hostel</th>\n",
       "      <td>46.109</td>\n",
       "      <td>52.258</td>\n",
       "    </tr>\n",
       "    <tr>\n",
       "      <th>Hotel</th>\n",
       "      <td>118.349</td>\n",
       "      <td>96.317</td>\n",
       "    </tr>\n",
       "    <tr>\n",
       "      <th>House</th>\n",
       "      <td>111.183</td>\n",
       "      <td>105.533</td>\n",
       "    </tr>\n",
       "    <tr>\n",
       "      <th>Hut</th>\n",
       "      <td>62.645</td>\n",
       "      <td>57.792</td>\n",
       "    </tr>\n",
       "    <tr>\n",
       "      <th>Island</th>\n",
       "      <td>71.695</td>\n",
       "      <td>nan</td>\n",
       "    </tr>\n",
       "    <tr>\n",
       "      <th>Lighthouse</th>\n",
       "      <td>172.760</td>\n",
       "      <td>nan</td>\n",
       "    </tr>\n",
       "    <tr>\n",
       "      <th>Loft</th>\n",
       "      <td>81.564</td>\n",
       "      <td>73.485</td>\n",
       "    </tr>\n",
       "    <tr>\n",
       "      <th>Nature lodge</th>\n",
       "      <td>67.438</td>\n",
       "      <td>47.338</td>\n",
       "    </tr>\n",
       "    <tr>\n",
       "      <th>Other</th>\n",
       "      <td>45.997</td>\n",
       "      <td>56.702</td>\n",
       "    </tr>\n",
       "    <tr>\n",
       "      <th>Resort</th>\n",
       "      <td>111.183</td>\n",
       "      <td>nan</td>\n",
       "    </tr>\n",
       "    <tr>\n",
       "      <th>Ryokan (Japan)</th>\n",
       "      <td>127.483</td>\n",
       "      <td>23.568</td>\n",
       "    </tr>\n",
       "    <tr>\n",
       "      <th>Serviced apartment</th>\n",
       "      <td>86.627</td>\n",
       "      <td>119.885</td>\n",
       "    </tr>\n",
       "    <tr>\n",
       "      <th>Tent</th>\n",
       "      <td>237.696</td>\n",
       "      <td>192.422</td>\n",
       "    </tr>\n",
       "    <tr>\n",
       "      <th>Tiny house</th>\n",
       "      <td>38.532</td>\n",
       "      <td>52.190</td>\n",
       "    </tr>\n",
       "    <tr>\n",
       "      <th>Townhouse</th>\n",
       "      <td>75.738</td>\n",
       "      <td>87.390</td>\n",
       "    </tr>\n",
       "    <tr>\n",
       "      <th>Treehouse</th>\n",
       "      <td>18.140</td>\n",
       "      <td>76.940</td>\n",
       "    </tr>\n",
       "    <tr>\n",
       "      <th>Villa</th>\n",
       "      <td>331.699</td>\n",
       "      <td>308.068</td>\n",
       "    </tr>\n",
       "    <tr>\n",
       "      <th>Yurt</th>\n",
       "      <td>267.681</td>\n",
       "      <td>nan</td>\n",
       "    </tr>\n",
       "  </tbody>\n",
       "</table>\n",
       "</div>"
      ],
      "text/plain": [
       "host_is_superhost            f       t\n",
       "property_type                         \n",
       "Aparthotel             128.078 144.470\n",
       "Apartment               80.210  92.982\n",
       "Barn                    23.304 221.256\n",
       "Bed and breakfast       61.823  58.522\n",
       "Boat                   247.109     nan\n",
       "Boutique hotel         105.427 154.219\n",
       "Bungalow                73.485  67.376\n",
       "Bus                     23.508     nan\n",
       "Cabin                   41.709  56.949\n",
       "Camper/RV               78.667  32.928\n",
       "Casa particular (Cuba)  37.390     nan\n",
       "Castle                  50.104 230.496\n",
       "Cave                    18.201     nan\n",
       "Chalet                  58.862  92.365\n",
       "Condominium             76.848  91.584\n",
       "Cottage                 62.070  57.751\n",
       "Dome house              71.387  40.982\n",
       "Dorm                    31.035     nan\n",
       "Earth house             31.035     nan\n",
       "Farm stay               47.077  27.827\n",
       "Guest suite             42.018  37.452\n",
       "Guesthouse              58.862  46.028\n",
       "Heritage hotel (India) 173.315     nan\n",
       "Hostel                  46.109  52.258\n",
       "Hotel                  118.349  96.317\n",
       "House                  111.183 105.533\n",
       "Hut                     62.645  57.792\n",
       "Island                  71.695     nan\n",
       "Lighthouse             172.760     nan\n",
       "Loft                    81.564  73.485\n",
       "Nature lodge            67.438  47.338\n",
       "Other                   45.997  56.702\n",
       "Resort                 111.183     nan\n",
       "Ryokan (Japan)         127.483  23.568\n",
       "Serviced apartment      86.627 119.885\n",
       "Tent                   237.696 192.422\n",
       "Tiny house              38.532  52.190\n",
       "Townhouse               75.738  87.390\n",
       "Treehouse               18.140  76.940\n",
       "Villa                  331.699 308.068\n",
       "Yurt                   267.681     nan"
      ]
     },
     "execution_count": 108,
     "metadata": {},
     "output_type": "execute_result"
    }
   ],
   "source": [
    "cancel_super_host = df.pivot_table(\n",
    "    index='property_type',\n",
    "    values='price',\n",
    "    columns='host_is_superhost',\n",
    "    aggfunc='median'\n",
    ")\n",
    "\n",
    "cancel_super_host"
   ]
  },
  {
   "cell_type": "code",
   "execution_count": 109,
   "metadata": {},
   "outputs": [
    {
     "data": {
      "text/html": [
       "<div>\n",
       "<style scoped>\n",
       "    .dataframe tbody tr th:only-of-type {\n",
       "        vertical-align: middle;\n",
       "    }\n",
       "\n",
       "    .dataframe tbody tr th {\n",
       "        vertical-align: top;\n",
       "    }\n",
       "\n",
       "    .dataframe thead th {\n",
       "        text-align: right;\n",
       "    }\n",
       "</style>\n",
       "<table border=\"1\" class=\"dataframe\">\n",
       "  <thead>\n",
       "    <tr style=\"text-align: right;\">\n",
       "      <th>host_is_superhost</th>\n",
       "      <th>f</th>\n",
       "      <th>t</th>\n",
       "      <th>diff</th>\n",
       "    </tr>\n",
       "    <tr>\n",
       "      <th>property_type</th>\n",
       "      <th></th>\n",
       "      <th></th>\n",
       "      <th></th>\n",
       "    </tr>\n",
       "  </thead>\n",
       "  <tbody>\n",
       "    <tr>\n",
       "      <th>Aparthotel</th>\n",
       "      <td>128.078</td>\n",
       "      <td>144.470</td>\n",
       "      <td>16.392</td>\n",
       "    </tr>\n",
       "    <tr>\n",
       "      <th>Apartment</th>\n",
       "      <td>80.210</td>\n",
       "      <td>92.982</td>\n",
       "      <td>12.772</td>\n",
       "    </tr>\n",
       "    <tr>\n",
       "      <th>Barn</th>\n",
       "      <td>23.304</td>\n",
       "      <td>221.256</td>\n",
       "      <td>197.952</td>\n",
       "    </tr>\n",
       "    <tr>\n",
       "      <th>Bed and breakfast</th>\n",
       "      <td>61.823</td>\n",
       "      <td>58.522</td>\n",
       "      <td>-3.302</td>\n",
       "    </tr>\n",
       "    <tr>\n",
       "      <th>Boat</th>\n",
       "      <td>247.109</td>\n",
       "      <td>nan</td>\n",
       "      <td>nan</td>\n",
       "    </tr>\n",
       "    <tr>\n",
       "      <th>Boutique hotel</th>\n",
       "      <td>105.427</td>\n",
       "      <td>154.219</td>\n",
       "      <td>48.792</td>\n",
       "    </tr>\n",
       "    <tr>\n",
       "      <th>Bungalow</th>\n",
       "      <td>73.485</td>\n",
       "      <td>67.376</td>\n",
       "      <td>-6.108</td>\n",
       "    </tr>\n",
       "    <tr>\n",
       "      <th>Bus</th>\n",
       "      <td>23.508</td>\n",
       "      <td>nan</td>\n",
       "      <td>nan</td>\n",
       "    </tr>\n",
       "    <tr>\n",
       "      <th>Cabin</th>\n",
       "      <td>41.709</td>\n",
       "      <td>56.949</td>\n",
       "      <td>15.240</td>\n",
       "    </tr>\n",
       "    <tr>\n",
       "      <th>Camper/RV</th>\n",
       "      <td>78.667</td>\n",
       "      <td>32.928</td>\n",
       "      <td>-45.739</td>\n",
       "    </tr>\n",
       "    <tr>\n",
       "      <th>Casa particular (Cuba)</th>\n",
       "      <td>37.390</td>\n",
       "      <td>nan</td>\n",
       "      <td>nan</td>\n",
       "    </tr>\n",
       "    <tr>\n",
       "      <th>Castle</th>\n",
       "      <td>50.104</td>\n",
       "      <td>230.496</td>\n",
       "      <td>180.392</td>\n",
       "    </tr>\n",
       "    <tr>\n",
       "      <th>Cave</th>\n",
       "      <td>18.201</td>\n",
       "      <td>nan</td>\n",
       "      <td>nan</td>\n",
       "    </tr>\n",
       "    <tr>\n",
       "      <th>Chalet</th>\n",
       "      <td>58.862</td>\n",
       "      <td>92.365</td>\n",
       "      <td>33.503</td>\n",
       "    </tr>\n",
       "    <tr>\n",
       "      <th>Condominium</th>\n",
       "      <td>76.848</td>\n",
       "      <td>91.584</td>\n",
       "      <td>14.736</td>\n",
       "    </tr>\n",
       "    <tr>\n",
       "      <th>Cottage</th>\n",
       "      <td>62.070</td>\n",
       "      <td>57.751</td>\n",
       "      <td>-4.319</td>\n",
       "    </tr>\n",
       "    <tr>\n",
       "      <th>Dome house</th>\n",
       "      <td>71.387</td>\n",
       "      <td>40.982</td>\n",
       "      <td>-30.405</td>\n",
       "    </tr>\n",
       "    <tr>\n",
       "      <th>Dorm</th>\n",
       "      <td>31.035</td>\n",
       "      <td>nan</td>\n",
       "      <td>nan</td>\n",
       "    </tr>\n",
       "    <tr>\n",
       "      <th>Earth house</th>\n",
       "      <td>31.035</td>\n",
       "      <td>nan</td>\n",
       "      <td>nan</td>\n",
       "    </tr>\n",
       "    <tr>\n",
       "      <th>Farm stay</th>\n",
       "      <td>47.077</td>\n",
       "      <td>27.827</td>\n",
       "      <td>-19.250</td>\n",
       "    </tr>\n",
       "    <tr>\n",
       "      <th>Guest suite</th>\n",
       "      <td>42.018</td>\n",
       "      <td>37.452</td>\n",
       "      <td>-4.566</td>\n",
       "    </tr>\n",
       "    <tr>\n",
       "      <th>Guesthouse</th>\n",
       "      <td>58.862</td>\n",
       "      <td>46.028</td>\n",
       "      <td>-12.834</td>\n",
       "    </tr>\n",
       "    <tr>\n",
       "      <th>Heritage hotel (India)</th>\n",
       "      <td>173.315</td>\n",
       "      <td>nan</td>\n",
       "      <td>nan</td>\n",
       "    </tr>\n",
       "    <tr>\n",
       "      <th>Hostel</th>\n",
       "      <td>46.109</td>\n",
       "      <td>52.258</td>\n",
       "      <td>6.149</td>\n",
       "    </tr>\n",
       "    <tr>\n",
       "      <th>Hotel</th>\n",
       "      <td>118.349</td>\n",
       "      <td>96.317</td>\n",
       "      <td>-22.032</td>\n",
       "    </tr>\n",
       "    <tr>\n",
       "      <th>House</th>\n",
       "      <td>111.183</td>\n",
       "      <td>105.533</td>\n",
       "      <td>-5.651</td>\n",
       "    </tr>\n",
       "    <tr>\n",
       "      <th>Hut</th>\n",
       "      <td>62.645</td>\n",
       "      <td>57.792</td>\n",
       "      <td>-4.853</td>\n",
       "    </tr>\n",
       "    <tr>\n",
       "      <th>Island</th>\n",
       "      <td>71.695</td>\n",
       "      <td>nan</td>\n",
       "      <td>nan</td>\n",
       "    </tr>\n",
       "    <tr>\n",
       "      <th>Lighthouse</th>\n",
       "      <td>172.760</td>\n",
       "      <td>nan</td>\n",
       "      <td>nan</td>\n",
       "    </tr>\n",
       "    <tr>\n",
       "      <th>Loft</th>\n",
       "      <td>81.564</td>\n",
       "      <td>73.485</td>\n",
       "      <td>-8.079</td>\n",
       "    </tr>\n",
       "    <tr>\n",
       "      <th>Nature lodge</th>\n",
       "      <td>67.438</td>\n",
       "      <td>47.338</td>\n",
       "      <td>-20.101</td>\n",
       "    </tr>\n",
       "    <tr>\n",
       "      <th>Other</th>\n",
       "      <td>45.997</td>\n",
       "      <td>56.702</td>\n",
       "      <td>10.705</td>\n",
       "    </tr>\n",
       "    <tr>\n",
       "      <th>Resort</th>\n",
       "      <td>111.183</td>\n",
       "      <td>nan</td>\n",
       "      <td>nan</td>\n",
       "    </tr>\n",
       "    <tr>\n",
       "      <th>Ryokan (Japan)</th>\n",
       "      <td>127.483</td>\n",
       "      <td>23.568</td>\n",
       "      <td>-103.915</td>\n",
       "    </tr>\n",
       "    <tr>\n",
       "      <th>Serviced apartment</th>\n",
       "      <td>86.627</td>\n",
       "      <td>119.885</td>\n",
       "      <td>33.258</td>\n",
       "    </tr>\n",
       "    <tr>\n",
       "      <th>Tent</th>\n",
       "      <td>237.696</td>\n",
       "      <td>192.422</td>\n",
       "      <td>-45.274</td>\n",
       "    </tr>\n",
       "    <tr>\n",
       "      <th>Tiny house</th>\n",
       "      <td>38.532</td>\n",
       "      <td>52.190</td>\n",
       "      <td>13.658</td>\n",
       "    </tr>\n",
       "    <tr>\n",
       "      <th>Townhouse</th>\n",
       "      <td>75.738</td>\n",
       "      <td>87.390</td>\n",
       "      <td>11.652</td>\n",
       "    </tr>\n",
       "    <tr>\n",
       "      <th>Treehouse</th>\n",
       "      <td>18.140</td>\n",
       "      <td>76.940</td>\n",
       "      <td>58.800</td>\n",
       "    </tr>\n",
       "    <tr>\n",
       "      <th>Villa</th>\n",
       "      <td>331.699</td>\n",
       "      <td>308.068</td>\n",
       "      <td>-23.631</td>\n",
       "    </tr>\n",
       "    <tr>\n",
       "      <th>Yurt</th>\n",
       "      <td>267.681</td>\n",
       "      <td>nan</td>\n",
       "      <td>nan</td>\n",
       "    </tr>\n",
       "  </tbody>\n",
       "</table>\n",
       "</div>"
      ],
      "text/plain": [
       "host_is_superhost            f       t     diff\n",
       "property_type                                  \n",
       "Aparthotel             128.078 144.470   16.392\n",
       "Apartment               80.210  92.982   12.772\n",
       "Barn                    23.304 221.256  197.952\n",
       "Bed and breakfast       61.823  58.522   -3.302\n",
       "Boat                   247.109     nan      nan\n",
       "Boutique hotel         105.427 154.219   48.792\n",
       "Bungalow                73.485  67.376   -6.108\n",
       "Bus                     23.508     nan      nan\n",
       "Cabin                   41.709  56.949   15.240\n",
       "Camper/RV               78.667  32.928  -45.739\n",
       "Casa particular (Cuba)  37.390     nan      nan\n",
       "Castle                  50.104 230.496  180.392\n",
       "Cave                    18.201     nan      nan\n",
       "Chalet                  58.862  92.365   33.503\n",
       "Condominium             76.848  91.584   14.736\n",
       "Cottage                 62.070  57.751   -4.319\n",
       "Dome house              71.387  40.982  -30.405\n",
       "Dorm                    31.035     nan      nan\n",
       "Earth house             31.035     nan      nan\n",
       "Farm stay               47.077  27.827  -19.250\n",
       "Guest suite             42.018  37.452   -4.566\n",
       "Guesthouse              58.862  46.028  -12.834\n",
       "Heritage hotel (India) 173.315     nan      nan\n",
       "Hostel                  46.109  52.258    6.149\n",
       "Hotel                  118.349  96.317  -22.032\n",
       "House                  111.183 105.533   -5.651\n",
       "Hut                     62.645  57.792   -4.853\n",
       "Island                  71.695     nan      nan\n",
       "Lighthouse             172.760     nan      nan\n",
       "Loft                    81.564  73.485   -8.079\n",
       "Nature lodge            67.438  47.338  -20.101\n",
       "Other                   45.997  56.702   10.705\n",
       "Resort                 111.183     nan      nan\n",
       "Ryokan (Japan)         127.483  23.568 -103.915\n",
       "Serviced apartment      86.627 119.885   33.258\n",
       "Tent                   237.696 192.422  -45.274\n",
       "Tiny house              38.532  52.190   13.658\n",
       "Townhouse               75.738  87.390   11.652\n",
       "Treehouse               18.140  76.940   58.800\n",
       "Villa                  331.699 308.068  -23.631\n",
       "Yurt                   267.681     nan      nan"
      ]
     },
     "execution_count": 109,
     "metadata": {},
     "output_type": "execute_result"
    }
   ],
   "source": [
    "# we can also perform operations with the reduced pivot table\n",
    "cancel_super_host['diff'] = cancel_super_host['t'] - cancel_super_host['f']\n",
    "cancel_super_host"
   ]
  },
  {
   "cell_type": "markdown",
   "metadata": {},
   "source": [
    "We can also explore very complex interactions within the data."
   ]
  },
  {
   "cell_type": "code",
   "execution_count": 111,
   "metadata": {},
   "outputs": [
    {
     "data": {
      "text/html": [
       "<div>\n",
       "<style scoped>\n",
       "    .dataframe tbody tr th:only-of-type {\n",
       "        vertical-align: middle;\n",
       "    }\n",
       "\n",
       "    .dataframe tbody tr th {\n",
       "        vertical-align: top;\n",
       "    }\n",
       "\n",
       "    .dataframe thead tr th {\n",
       "        text-align: left;\n",
       "    }\n",
       "\n",
       "    .dataframe thead tr:last-of-type th {\n",
       "        text-align: right;\n",
       "    }\n",
       "</style>\n",
       "<table border=\"1\" class=\"dataframe\">\n",
       "  <thead>\n",
       "    <tr>\n",
       "      <th></th>\n",
       "      <th></th>\n",
       "      <th colspan=\"8\" halign=\"left\">count</th>\n",
       "      <th colspan=\"8\" halign=\"left\">mean</th>\n",
       "    </tr>\n",
       "    <tr>\n",
       "      <th></th>\n",
       "      <th></th>\n",
       "      <th colspan=\"4\" halign=\"left\">cleaning_fee</th>\n",
       "      <th colspan=\"4\" halign=\"left\">price</th>\n",
       "      <th colspan=\"4\" halign=\"left\">cleaning_fee</th>\n",
       "      <th colspan=\"4\" halign=\"left\">price</th>\n",
       "    </tr>\n",
       "    <tr>\n",
       "      <th></th>\n",
       "      <th>host_identity_verified</th>\n",
       "      <th colspan=\"2\" halign=\"left\">f</th>\n",
       "      <th colspan=\"2\" halign=\"left\">t</th>\n",
       "      <th colspan=\"2\" halign=\"left\">f</th>\n",
       "      <th colspan=\"2\" halign=\"left\">t</th>\n",
       "      <th colspan=\"2\" halign=\"left\">f</th>\n",
       "      <th colspan=\"2\" halign=\"left\">t</th>\n",
       "      <th colspan=\"2\" halign=\"left\">f</th>\n",
       "      <th colspan=\"2\" halign=\"left\">t</th>\n",
       "    </tr>\n",
       "    <tr>\n",
       "      <th></th>\n",
       "      <th>instant_bookable</th>\n",
       "      <th>f</th>\n",
       "      <th>t</th>\n",
       "      <th>f</th>\n",
       "      <th>t</th>\n",
       "      <th>f</th>\n",
       "      <th>t</th>\n",
       "      <th>f</th>\n",
       "      <th>t</th>\n",
       "      <th>f</th>\n",
       "      <th>t</th>\n",
       "      <th>f</th>\n",
       "      <th>t</th>\n",
       "      <th>f</th>\n",
       "      <th>t</th>\n",
       "      <th>f</th>\n",
       "      <th>t</th>\n",
       "    </tr>\n",
       "    <tr>\n",
       "      <th>host_is_superhost</th>\n",
       "      <th>country</th>\n",
       "      <th></th>\n",
       "      <th></th>\n",
       "      <th></th>\n",
       "      <th></th>\n",
       "      <th></th>\n",
       "      <th></th>\n",
       "      <th></th>\n",
       "      <th></th>\n",
       "      <th></th>\n",
       "      <th></th>\n",
       "      <th></th>\n",
       "      <th></th>\n",
       "      <th></th>\n",
       "      <th></th>\n",
       "      <th></th>\n",
       "      <th></th>\n",
       "    </tr>\n",
       "  </thead>\n",
       "  <tbody>\n",
       "    <tr>\n",
       "      <th rowspan=\"3\" valign=\"top\">f</th>\n",
       "      <th>Belgium</th>\n",
       "      <td>521</td>\n",
       "      <td>742</td>\n",
       "      <td>358</td>\n",
       "      <td>197</td>\n",
       "      <td>521</td>\n",
       "      <td>742</td>\n",
       "      <td>358</td>\n",
       "      <td>197</td>\n",
       "      <td>27.886</td>\n",
       "      <td>35.951</td>\n",
       "      <td>45.034</td>\n",
       "      <td>37.466</td>\n",
       "      <td>96.054</td>\n",
       "      <td>202.010</td>\n",
       "      <td>114.697</td>\n",
       "      <td>339.339</td>\n",
       "    </tr>\n",
       "    <tr>\n",
       "      <th>Japan</th>\n",
       "      <td>1533</td>\n",
       "      <td>6586</td>\n",
       "      <td>431</td>\n",
       "      <td>1140</td>\n",
       "      <td>1533</td>\n",
       "      <td>6586</td>\n",
       "      <td>431</td>\n",
       "      <td>1140</td>\n",
       "      <td>74.025</td>\n",
       "      <td>58.391</td>\n",
       "      <td>71.013</td>\n",
       "      <td>57.993</td>\n",
       "      <td>159.319</td>\n",
       "      <td>340.773</td>\n",
       "      <td>121.152</td>\n",
       "      <td>251.217</td>\n",
       "    </tr>\n",
       "    <tr>\n",
       "      <th>South Africa</th>\n",
       "      <td>5902</td>\n",
       "      <td>7345</td>\n",
       "      <td>2458</td>\n",
       "      <td>1576</td>\n",
       "      <td>5902</td>\n",
       "      <td>7345</td>\n",
       "      <td>2458</td>\n",
       "      <td>1576</td>\n",
       "      <td>23.569</td>\n",
       "      <td>18.965</td>\n",
       "      <td>25.631</td>\n",
       "      <td>21.541</td>\n",
       "      <td>167.939</td>\n",
       "      <td>126.776</td>\n",
       "      <td>163.540</td>\n",
       "      <td>119.594</td>\n",
       "    </tr>\n",
       "    <tr>\n",
       "      <th rowspan=\"3\" valign=\"top\">t</th>\n",
       "      <th>Belgium</th>\n",
       "      <td>135</td>\n",
       "      <td>175</td>\n",
       "      <td>144</td>\n",
       "      <td>71</td>\n",
       "      <td>135</td>\n",
       "      <td>175</td>\n",
       "      <td>144</td>\n",
       "      <td>71</td>\n",
       "      <td>26.764</td>\n",
       "      <td>33.055</td>\n",
       "      <td>29.541</td>\n",
       "      <td>26.378</td>\n",
       "      <td>100.397</td>\n",
       "      <td>105.208</td>\n",
       "      <td>94.041</td>\n",
       "      <td>94.644</td>\n",
       "    </tr>\n",
       "    <tr>\n",
       "      <th>Japan</th>\n",
       "      <td>731</td>\n",
       "      <td>2897</td>\n",
       "      <td>464</td>\n",
       "      <td>797</td>\n",
       "      <td>731</td>\n",
       "      <td>2897</td>\n",
       "      <td>464</td>\n",
       "      <td>797</td>\n",
       "      <td>65.395</td>\n",
       "      <td>66.438</td>\n",
       "      <td>54.340</td>\n",
       "      <td>64.121</td>\n",
       "      <td>155.023</td>\n",
       "      <td>260.179</td>\n",
       "      <td>116.842</td>\n",
       "      <td>184.884</td>\n",
       "    </tr>\n",
       "    <tr>\n",
       "      <th>South Africa</th>\n",
       "      <td>1638</td>\n",
       "      <td>1823</td>\n",
       "      <td>1104</td>\n",
       "      <td>974</td>\n",
       "      <td>1638</td>\n",
       "      <td>1823</td>\n",
       "      <td>1104</td>\n",
       "      <td>974</td>\n",
       "      <td>24.849</td>\n",
       "      <td>20.909</td>\n",
       "      <td>27.228</td>\n",
       "      <td>23.243</td>\n",
       "      <td>139.726</td>\n",
       "      <td>96.406</td>\n",
       "      <td>156.619</td>\n",
       "      <td>153.745</td>\n",
       "    </tr>\n",
       "  </tbody>\n",
       "</table>\n",
       "</div>"
      ],
      "text/plain": [
       "                                      count                                \\\n",
       "                               cleaning_fee                   price         \n",
       "host_identity_verified                    f           t           f         \n",
       "instant_bookable                          f     t     f     t     f     t   \n",
       "host_is_superhost country                                                   \n",
       "f                 Belgium               521   742   358   197   521   742   \n",
       "                  Japan                1533  6586   431  1140  1533  6586   \n",
       "                  South Africa         5902  7345  2458  1576  5902  7345   \n",
       "t                 Belgium               135   175   144    71   135   175   \n",
       "                  Japan                 731  2897   464   797   731  2897   \n",
       "                  South Africa         1638  1823  1104   974  1638  1823   \n",
       "\n",
       "                                                   mean                       \\\n",
       "                                           cleaning_fee                        \n",
       "host_identity_verified             t                  f             t          \n",
       "instant_bookable                   f     t            f      t      f      t   \n",
       "host_is_superhost country                                                      \n",
       "f                 Belgium        358   197       27.886 35.951 45.034 37.466   \n",
       "                  Japan          431  1140       74.025 58.391 71.013 57.993   \n",
       "                  South Africa  2458  1576       23.569 18.965 25.631 21.541   \n",
       "t                 Belgium        144    71       26.764 33.055 29.541 26.378   \n",
       "                  Japan          464   797       65.395 66.438 54.340 64.121   \n",
       "                  South Africa  1104   974       24.849 20.909 27.228 23.243   \n",
       "\n",
       "                                                                \n",
       "                                 price                          \n",
       "host_identity_verified               f               t          \n",
       "instant_bookable                     f       t       f       t  \n",
       "host_is_superhost country                                       \n",
       "f                 Belgium       96.054 202.010 114.697 339.339  \n",
       "                  Japan        159.319 340.773 121.152 251.217  \n",
       "                  South Africa 167.939 126.776 163.540 119.594  \n",
       "t                 Belgium      100.397 105.208  94.041  94.644  \n",
       "                  Japan        155.023 260.179 116.842 184.884  \n",
       "                  South Africa 139.726  96.406 156.619 153.745  "
      ]
     },
     "execution_count": 111,
     "metadata": {},
     "output_type": "execute_result"
    }
   ],
   "source": [
    "identity_price = df.pivot_table(index=['host_is_superhost', 'country'], \n",
    "                                values=['price', 'cleaning_fee'], \n",
    "                                columns=['host_identity_verified', 'instant_bookable'],\n",
    "                                aggfunc=['count', 'mean'])\n",
    "\n",
    "identity_price"
   ]
  },
  {
   "cell_type": "markdown",
   "metadata": {},
   "source": [
    "I found that Japan has about 1500 listings from non-identified regular hosts whose listings are not instantly bookable."
   ]
  },
  {
   "cell_type": "code",
   "execution_count": 118,
   "metadata": {},
   "outputs": [
    {
     "data": {
      "text/plain": [
       "country\n",
       "Belgium          521\n",
       "Japan           1533\n",
       "South Africa    5902\n",
       "Name: f, dtype: int64"
      ]
     },
     "execution_count": 118,
     "metadata": {},
     "output_type": "execute_result"
    }
   ],
   "source": [
    "identity_price['count']['price']['f']['f'].loc['f', :].loc['f', :]"
   ]
  },
  {
   "cell_type": "code",
   "execution_count": 119,
   "metadata": {},
   "outputs": [
    {
     "data": {
      "text/plain": [
       "country\n",
       "Belgium          521\n",
       "Japan           1533\n",
       "South Africa    5902\n",
       "Name: (count, price, f, f), dtype: int64"
      ]
     },
     "execution_count": 119,
     "metadata": {},
     "output_type": "execute_result"
    }
   ],
   "source": [
    "identity_price.loc['f', ('count', 'price', 'f', 'f')]"
   ]
  },
  {
   "cell_type": "markdown",
   "metadata": {},
   "source": [
    "As a side note. It would also be interesting to see whether there is a big gap between the distribution of reviews received by super hosts and regular hosts, and across rooms."
   ]
  },
  {
   "cell_type": "code",
   "execution_count": 120,
   "metadata": {},
   "outputs": [
    {
     "data": {
      "image/png": "[encoded data removed]",
      "text/plain": [
       "<Figure size 842.4x595.44 with 1 Axes>"
      ]
     },
     "metadata": {},
     "output_type": "display_data"
    }
   ],
   "source": [
    "sns.set('notebook')\n",
    "sns.set(rc={'figure.figsize':(11.7, 8.27)})\n",
    "sns.violinplot(x=\"room_type\", \n",
    "               y=\"number_of_reviews\", \n",
    "               hue=\"host_is_superhost\", \n",
    "               data=df.sample(5000), \n",
    "               palette=\"Pastel1\")\n",
    "plt.title(\"Reviews Distribution by Host and Room Type\")\n",
    "plt.xlabel(\"Types of Rooms\")\n",
    "plt.ylabel(\"Prices\")\n",
    "plt.show()"
   ]
  },
  {
   "cell_type": "markdown",
   "metadata": {},
   "source": [
    "## GroupBy\n",
    "\n",
    "To understand groups better, we cam create a multi-index object using the pandas method `.grouby()`. This method is another useful tool for aggregating data and one that you might end up using a lot for data analysis with Python. Its mechanics are a bit different than that of `pivot_tables` but the results are almost the same. How does `.groupby()` works then\n",
    "\n",
    "1. We first call the method on our data, e.g. `df.groupby`\n",
    "2. We then select the variable or variables (as a list if multiple) that we would like to split our data by, e.g. `df.groupby('cars')` or `df.groupby(['cars', 'cylinders'])`\n",
    "3. We now have a lazy `groupby` object from which we can select columns and aggregation methods for, e.g. `df.groupby('cars')['km_per_galons'].mean()` would give us the average kilometers per gallons by car brand\n",
    "4. We can also specify multiple aggregation functions for a column, or specific aggregation methods for each columns (e.g. as a dictionary `{'column': 'mean'}`) using the `.agg()` method after the a specific columns or the `groupby` object itself\n",
    "\n",
    "You can learn more about the awesome `groupby` through the pandas documentation [here](https://pandas.pydata.org/pandas-docs/stable/user_guide/groupby.html)."
   ]
  },
  {
   "cell_type": "code",
   "execution_count": 121,
   "metadata": {},
   "outputs": [
    {
     "data": {
      "text/html": [
       "<div>\n",
       "<style scoped>\n",
       "    .dataframe tbody tr th:only-of-type {\n",
       "        vertical-align: middle;\n",
       "    }\n",
       "\n",
       "    .dataframe tbody tr th {\n",
       "        vertical-align: top;\n",
       "    }\n",
       "\n",
       "    .dataframe thead th {\n",
       "        text-align: right;\n",
       "    }\n",
       "</style>\n",
       "<table border=\"1\" class=\"dataframe\">\n",
       "  <thead>\n",
       "    <tr style=\"text-align: right;\">\n",
       "      <th></th>\n",
       "      <th>id</th>\n",
       "      <th>listing_url</th>\n",
       "      <th>scrape_id</th>\n",
       "      <th>last_scraped</th>\n",
       "      <th>name</th>\n",
       "      <th>summary</th>\n",
       "      <th>space</th>\n",
       "      <th>description</th>\n",
       "      <th>experiences_offered</th>\n",
       "      <th>neighborhood_overview</th>\n",
       "      <th>notes</th>\n",
       "      <th>transit</th>\n",
       "      <th>access</th>\n",
       "      <th>interaction</th>\n",
       "      <th>house_rules</th>\n",
       "      <th>picture_url</th>\n",
       "      <th>host_id</th>\n",
       "      <th>host_url</th>\n",
       "      <th>host_name</th>\n",
       "      <th>host_since</th>\n",
       "      <th>host_location</th>\n",
       "      <th>host_about</th>\n",
       "      <th>host_response_time</th>\n",
       "      <th>host_is_superhost</th>\n",
       "      <th>host_thumbnail_url</th>\n",
       "      <th>host_picture_url</th>\n",
       "      <th>host_verifications</th>\n",
       "      <th>host_has_profile_pic</th>\n",
       "      <th>host_identity_verified</th>\n",
       "      <th>street</th>\n",
       "      <th>neighbourhood_cleansed</th>\n",
       "      <th>city</th>\n",
       "      <th>state</th>\n",
       "      <th>zipcode</th>\n",
       "      <th>market</th>\n",
       "      <th>smart_location</th>\n",
       "      <th>country_code</th>\n",
       "      <th>country</th>\n",
       "      <th>is_location_exact</th>\n",
       "      <th>property_type</th>\n",
       "      <th>room_type</th>\n",
       "      <th>bed_type</th>\n",
       "      <th>amenities</th>\n",
       "      <th>minimum_nights</th>\n",
       "      <th>maximum_nights</th>\n",
       "      <th>calendar_updated</th>\n",
       "      <th>has_availability</th>\n",
       "      <th>calendar_last_scraped</th>\n",
       "      <th>requires_license</th>\n",
       "      <th>instant_bookable</th>\n",
       "      <th>is_business_travel_ready</th>\n",
       "      <th>cancellation_policy</th>\n",
       "      <th>require_guest_profile_picture</th>\n",
       "      <th>require_guest_phone_verification</th>\n",
       "      <th>first_review</th>\n",
       "      <th>last_review</th>\n",
       "      <th>latitude</th>\n",
       "      <th>longitude</th>\n",
       "      <th>bathrooms</th>\n",
       "      <th>price</th>\n",
       "      <th>extra_people</th>\n",
       "      <th>minimum_nights_avg_ntm</th>\n",
       "      <th>maximum_nights_avg_ntm</th>\n",
       "      <th>accommodates</th>\n",
       "      <th>guests_included</th>\n",
       "      <th>minimum_minimum_nights</th>\n",
       "      <th>maximum_minimum_nights</th>\n",
       "      <th>minimum_maximum_nights</th>\n",
       "      <th>maximum_maximum_nights</th>\n",
       "      <th>availability_30</th>\n",
       "      <th>availability_60</th>\n",
       "      <th>availability_90</th>\n",
       "      <th>availability_365</th>\n",
       "      <th>number_of_reviews</th>\n",
       "      <th>number_of_reviews_ltm</th>\n",
       "      <th>calculated_host_listings_count</th>\n",
       "      <th>calculated_host_listings_count_entire_homes</th>\n",
       "      <th>bedrooms</th>\n",
       "      <th>beds</th>\n",
       "      <th>calculated_host_listings_count_private_rooms</th>\n",
       "      <th>calculated_host_listings_count_shared_rooms</th>\n",
       "      <th>host_listings_count</th>\n",
       "      <th>host_total_listings_count</th>\n",
       "      <th>security_deposit</th>\n",
       "      <th>review_scores_checkin</th>\n",
       "      <th>reviews_per_month</th>\n",
       "      <th>host_response_rate</th>\n",
       "      <th>host_acceptance_rate</th>\n",
       "      <th>review_scores_rating</th>\n",
       "      <th>review_scores_cleanliness</th>\n",
       "      <th>review_scores_value</th>\n",
       "      <th>review_scores_accuracy</th>\n",
       "      <th>review_scores_communication</th>\n",
       "      <th>review_scores_location</th>\n",
       "      <th>cleaning_fee</th>\n",
       "    </tr>\n",
       "  </thead>\n",
       "  <tbody>\n",
       "    <tr>\n",
       "      <th>12602</th>\n",
       "      <td>41601240</td>\n",
       "      <td>https://www.airbnb.com/rooms/41601240</td>\n",
       "      <td>20200625032351</td>\n",
       "      <td>2020-06-26</td>\n",
       "      <td>5 min Sta.!!Easy access to Ueno/Akihabara☆max6...</td>\n",
       "      <td>Located in a real residential area where the n...</td>\n",
       "      <td>Welcome to Tabata, Tokyo!  The apartment is lo...</td>\n",
       "      <td>Located in a real residential area where the n...</td>\n",
       "      <td>none</td>\n",
       "      <td>It says that many super famous Japanese author...</td>\n",
       "      <td>I'll send the guidance of the way to the apart...</td>\n",
       "      <td>★Closest stations★  ･田端駅(Tabata Sta.) - 山手線(Ya...</td>\n",
       "      <td>You have full access to the apartment.  Nothin...</td>\n",
       "      <td>I live in different apartment in TOKYO.  If yo...</td>\n",
       "      <td>Unknown</td>\n",
       "      <td>https://a0.muscache.com/im/pictures/03bcbfe3-6...</td>\n",
       "      <td>287699302</td>\n",
       "      <td>https://www.airbnb.com/users/show/287699302</td>\n",
       "      <td>Nana</td>\n",
       "      <td>2019-08-21</td>\n",
       "      <td>JP</td>\n",
       "      <td>Hey I’m Nana.\\r\\nThanks for taking the time to...</td>\n",
       "      <td>within an hour</td>\n",
       "      <td>t</td>\n",
       "      <td>https://a0.muscache.com/im/pictures/user/1de4e...</td>\n",
       "      <td>https://a0.muscache.com/im/pictures/user/1de4e...</td>\n",
       "      <td>['email', 'phone', 'offline_government_id', 's...</td>\n",
       "      <td>t</td>\n",
       "      <td>f</td>\n",
       "      <td>Kita City, Tōkyō-to, Japan</td>\n",
       "      <td>Kita Ku</td>\n",
       "      <td>Kita City</td>\n",
       "      <td>Tōkyō-to</td>\n",
       "      <td>114-0014</td>\n",
       "      <td>Tokyo</td>\n",
       "      <td>Kita City, Japan</td>\n",
       "      <td>JP</td>\n",
       "      <td>Japan</td>\n",
       "      <td>t</td>\n",
       "      <td>Apartment</td>\n",
       "      <td>Entire home/apt</td>\n",
       "      <td>Real Bed</td>\n",
       "      <td>{TV,Wifi,\"Air conditioning\",Kitchen,Washer,\"Sm...</td>\n",
       "      <td>2</td>\n",
       "      <td>1125</td>\n",
       "      <td>4 weeks ago</td>\n",
       "      <td>t</td>\n",
       "      <td>2020-06-26</td>\n",
       "      <td>t</td>\n",
       "      <td>t</td>\n",
       "      <td>f</td>\n",
       "      <td>strict_14_with_grace_period</td>\n",
       "      <td>f</td>\n",
       "      <td>f</td>\n",
       "      <td>2020-01-30</td>\n",
       "      <td>2020-03-30</td>\n",
       "      <td>35.735</td>\n",
       "      <td>139.758</td>\n",
       "      <td>1.000</td>\n",
       "      <td>479.510</td>\n",
       "      <td>0.000</td>\n",
       "      <td>7.300</td>\n",
       "      <td>1125.000</td>\n",
       "      <td>6</td>\n",
       "      <td>1</td>\n",
       "      <td>2</td>\n",
       "      <td>30</td>\n",
       "      <td>1125</td>\n",
       "      <td>1125</td>\n",
       "      <td>15</td>\n",
       "      <td>45</td>\n",
       "      <td>75</td>\n",
       "      <td>349</td>\n",
       "      <td>4</td>\n",
       "      <td>4</td>\n",
       "      <td>7</td>\n",
       "      <td>7</td>\n",
       "      <td>2</td>\n",
       "      <td>3</td>\n",
       "      <td>0</td>\n",
       "      <td>0</td>\n",
       "      <td>7</td>\n",
       "      <td>7</td>\n",
       "      <td>0.000</td>\n",
       "      <td>10.000</td>\n",
       "      <td>0.810</td>\n",
       "      <td>100.000</td>\n",
       "      <td>100.000</td>\n",
       "      <td>100.000</td>\n",
       "      <td>10.000</td>\n",
       "      <td>9.000</td>\n",
       "      <td>10.000</td>\n",
       "      <td>10.000</td>\n",
       "      <td>10.000</td>\n",
       "      <td>134.400</td>\n",
       "    </tr>\n",
       "    <tr>\n",
       "      <th>1171</th>\n",
       "      <td>16008291</td>\n",
       "      <td>https://www.airbnb.com/rooms/16008291</td>\n",
       "      <td>20200625032351</td>\n",
       "      <td>2020-06-26</td>\n",
       "      <td>4min Shinjuku st/Cozy&amp;Clean/2min walk JR Okubo...</td>\n",
       "      <td>OPENING SALE!!!  IN WINTER 2016 My apartment i...</td>\n",
       "      <td>☆This my new apartment is located amazing plac...</td>\n",
       "      <td>OPENING SALE!!!  IN WINTER 2016 My apartment i...</td>\n",
       "      <td>none</td>\n",
       "      <td>Unknown</td>\n",
       "      <td>Notice: I DON'T ACCEPT ANY BABYS. PLEASE KEEP ...</td>\n",
       "      <td>JR OKUBO station&gt;&gt;&gt;&gt;2min walk JR SHIN-OKUBO st...</td>\n",
       "      <td>Entire room.</td>\n",
       "      <td>Basically, I would like to meet you and give t...</td>\n",
       "      <td>Please relax at your home in Tokyo, but please...</td>\n",
       "      <td>https://a0.muscache.com/im/pictures/139b4b2c-c...</td>\n",
       "      <td>98770436</td>\n",
       "      <td>https://www.airbnb.com/users/show/98770436</td>\n",
       "      <td>Tom</td>\n",
       "      <td>2016-10-08</td>\n",
       "      <td>Shinjuku, Tokyo, Japan</td>\n",
       "      <td>Hi Everyone,\\r\\nThank you for visiting my list...</td>\n",
       "      <td>within an hour</td>\n",
       "      <td>t</td>\n",
       "      <td>https://a0.muscache.com/im/pictures/user/6bf41...</td>\n",
       "      <td>https://a0.muscache.com/im/pictures/user/6bf41...</td>\n",
       "      <td>['email', 'phone', 'reviews']</td>\n",
       "      <td>t</td>\n",
       "      <td>f</td>\n",
       "      <td>Shinjuku-ku, Tōkyō-to, Japan</td>\n",
       "      <td>Shinjuku Ku</td>\n",
       "      <td>Shinjuku-ku</td>\n",
       "      <td>Tōkyō-to</td>\n",
       "      <td>169-0074</td>\n",
       "      <td>Tokyo</td>\n",
       "      <td>Shinjuku-ku, Japan</td>\n",
       "      <td>JP</td>\n",
       "      <td>Japan</td>\n",
       "      <td>t</td>\n",
       "      <td>Apartment</td>\n",
       "      <td>Entire home/apt</td>\n",
       "      <td>Real Bed</td>\n",
       "      <td>{TV,Internet,Wifi,\"Air conditioning\",Kitchen,H...</td>\n",
       "      <td>1</td>\n",
       "      <td>20</td>\n",
       "      <td>4 weeks ago</td>\n",
       "      <td>t</td>\n",
       "      <td>2020-06-26</td>\n",
       "      <td>t</td>\n",
       "      <td>t</td>\n",
       "      <td>f</td>\n",
       "      <td>strict_14_with_grace_period</td>\n",
       "      <td>f</td>\n",
       "      <td>f</td>\n",
       "      <td>2016-11-21</td>\n",
       "      <td>2020-02-22</td>\n",
       "      <td>35.702</td>\n",
       "      <td>139.695</td>\n",
       "      <td>1.000</td>\n",
       "      <td>115.248</td>\n",
       "      <td>0.000</td>\n",
       "      <td>1.000</td>\n",
       "      <td>1125.000</td>\n",
       "      <td>2</td>\n",
       "      <td>2</td>\n",
       "      <td>1</td>\n",
       "      <td>1</td>\n",
       "      <td>1125</td>\n",
       "      <td>1125</td>\n",
       "      <td>11</td>\n",
       "      <td>17</td>\n",
       "      <td>17</td>\n",
       "      <td>17</td>\n",
       "      <td>148</td>\n",
       "      <td>20</td>\n",
       "      <td>11</td>\n",
       "      <td>11</td>\n",
       "      <td>0</td>\n",
       "      <td>1</td>\n",
       "      <td>0</td>\n",
       "      <td>0</td>\n",
       "      <td>11</td>\n",
       "      <td>11</td>\n",
       "      <td>144.000</td>\n",
       "      <td>10.000</td>\n",
       "      <td>3.380</td>\n",
       "      <td>100.000</td>\n",
       "      <td>99.000</td>\n",
       "      <td>98.000</td>\n",
       "      <td>10.000</td>\n",
       "      <td>9.000</td>\n",
       "      <td>10.000</td>\n",
       "      <td>10.000</td>\n",
       "      <td>10.000</td>\n",
       "      <td>52.800</td>\n",
       "    </tr>\n",
       "  </tbody>\n",
       "</table>\n",
       "</div>"
      ],
      "text/plain": [
       "             id                            listing_url       scrape_id  \\\n",
       "12602  41601240  https://www.airbnb.com/rooms/41601240  20200625032351   \n",
       "1171   16008291  https://www.airbnb.com/rooms/16008291  20200625032351   \n",
       "\n",
       "      last_scraped                                               name  \\\n",
       "12602   2020-06-26  5 min Sta.!!Easy access to Ueno/Akihabara☆max6...   \n",
       "1171    2020-06-26  4min Shinjuku st/Cozy&Clean/2min walk JR Okubo...   \n",
       "\n",
       "                                                 summary  \\\n",
       "12602  Located in a real residential area where the n...   \n",
       "1171   OPENING SALE!!!  IN WINTER 2016 My apartment i...   \n",
       "\n",
       "                                                   space  \\\n",
       "12602  Welcome to Tabata, Tokyo!  The apartment is lo...   \n",
       "1171   ☆This my new apartment is located amazing plac...   \n",
       "\n",
       "                                             description experiences_offered  \\\n",
       "12602  Located in a real residential area where the n...                none   \n",
       "1171   OPENING SALE!!!  IN WINTER 2016 My apartment i...                none   \n",
       "\n",
       "                                   neighborhood_overview  \\\n",
       "12602  It says that many super famous Japanese author...   \n",
       "1171                                             Unknown   \n",
       "\n",
       "                                                   notes  \\\n",
       "12602  I'll send the guidance of the way to the apart...   \n",
       "1171   Notice: I DON'T ACCEPT ANY BABYS. PLEASE KEEP ...   \n",
       "\n",
       "                                                 transit  \\\n",
       "12602  ★Closest stations★  ･田端駅(Tabata Sta.) - 山手線(Ya...   \n",
       "1171   JR OKUBO station>>>>2min walk JR SHIN-OKUBO st...   \n",
       "\n",
       "                                                  access  \\\n",
       "12602  You have full access to the apartment.  Nothin...   \n",
       "1171                                        Entire room.   \n",
       "\n",
       "                                             interaction  \\\n",
       "12602  I live in different apartment in TOKYO.  If yo...   \n",
       "1171   Basically, I would like to meet you and give t...   \n",
       "\n",
       "                                             house_rules  \\\n",
       "12602                                            Unknown   \n",
       "1171   Please relax at your home in Tokyo, but please...   \n",
       "\n",
       "                                             picture_url    host_id  \\\n",
       "12602  https://a0.muscache.com/im/pictures/03bcbfe3-6...  287699302   \n",
       "1171   https://a0.muscache.com/im/pictures/139b4b2c-c...   98770436   \n",
       "\n",
       "                                          host_url host_name  host_since  \\\n",
       "12602  https://www.airbnb.com/users/show/287699302      Nana  2019-08-21   \n",
       "1171    https://www.airbnb.com/users/show/98770436       Tom  2016-10-08   \n",
       "\n",
       "                host_location  \\\n",
       "12602                      JP   \n",
       "1171   Shinjuku, Tokyo, Japan   \n",
       "\n",
       "                                              host_about host_response_time  \\\n",
       "12602  Hey I’m Nana.\\r\\nThanks for taking the time to...     within an hour   \n",
       "1171   Hi Everyone,\\r\\nThank you for visiting my list...     within an hour   \n",
       "\n",
       "      host_is_superhost                                 host_thumbnail_url  \\\n",
       "12602                 t  https://a0.muscache.com/im/pictures/user/1de4e...   \n",
       "1171                  t  https://a0.muscache.com/im/pictures/user/6bf41...   \n",
       "\n",
       "                                        host_picture_url  \\\n",
       "12602  https://a0.muscache.com/im/pictures/user/1de4e...   \n",
       "1171   https://a0.muscache.com/im/pictures/user/6bf41...   \n",
       "\n",
       "                                      host_verifications host_has_profile_pic  \\\n",
       "12602  ['email', 'phone', 'offline_government_id', 's...                    t   \n",
       "1171                       ['email', 'phone', 'reviews']                    t   \n",
       "\n",
       "      host_identity_verified                        street  \\\n",
       "12602                      f    Kita City, Tōkyō-to, Japan   \n",
       "1171                       f  Shinjuku-ku, Tōkyō-to, Japan   \n",
       "\n",
       "      neighbourhood_cleansed         city     state   zipcode market  \\\n",
       "12602                Kita Ku    Kita City  Tōkyō-to  114-0014  Tokyo   \n",
       "1171             Shinjuku Ku  Shinjuku-ku  Tōkyō-to  169-0074  Tokyo   \n",
       "\n",
       "           smart_location country_code country is_location_exact  \\\n",
       "12602    Kita City, Japan           JP   Japan                 t   \n",
       "1171   Shinjuku-ku, Japan           JP   Japan                 t   \n",
       "\n",
       "      property_type        room_type  bed_type  \\\n",
       "12602     Apartment  Entire home/apt  Real Bed   \n",
       "1171      Apartment  Entire home/apt  Real Bed   \n",
       "\n",
       "                                               amenities minimum_nights  \\\n",
       "12602  {TV,Wifi,\"Air conditioning\",Kitchen,Washer,\"Sm...              2   \n",
       "1171   {TV,Internet,Wifi,\"Air conditioning\",Kitchen,H...              1   \n",
       "\n",
       "      maximum_nights calendar_updated has_availability calendar_last_scraped  \\\n",
       "12602           1125      4 weeks ago                t            2020-06-26   \n",
       "1171              20      4 weeks ago                t            2020-06-26   \n",
       "\n",
       "      requires_license instant_bookable is_business_travel_ready  \\\n",
       "12602                t                t                        f   \n",
       "1171                 t                t                        f   \n",
       "\n",
       "               cancellation_policy require_guest_profile_picture  \\\n",
       "12602  strict_14_with_grace_period                             f   \n",
       "1171   strict_14_with_grace_period                             f   \n",
       "\n",
       "      require_guest_phone_verification first_review last_review  latitude  \\\n",
       "12602                                f   2020-01-30  2020-03-30    35.735   \n",
       "1171                                 f   2016-11-21  2020-02-22    35.702   \n",
       "\n",
       "       longitude  bathrooms   price  extra_people  minimum_nights_avg_ntm  \\\n",
       "12602    139.758      1.000 479.510         0.000                   7.300   \n",
       "1171     139.695      1.000 115.248         0.000                   1.000   \n",
       "\n",
       "       maximum_nights_avg_ntm  accommodates  guests_included  \\\n",
       "12602                1125.000             6                1   \n",
       "1171                 1125.000             2                2   \n",
       "\n",
       "       minimum_minimum_nights  maximum_minimum_nights  minimum_maximum_nights  \\\n",
       "12602                       2                      30                    1125   \n",
       "1171                        1                       1                    1125   \n",
       "\n",
       "       maximum_maximum_nights  availability_30  availability_60  \\\n",
       "12602                    1125               15               45   \n",
       "1171                     1125               11               17   \n",
       "\n",
       "       availability_90  availability_365  number_of_reviews  \\\n",
       "12602               75               349                  4   \n",
       "1171                17                17                148   \n",
       "\n",
       "       number_of_reviews_ltm  calculated_host_listings_count  \\\n",
       "12602                      4                               7   \n",
       "1171                      20                              11   \n",
       "\n",
       "       calculated_host_listings_count_entire_homes  bedrooms  beds  \\\n",
       "12602                                            7         2     3   \n",
       "1171                                            11         0     1   \n",
       "\n",
       "       calculated_host_listings_count_private_rooms  \\\n",
       "12602                                             0   \n",
       "1171                                              0   \n",
       "\n",
       "       calculated_host_listings_count_shared_rooms  host_listings_count  \\\n",
       "12602                                            0                    7   \n",
       "1171                                             0                   11   \n",
       "\n",
       "       host_total_listings_count  security_deposit  review_scores_checkin  \\\n",
       "12602                          7             0.000                 10.000   \n",
       "1171                          11           144.000                 10.000   \n",
       "\n",
       "       reviews_per_month  host_response_rate  host_acceptance_rate  \\\n",
       "12602              0.810             100.000               100.000   \n",
       "1171               3.380             100.000                99.000   \n",
       "\n",
       "       review_scores_rating  review_scores_cleanliness  review_scores_value  \\\n",
       "12602               100.000                     10.000                9.000   \n",
       "1171                 98.000                     10.000                9.000   \n",
       "\n",
       "       review_scores_accuracy  review_scores_communication  \\\n",
       "12602                  10.000                       10.000   \n",
       "1171                   10.000                       10.000   \n",
       "\n",
       "       review_scores_location  cleaning_fee  \n",
       "12602                  10.000       134.400  \n",
       "1171                   10.000        52.800  "
      ]
     },
     "execution_count": 121,
     "metadata": {},
     "output_type": "execute_result"
    }
   ],
   "source": [
    "df.head(2)"
   ]
  },
  {
   "cell_type": "code",
   "execution_count": 122,
   "metadata": {},
   "outputs": [
    {
     "data": {
      "text/plain": [
       "<pandas.core.groupby.generic.DataFrameGroupBy object at 0x7fca2a635890>"
      ]
     },
     "execution_count": 122,
     "metadata": {},
     "output_type": "execute_result"
    }
   ],
   "source": [
    "# first groupby\n",
    "group_rooms = df.groupby('room_type')\n",
    "group_rooms"
   ]
  },
  {
   "cell_type": "code",
   "execution_count": 123,
   "metadata": {},
   "outputs": [
    {
     "data": {
      "text/plain": [
       "<pandas.core.groupby.generic.SeriesGroupBy object at 0x7fca2a04ae10>"
      ]
     },
     "execution_count": 123,
     "metadata": {},
     "output_type": "execute_result"
    }
   ],
   "source": [
    "# select one column\n",
    "a_column = group_rooms['accommodates']\n",
    "a_column"
   ]
  },
  {
   "cell_type": "code",
   "execution_count": 124,
   "metadata": {},
   "outputs": [
    {
     "data": {
      "text/plain": [
       "room_type\n",
       "Entire home/apt    20\n",
       "Hotel room         16\n",
       "Private room       16\n",
       "Shared room        16\n",
       "Name: accommodates, dtype: int32"
      ]
     },
     "execution_count": 124,
     "metadata": {},
     "output_type": "execute_result"
    }
   ],
   "source": [
    "# perform a computation on the column\n",
    "a_column.max()"
   ]
  },
  {
   "cell_type": "code",
   "execution_count": 128,
   "metadata": {
    "scrolled": true
   },
   "outputs": [
    {
     "data": {
      "text/plain": [
       "room_type        accommodates\n",
       "Entire home/apt  2              0.277\n",
       "                 4              0.248\n",
       "                 6              0.129\n",
       "                 3              0.103\n",
       "                 8              0.069\n",
       "                 5              0.059\n",
       "                 10             0.030\n",
       "                 7              0.028\n",
       "                 12             0.013\n",
       "                 9              0.013\n",
       "                 16             0.010\n",
       "                 1              0.007\n",
       "                 11             0.005\n",
       "                 14             0.004\n",
       "                 13             0.003\n",
       "                 15             0.002\n",
       "                 18             0.000\n",
       "                 20             0.000\n",
       "Hotel room       2              0.367\n",
       "                 1              0.233\n",
       "                 4              0.148\n",
       "                 3              0.104\n",
       "                 6              0.060\n",
       "                 5              0.026\n",
       "                 16             0.018\n",
       "                 7              0.016\n",
       "                 8              0.011\n",
       "                 10             0.007\n",
       "                 9              0.002\n",
       "                 11             0.002\n",
       "                 12             0.002\n",
       "                 14             0.002\n",
       "                 13             0.001\n",
       "                 15             0.001\n",
       "Private room     2              0.609\n",
       "                 1              0.136\n",
       "                 4              0.088\n",
       "                 3              0.087\n",
       "                 6              0.023\n",
       "                 5              0.017\n",
       "                 16             0.011\n",
       "                 8              0.009\n",
       "                 7              0.006\n",
       "                 12             0.005\n",
       "                 10             0.004\n",
       "                 9              0.003\n",
       "                 11             0.001\n",
       "                 14             0.001\n",
       "                 15             0.001\n",
       "                 13             0.001\n",
       "Shared room      1              0.560\n",
       "                 2              0.202\n",
       "                 4              0.053\n",
       "                 6              0.036\n",
       "                 16             0.034\n",
       "                 3              0.029\n",
       "                 9              0.024\n",
       "                 8              0.020\n",
       "                 5              0.014\n",
       "                 10             0.012\n",
       "                 12             0.010\n",
       "                 7              0.002\n",
       "                 11             0.002\n",
       "                 14             0.002\n",
       "                 15             0.002\n",
       "Name: accommodates, dtype: float64"
      ]
     },
     "execution_count": 128,
     "metadata": {},
     "output_type": "execute_result"
    }
   ],
   "source": [
    "# you can call other pandas functions on that same column\n",
    "# here is the percentage of people each room accommodates\n",
    "a_column.value_counts(normalize=True)"
   ]
  },
  {
   "cell_type": "code",
   "execution_count": 129,
   "metadata": {},
   "outputs": [
    {
     "data": {
      "text/html": [
       "<div>\n",
       "<style scoped>\n",
       "    .dataframe tbody tr th:only-of-type {\n",
       "        vertical-align: middle;\n",
       "    }\n",
       "\n",
       "    .dataframe tbody tr th {\n",
       "        vertical-align: top;\n",
       "    }\n",
       "\n",
       "    .dataframe thead th {\n",
       "        text-align: right;\n",
       "    }\n",
       "</style>\n",
       "<table border=\"1\" class=\"dataframe\">\n",
       "  <thead>\n",
       "    <tr style=\"text-align: right;\">\n",
       "      <th></th>\n",
       "      <th>count</th>\n",
       "      <th>mean</th>\n",
       "      <th>std</th>\n",
       "      <th>min</th>\n",
       "      <th>25%</th>\n",
       "      <th>50%</th>\n",
       "      <th>75%</th>\n",
       "      <th>max</th>\n",
       "    </tr>\n",
       "    <tr>\n",
       "      <th>room_type</th>\n",
       "      <th></th>\n",
       "      <th></th>\n",
       "      <th></th>\n",
       "      <th></th>\n",
       "      <th></th>\n",
       "      <th></th>\n",
       "      <th></th>\n",
       "      <th></th>\n",
       "    </tr>\n",
       "  </thead>\n",
       "  <tbody>\n",
       "    <tr>\n",
       "      <th>Entire home/apt</th>\n",
       "      <td>30393.000</td>\n",
       "      <td>216.213</td>\n",
       "      <td>578.488</td>\n",
       "      <td>0.000</td>\n",
       "      <td>58.862</td>\n",
       "      <td>96.317</td>\n",
       "      <td>185.162</td>\n",
       "      <td>17812.729</td>\n",
       "    </tr>\n",
       "    <tr>\n",
       "      <th>Hotel room</th>\n",
       "      <td>1051.000</td>\n",
       "      <td>226.003</td>\n",
       "      <td>764.297</td>\n",
       "      <td>12.298</td>\n",
       "      <td>49.237</td>\n",
       "      <td>94.154</td>\n",
       "      <td>162.221</td>\n",
       "      <td>8639.712</td>\n",
       "    </tr>\n",
       "    <tr>\n",
       "      <th>Private room</th>\n",
       "      <td>7709.000</td>\n",
       "      <td>85.219</td>\n",
       "      <td>392.382</td>\n",
       "      <td>0.000</td>\n",
       "      <td>27.827</td>\n",
       "      <td>43.037</td>\n",
       "      <td>73.731</td>\n",
       "      <td>18510.555</td>\n",
       "    </tr>\n",
       "    <tr>\n",
       "      <th>Shared room</th>\n",
       "      <td>589.000</td>\n",
       "      <td>51.049</td>\n",
       "      <td>115.072</td>\n",
       "      <td>8.576</td>\n",
       "      <td>21.287</td>\n",
       "      <td>28.694</td>\n",
       "      <td>37.910</td>\n",
       "      <td>1228.531</td>\n",
       "    </tr>\n",
       "  </tbody>\n",
       "</table>\n",
       "</div>"
      ],
      "text/plain": [
       "                    count    mean     std    min    25%    50%     75%  \\\n",
       "room_type                                                                \n",
       "Entire home/apt 30393.000 216.213 578.488  0.000 58.862 96.317 185.162   \n",
       "Hotel room       1051.000 226.003 764.297 12.298 49.237 94.154 162.221   \n",
       "Private room     7709.000  85.219 392.382  0.000 27.827 43.037  73.731   \n",
       "Shared room       589.000  51.049 115.072  8.576 21.287 28.694  37.910   \n",
       "\n",
       "                      max  \n",
       "room_type                  \n",
       "Entire home/apt 17812.729  \n",
       "Hotel room       8639.712  \n",
       "Private room    18510.555  \n",
       "Shared room      1228.531  "
      ]
     },
     "execution_count": 129,
     "metadata": {},
     "output_type": "execute_result"
    }
   ],
   "source": [
    "# you can also describe a column by the categories of your groupby object\n",
    "group_rooms['price'].describe()"
   ]
  },
  {
   "cell_type": "code",
   "execution_count": 130,
   "metadata": {},
   "outputs": [
    {
     "data": {
      "text/html": [
       "<div>\n",
       "<style scoped>\n",
       "    .dataframe tbody tr th:only-of-type {\n",
       "        vertical-align: middle;\n",
       "    }\n",
       "\n",
       "    .dataframe tbody tr th {\n",
       "        vertical-align: top;\n",
       "    }\n",
       "\n",
       "    .dataframe thead th {\n",
       "        text-align: right;\n",
       "    }\n",
       "</style>\n",
       "<table border=\"1\" class=\"dataframe\">\n",
       "  <thead>\n",
       "    <tr style=\"text-align: right;\">\n",
       "      <th></th>\n",
       "      <th>mean</th>\n",
       "      <th>count</th>\n",
       "      <th>max</th>\n",
       "      <th>min</th>\n",
       "      <th>var</th>\n",
       "      <th>std</th>\n",
       "    </tr>\n",
       "    <tr>\n",
       "      <th>room_type</th>\n",
       "      <th></th>\n",
       "      <th></th>\n",
       "      <th></th>\n",
       "      <th></th>\n",
       "      <th></th>\n",
       "      <th></th>\n",
       "    </tr>\n",
       "  </thead>\n",
       "  <tbody>\n",
       "    <tr>\n",
       "      <th>Entire home/apt</th>\n",
       "      <td>43.236</td>\n",
       "      <td>30393</td>\n",
       "      <td>3146.040</td>\n",
       "      <td>0.000</td>\n",
       "      <td>2016.500</td>\n",
       "      <td>44.905</td>\n",
       "    </tr>\n",
       "    <tr>\n",
       "      <th>Hotel room</th>\n",
       "      <td>13.538</td>\n",
       "      <td>1051</td>\n",
       "      <td>288.000</td>\n",
       "      <td>0.000</td>\n",
       "      <td>1033.311</td>\n",
       "      <td>32.145</td>\n",
       "    </tr>\n",
       "    <tr>\n",
       "      <th>Private room</th>\n",
       "      <td>21.248</td>\n",
       "      <td>7709</td>\n",
       "      <td>2468.000</td>\n",
       "      <td>0.000</td>\n",
       "      <td>1960.466</td>\n",
       "      <td>44.277</td>\n",
       "    </tr>\n",
       "    <tr>\n",
       "      <th>Shared room</th>\n",
       "      <td>10.802</td>\n",
       "      <td>589</td>\n",
       "      <td>291.300</td>\n",
       "      <td>0.000</td>\n",
       "      <td>415.174</td>\n",
       "      <td>20.376</td>\n",
       "    </tr>\n",
       "  </tbody>\n",
       "</table>\n",
       "</div>"
      ],
      "text/plain": [
       "                  mean  count      max   min      var    std\n",
       "room_type                                                   \n",
       "Entire home/apt 43.236  30393 3146.040 0.000 2016.500 44.905\n",
       "Hotel room      13.538   1051  288.000 0.000 1033.311 32.145\n",
       "Private room    21.248   7709 2468.000 0.000 1960.466 44.277\n",
       "Shared room     10.802    589  291.300 0.000  415.174 20.376"
      ]
     },
     "execution_count": 130,
     "metadata": {},
     "output_type": "execute_result"
    }
   ],
   "source": [
    "# in addition, you can be as specific as you want when specifying your aggregation methods\n",
    "group_rooms['cleaning_fee'].agg(['mean', 'count', 'max', 'min', 'var', 'std'])"
   ]
  },
  {
   "cell_type": "code",
   "execution_count": 131,
   "metadata": {},
   "outputs": [
    {
     "data": {
      "text/html": [
       "<div>\n",
       "<style scoped>\n",
       "    .dataframe tbody tr th:only-of-type {\n",
       "        vertical-align: middle;\n",
       "    }\n",
       "\n",
       "    .dataframe tbody tr th {\n",
       "        vertical-align: top;\n",
       "    }\n",
       "\n",
       "    .dataframe thead tr th {\n",
       "        text-align: left;\n",
       "    }\n",
       "\n",
       "    .dataframe thead tr:last-of-type th {\n",
       "        text-align: right;\n",
       "    }\n",
       "</style>\n",
       "<table border=\"1\" class=\"dataframe\">\n",
       "  <thead>\n",
       "    <tr>\n",
       "      <th></th>\n",
       "      <th colspan=\"6\" halign=\"left\">accommodates</th>\n",
       "      <th colspan=\"6\" halign=\"left\">beds</th>\n",
       "    </tr>\n",
       "    <tr>\n",
       "      <th></th>\n",
       "      <th>mean</th>\n",
       "      <th>count</th>\n",
       "      <th>max</th>\n",
       "      <th>min</th>\n",
       "      <th>var</th>\n",
       "      <th>std</th>\n",
       "      <th>mean</th>\n",
       "      <th>count</th>\n",
       "      <th>max</th>\n",
       "      <th>min</th>\n",
       "      <th>var</th>\n",
       "      <th>std</th>\n",
       "    </tr>\n",
       "    <tr>\n",
       "      <th>room_type</th>\n",
       "      <th></th>\n",
       "      <th></th>\n",
       "      <th></th>\n",
       "      <th></th>\n",
       "      <th></th>\n",
       "      <th></th>\n",
       "      <th></th>\n",
       "      <th></th>\n",
       "      <th></th>\n",
       "      <th></th>\n",
       "      <th></th>\n",
       "      <th></th>\n",
       "    </tr>\n",
       "  </thead>\n",
       "  <tbody>\n",
       "    <tr>\n",
       "      <th>Entire home/apt</th>\n",
       "      <td>4.597</td>\n",
       "      <td>30393</td>\n",
       "      <td>20</td>\n",
       "      <td>1</td>\n",
       "      <td>7.711</td>\n",
       "      <td>2.777</td>\n",
       "      <td>2.721</td>\n",
       "      <td>30393</td>\n",
       "      <td>56</td>\n",
       "      <td>0</td>\n",
       "      <td>4.417</td>\n",
       "      <td>2.102</td>\n",
       "    </tr>\n",
       "    <tr>\n",
       "      <th>Hotel room</th>\n",
       "      <td>3.035</td>\n",
       "      <td>1051</td>\n",
       "      <td>16</td>\n",
       "      <td>1</td>\n",
       "      <td>6.828</td>\n",
       "      <td>2.613</td>\n",
       "      <td>2.295</td>\n",
       "      <td>1051</td>\n",
       "      <td>36</td>\n",
       "      <td>0</td>\n",
       "      <td>7.174</td>\n",
       "      <td>2.678</td>\n",
       "    </tr>\n",
       "    <tr>\n",
       "      <th>Private room</th>\n",
       "      <td>2.640</td>\n",
       "      <td>7709</td>\n",
       "      <td>16</td>\n",
       "      <td>1</td>\n",
       "      <td>4.520</td>\n",
       "      <td>2.126</td>\n",
       "      <td>1.802</td>\n",
       "      <td>7709</td>\n",
       "      <td>50</td>\n",
       "      <td>0</td>\n",
       "      <td>7.873</td>\n",
       "      <td>2.806</td>\n",
       "    </tr>\n",
       "    <tr>\n",
       "      <th>Shared room</th>\n",
       "      <td>2.784</td>\n",
       "      <td>589</td>\n",
       "      <td>16</td>\n",
       "      <td>1</td>\n",
       "      <td>11.942</td>\n",
       "      <td>3.456</td>\n",
       "      <td>3.377</td>\n",
       "      <td>589</td>\n",
       "      <td>40</td>\n",
       "      <td>0</td>\n",
       "      <td>20.062</td>\n",
       "      <td>4.479</td>\n",
       "    </tr>\n",
       "  </tbody>\n",
       "</table>\n",
       "</div>"
      ],
      "text/plain": [
       "                accommodates                              beds                 \\\n",
       "                        mean  count max min    var   std  mean  count max min   \n",
       "room_type                                                                       \n",
       "Entire home/apt        4.597  30393  20   1  7.711 2.777 2.721  30393  56   0   \n",
       "Hotel room             3.035   1051  16   1  6.828 2.613 2.295   1051  36   0   \n",
       "Private room           2.640   7709  16   1  4.520 2.126 1.802   7709  50   0   \n",
       "Shared room            2.784    589  16   1 11.942 3.456 3.377    589  40   0   \n",
       "\n",
       "                              \n",
       "                   var   std  \n",
       "room_type                     \n",
       "Entire home/apt  4.417 2.102  \n",
       "Hotel room       7.174 2.678  \n",
       "Private room     7.873 2.806  \n",
       "Shared room     20.062 4.479  "
      ]
     },
     "execution_count": 131,
     "metadata": {},
     "output_type": "execute_result"
    }
   ],
   "source": [
    "# multiple columns will give you multiple levels between your columns and aggregations\n",
    "group_rooms[['accommodates', 'beds']].agg(['mean', 'count', 'max', 'min', 'var', 'std'])"
   ]
  },
  {
   "cell_type": "code",
   "execution_count": 132,
   "metadata": {},
   "outputs": [
    {
     "data": {
      "text/plain": [
       "room_type        cancellation_policy        \n",
       "Entire home/apt  flexible                       567\n",
       "                 luxury_moderate                  0\n",
       "                 luxury_super_strict_95           0\n",
       "                 moderate                       480\n",
       "                 strict                          22\n",
       "                 strict_14_with_grace_period    546\n",
       "                 super_strict_30                109\n",
       "                 super_strict_60                143\n",
       "Hotel room       flexible                       164\n",
       "                 moderate                       407\n",
       "                 strict_14_with_grace_period    222\n",
       "                 super_strict_30                 17\n",
       "                 super_strict_60                 16\n",
       "Private room     flexible                       290\n",
       "                 moderate                       373\n",
       "                 strict                          15\n",
       "                 strict_14_with_grace_period    319\n",
       "                 super_strict_30                  8\n",
       "Shared room      flexible                       299\n",
       "                 moderate                       207\n",
       "                 strict_14_with_grace_period    264\n",
       "Name: number_of_reviews, dtype: int32"
      ]
     },
     "execution_count": 132,
     "metadata": {},
     "output_type": "execute_result"
    }
   ],
   "source": [
    "# you can also get multiple levels on the indeces with the groupby call\n",
    "rooms_cancel_policy = df.groupby(['room_type', 'cancellation_policy'])\n",
    "rooms_cancel_policy['number_of_reviews'].max()"
   ]
  },
  {
   "cell_type": "code",
   "execution_count": 133,
   "metadata": {},
   "outputs": [
    {
     "data": {
      "text/html": [
       "<div>\n",
       "<style scoped>\n",
       "    .dataframe tbody tr th:only-of-type {\n",
       "        vertical-align: middle;\n",
       "    }\n",
       "\n",
       "    .dataframe tbody tr th {\n",
       "        vertical-align: top;\n",
       "    }\n",
       "\n",
       "    .dataframe thead th {\n",
       "        text-align: right;\n",
       "    }\n",
       "</style>\n",
       "<table border=\"1\" class=\"dataframe\">\n",
       "  <thead>\n",
       "    <tr style=\"text-align: right;\">\n",
       "      <th></th>\n",
       "      <th></th>\n",
       "      <th>price</th>\n",
       "      <th>cleaning_fee</th>\n",
       "      <th>security_deposit</th>\n",
       "      <th>extra_people</th>\n",
       "    </tr>\n",
       "    <tr>\n",
       "      <th>host_identity_verified</th>\n",
       "      <th>instant_bookable</th>\n",
       "      <th></th>\n",
       "      <th></th>\n",
       "      <th></th>\n",
       "      <th></th>\n",
       "    </tr>\n",
       "  </thead>\n",
       "  <tbody>\n",
       "    <tr>\n",
       "      <th rowspan=\"2\" valign=\"top\">f</th>\n",
       "      <th>f</th>\n",
       "      <td>156.903</td>\n",
       "      <td>27.765</td>\n",
       "      <td>9255.000</td>\n",
       "      <td>0.000</td>\n",
       "    </tr>\n",
       "    <tr>\n",
       "      <th>t</th>\n",
       "      <td>218.381</td>\n",
       "      <td>31.868</td>\n",
       "      <td>5376.000</td>\n",
       "      <td>0.000</td>\n",
       "    </tr>\n",
       "    <tr>\n",
       "      <th rowspan=\"2\" valign=\"top\">t</th>\n",
       "      <th>f</th>\n",
       "      <td>148.401</td>\n",
       "      <td>28.800</td>\n",
       "      <td>5351.426</td>\n",
       "      <td>0.000</td>\n",
       "    </tr>\n",
       "    <tr>\n",
       "      <th>t</th>\n",
       "      <td>177.821</td>\n",
       "      <td>30.788</td>\n",
       "      <td>5259.715</td>\n",
       "      <td>0.000</td>\n",
       "    </tr>\n",
       "  </tbody>\n",
       "</table>\n",
       "</div>"
      ],
      "text/plain": [
       "                                          price  cleaning_fee  \\\n",
       "host_identity_verified instant_bookable                         \n",
       "f                      f                156.903        27.765   \n",
       "                       t                218.381        31.868   \n",
       "t                      f                148.401        28.800   \n",
       "                       t                177.821        30.788   \n",
       "\n",
       "                                         security_deposit  extra_people  \n",
       "host_identity_verified instant_bookable                                  \n",
       "f                      f                         9255.000         0.000  \n",
       "                       t                         5376.000         0.000  \n",
       "t                      f                         5351.426         0.000  \n",
       "                       t                         5259.715         0.000  "
      ]
     },
     "execution_count": 133,
     "metadata": {},
     "output_type": "execute_result"
    }
   ],
   "source": [
    "# we can also aggregate specific columns\n",
    "specific_group = df.groupby(['host_identity_verified', 'instant_bookable'])\n",
    "specific_group.agg({\n",
    "    'price':'mean',\n",
    "    'cleaning_fee':'median',\n",
    "    'security_deposit': 'max',\n",
    "    'extra_people': 'min'\n",
    "})"
   ]
  },
  {
   "cell_type": "markdown",
   "metadata": {},
   "source": [
    "## Exercise\n",
    "\n",
    "- Create a pivot table with at least one index variable, two columns, and 3 aggregation methods."
   ]
  },
  {
   "cell_type": "code",
   "execution_count": null,
   "metadata": {},
   "outputs": [],
   "source": []
  },
  {
   "cell_type": "markdown",
   "metadata": {},
   "source": [
    "## Exercise\n",
    "\n",
    "- Create a pivot table with a multi-index, one quantitative variable as the values, and 1 aggregation method."
   ]
  },
  {
   "cell_type": "code",
   "execution_count": null,
   "metadata": {},
   "outputs": [],
   "source": []
  },
  {
   "cell_type": "markdown",
   "metadata": {},
   "source": [
    "## Exercise\n",
    "\n",
    "- Create a groupby object with 4 aggregation methods for 4 different columns."
   ]
  },
  {
   "cell_type": "code",
   "execution_count": null,
   "metadata": {},
   "outputs": [],
   "source": []
  },
  {
   "cell_type": "markdown",
   "metadata": {},
   "source": [
    "## Exercise\n",
    "\n",
    "- Create a groupby object with a 2-level index, 3 columns, and 1 aggregation method."
   ]
  },
  {
   "cell_type": "code",
   "execution_count": null,
   "metadata": {},
   "outputs": [],
   "source": []
  },
  {
   "cell_type": "markdown",
   "metadata": {},
   "source": [
    "# 5. Summary"
   ]
  },
  {
   "cell_type": "markdown",
   "metadata": {},
   "source": [
    "We have covered a lot in this module, so let's go over a few of the things we covered\n",
    "\n",
    "- The three main branches of statistics, collecting, describing and inferring from data, at a high level\n",
    "- A variety of techniques to deal with missing data\n",
    "- The shape and form of how data, structured and unstructured, might be collected\n",
    "- Different approaches for collecting data through sampling, observation and experimentation\n",
    "- The characteristics of measures of central tendency and measures of variability and what each describes\n",
    "- In-depth descriptive statistics and how to calculate these with plain Python\n",
    "- We also covered a variety of aggregation, or cross-tabulation methods with `pivot_table()` and the `.groupby()` functions\n",
    "    - The best way to think of `.groupby()` is by stating: _for each \"category or group\" I'm interested in, show me \"x\" column(s) aggregated by \"z\" method\n",
    "    - The `pivot_table()` function provides us with a different kind of control over the way we cross-tabulate data"
   ]
  },
  {
   "cell_type": "markdown",
   "metadata": {},
   "source": [
    "# 6. References"
   ]
  },
  {
   "cell_type": "markdown",
   "metadata": {},
   "source": [
    "Herne, H., & Huff, D. (1973). _How to Lie with Statistics_. Applied Statistics, 22(3), 401. doi: 10.2307/2346789\n",
    "\n",
    "Downey, Allen B. _Think Stats: Exploratory Data Analysis in Python_. Green Tea Press, 2014.\n",
    "\n",
    "Lock, Robin H., et al. _Statistics: Unlocking the Power of Data_. John Wiley & Sons, 2019."
   ]
  },
  {
   "cell_type": "markdown",
   "metadata": {},
   "source": [
    "# 7. Feedback"
   ]
  },
  {
   "cell_type": "markdown",
   "metadata": {},
   "source": [
    "We would really appreciate it if you could please provide us with your feedback from this module by filling out a couple of question.\n",
    "\n",
    "> ## [Survey](https://docs.google.com/forms/d/e/1FAIpQLSex72vQxeZGB5OBooLJ_mDsSsdKw0vbejM-3zND2-i1fIBlSQ/viewform?usp=sf_link)"
   ]
  }
 ],
 "metadata": {
  "kernelspec": {
   "display_name": "Python 3",
   "language": "python",
   "name": "python3"
  },
  "language_info": {
   "codemirror_mode": {
    "name": "ipython",
    "version": 3
   },
   "file_extension": ".py",
   "mimetype": "text/x-python",
   "name": "python",
   "nbconvert_exporter": "python",
   "pygments_lexer": "ipython3",
   "version": "3.7.7"
  }
 },
 "nbformat": 4,
 "nbformat_minor": 4
}
